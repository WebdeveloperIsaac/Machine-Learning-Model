{
 "cells": [
  {
   "cell_type": "markdown",
   "id": "a611d1b1",
   "metadata": {
    "papermill": {
     "duration": 0.005765,
     "end_time": "2022-11-20T18:00:32.401314",
     "exception": false,
     "start_time": "2022-11-20T18:00:32.395549",
     "status": "completed"
    },
    "tags": []
   },
   "source": [
    "**This notebook is an exercise in the [SQL](https://www.kaggle.com/learn/intro-to-sql) course.  You can reference the tutorial at [this link](https://www.kaggle.com/dansbecker/getting-started-with-sql-and-bigquery).**\n",
    "\n",
    "---\n"
   ]
  },
  {
   "cell_type": "markdown",
   "id": "cca156fa",
   "metadata": {
    "papermill": {
     "duration": 0.004277,
     "end_time": "2022-11-20T18:00:32.410453",
     "exception": false,
     "start_time": "2022-11-20T18:00:32.406176",
     "status": "completed"
    },
    "tags": []
   },
   "source": [
    "# Introduction\n",
    "\n",
    "The first test of your new data exploration skills uses data describing crime in the city of Chicago.\n",
    "\n",
    "Before you get started, run the following cell. It sets up the automated feedback system to review your answers."
   ]
  },
  {
   "cell_type": "code",
   "execution_count": 1,
   "id": "54fce19a",
   "metadata": {
    "execution": {
     "iopub.execute_input": "2022-11-20T18:00:32.422623Z",
     "iopub.status.busy": "2022-11-20T18:00:32.421849Z",
     "iopub.status.idle": "2022-11-20T18:00:33.479505Z",
     "shell.execute_reply": "2022-11-20T18:00:33.478091Z"
    },
    "papermill": {
     "duration": 1.068564,
     "end_time": "2022-11-20T18:00:33.483963",
     "exception": false,
     "start_time": "2022-11-20T18:00:32.415399",
     "status": "completed"
    },
    "tags": []
   },
   "outputs": [
    {
     "name": "stdout",
     "output_type": "stream",
     "text": [
      "Using Kaggle's public dataset BigQuery integration.\n",
      "Setup Complete\n"
     ]
    }
   ],
   "source": [
    "# Set up feedack system\n",
    "from learntools.core import binder\n",
    "binder.bind(globals())\n",
    "from learntools.sql.ex1 import *\n",
    "print(\"Setup Complete\")"
   ]
  },
  {
   "cell_type": "markdown",
   "id": "984d8157",
   "metadata": {
    "papermill": {
     "duration": 0.00454,
     "end_time": "2022-11-20T18:00:33.493677",
     "exception": false,
     "start_time": "2022-11-20T18:00:33.489137",
     "status": "completed"
    },
    "tags": []
   },
   "source": [
    "Use the next code cell to fetch the dataset."
   ]
  },
  {
   "cell_type": "code",
   "execution_count": 2,
   "id": "6371021f",
   "metadata": {
    "execution": {
     "iopub.execute_input": "2022-11-20T18:00:33.506932Z",
     "iopub.status.busy": "2022-11-20T18:00:33.506475Z",
     "iopub.status.idle": "2022-11-20T18:00:33.873463Z",
     "shell.execute_reply": "2022-11-20T18:00:33.872204Z"
    },
    "papermill": {
     "duration": 0.37629,
     "end_time": "2022-11-20T18:00:33.876658",
     "exception": false,
     "start_time": "2022-11-20T18:00:33.500368",
     "status": "completed"
    },
    "tags": []
   },
   "outputs": [
    {
     "name": "stdout",
     "output_type": "stream",
     "text": [
      "Using Kaggle's public dataset BigQuery integration.\n"
     ]
    }
   ],
   "source": [
    "from google.cloud import bigquery\n",
    "\n",
    "# Create a \"Client\" object\n",
    "client = bigquery.Client()\n",
    "\n",
    "# Construct a reference to the \"chicago_crime\" dataset\n",
    "dataset_ref = client.dataset(\"chicago_crime\", project=\"bigquery-public-data\")\n",
    "\n",
    "# API request - fetch the dataset\n",
    "dataset = client.get_dataset(dataset_ref)"
   ]
  },
  {
   "cell_type": "markdown",
   "id": "adc520d2",
   "metadata": {
    "papermill": {
     "duration": 0.004612,
     "end_time": "2022-11-20T18:00:33.886844",
     "exception": false,
     "start_time": "2022-11-20T18:00:33.882232",
     "status": "completed"
    },
    "tags": []
   },
   "source": [
    "# Exercises\n",
    "\n",
    "### 1) Count tables in the dataset\n",
    "\n",
    "How many tables are in the Chicago Crime dataset?"
   ]
  },
  {
   "cell_type": "code",
   "execution_count": 3,
   "id": "0372aa7c",
   "metadata": {
    "execution": {
     "iopub.execute_input": "2022-11-20T18:00:33.899129Z",
     "iopub.status.busy": "2022-11-20T18:00:33.898232Z",
     "iopub.status.idle": "2022-11-20T18:00:34.134036Z",
     "shell.execute_reply": "2022-11-20T18:00:34.132289Z"
    },
    "papermill": {
     "duration": 0.244722,
     "end_time": "2022-11-20T18:00:34.136895",
     "exception": false,
     "start_time": "2022-11-20T18:00:33.892173",
     "status": "completed"
    },
    "tags": []
   },
   "outputs": [
    {
     "name": "stdout",
     "output_type": "stream",
     "text": [
      "1\n"
     ]
    }
   ],
   "source": [
    "# Write the code you need here to figure out the answer\n",
    "tables = list(client.list_tables(dataset))\n",
    "print(len(tables))"
   ]
  },
  {
   "cell_type": "code",
   "execution_count": 4,
   "id": "8a90d658",
   "metadata": {
    "execution": {
     "iopub.execute_input": "2022-11-20T18:00:34.148833Z",
     "iopub.status.busy": "2022-11-20T18:00:34.148360Z",
     "iopub.status.idle": "2022-11-20T18:00:34.158151Z",
     "shell.execute_reply": "2022-11-20T18:00:34.157179Z"
    },
    "papermill": {
     "duration": 0.018331,
     "end_time": "2022-11-20T18:00:34.160255",
     "exception": false,
     "start_time": "2022-11-20T18:00:34.141924",
     "status": "completed"
    },
    "tags": []
   },
   "outputs": [
    {
     "data": {
      "application/javascript": [
       "parent.postMessage({\"jupyterEvent\": \"custom.exercise_interaction\", \"data\": {\"outcomeType\": 1, \"valueTowardsCompletion\": 0.3333333333333333, \"interactionType\": 1, \"questionType\": 1, \"questionId\": \"1_CountTables\", \"learnToolsVersion\": \"0.3.4\", \"failureMessage\": \"\", \"exceptionClass\": \"\", \"trace\": \"\"}}, \"*\")"
      ],
      "text/plain": [
       "<IPython.core.display.Javascript object>"
      ]
     },
     "metadata": {},
     "output_type": "display_data"
    },
    {
     "data": {
      "text/markdown": [
       "<span style=\"color:#33cc33\">Correct</span>"
      ],
      "text/plain": [
       "Correct"
      ]
     },
     "metadata": {},
     "output_type": "display_data"
    }
   ],
   "source": [
    "num_tables = 1  # Store the answer as num_tables and then run this cell\n",
    "\n",
    "# Check your answer\n",
    "q_1.check()"
   ]
  },
  {
   "cell_type": "markdown",
   "id": "a43dcaf5",
   "metadata": {
    "papermill": {
     "duration": 0.004833,
     "end_time": "2022-11-20T18:00:34.170229",
     "exception": false,
     "start_time": "2022-11-20T18:00:34.165396",
     "status": "completed"
    },
    "tags": []
   },
   "source": [
    "### 2) Explore the table schema\n",
    "\n",
    "How many columns in the `crime` table have `TIMESTAMP` data?"
   ]
  },
  {
   "cell_type": "code",
   "execution_count": 5,
   "id": "e28843e8",
   "metadata": {
    "execution": {
     "iopub.execute_input": "2022-11-20T18:00:34.184400Z",
     "iopub.status.busy": "2022-11-20T18:00:34.183759Z",
     "iopub.status.idle": "2022-11-20T18:00:34.188145Z",
     "shell.execute_reply": "2022-11-20T18:00:34.186978Z"
    },
    "papermill": {
     "duration": 0.015595,
     "end_time": "2022-11-20T18:00:34.190879",
     "exception": false,
     "start_time": "2022-11-20T18:00:34.175284",
     "status": "completed"
    },
    "tags": []
   },
   "outputs": [],
   "source": [
    "# Write the code to figure out the answer\n",
    "table_ref =dataset_ref.table(\"crime\")"
   ]
  },
  {
   "cell_type": "code",
   "execution_count": 6,
   "id": "33d7ccc5",
   "metadata": {
    "execution": {
     "iopub.execute_input": "2022-11-20T18:00:34.203666Z",
     "iopub.status.busy": "2022-11-20T18:00:34.203201Z",
     "iopub.status.idle": "2022-11-20T18:00:34.473136Z",
     "shell.execute_reply": "2022-11-20T18:00:34.472057Z"
    },
    "papermill": {
     "duration": 0.278899,
     "end_time": "2022-11-20T18:00:34.475536",
     "exception": false,
     "start_time": "2022-11-20T18:00:34.196637",
     "status": "completed"
    },
    "tags": []
   },
   "outputs": [
    {
     "name": "stdout",
     "output_type": "stream",
     "text": [
      "[SchemaField('unique_key', 'INTEGER', 'REQUIRED', None, (), None), SchemaField('case_number', 'STRING', 'NULLABLE', None, (), None), SchemaField('date', 'TIMESTAMP', 'NULLABLE', None, (), None), SchemaField('block', 'STRING', 'NULLABLE', None, (), None), SchemaField('iucr', 'STRING', 'NULLABLE', None, (), None), SchemaField('primary_type', 'STRING', 'NULLABLE', None, (), None), SchemaField('description', 'STRING', 'NULLABLE', None, (), None), SchemaField('location_description', 'STRING', 'NULLABLE', None, (), None), SchemaField('arrest', 'BOOLEAN', 'NULLABLE', None, (), None), SchemaField('domestic', 'BOOLEAN', 'NULLABLE', None, (), None), SchemaField('beat', 'INTEGER', 'NULLABLE', None, (), None), SchemaField('district', 'INTEGER', 'NULLABLE', None, (), None), SchemaField('ward', 'INTEGER', 'NULLABLE', None, (), None), SchemaField('community_area', 'INTEGER', 'NULLABLE', None, (), None), SchemaField('fbi_code', 'STRING', 'NULLABLE', None, (), None), SchemaField('x_coordinate', 'FLOAT', 'NULLABLE', None, (), None), SchemaField('y_coordinate', 'FLOAT', 'NULLABLE', None, (), None), SchemaField('year', 'INTEGER', 'NULLABLE', None, (), None), SchemaField('updated_on', 'TIMESTAMP', 'NULLABLE', None, (), None), SchemaField('latitude', 'FLOAT', 'NULLABLE', None, (), None), SchemaField('longitude', 'FLOAT', 'NULLABLE', None, (), None), SchemaField('location', 'STRING', 'NULLABLE', None, (), None)]\n"
     ]
    },
    {
     "data": {
      "application/javascript": [
       "parent.postMessage({\"jupyterEvent\": \"custom.exercise_interaction\", \"data\": {\"outcomeType\": 1, \"valueTowardsCompletion\": 0.3333333333333333, \"interactionType\": 1, \"questionType\": 1, \"questionId\": \"2_CountTimestampFields\", \"learnToolsVersion\": \"0.3.4\", \"failureMessage\": \"\", \"exceptionClass\": \"\", \"trace\": \"\"}}, \"*\")"
      ],
      "text/plain": [
       "<IPython.core.display.Javascript object>"
      ]
     },
     "metadata": {},
     "output_type": "display_data"
    },
    {
     "data": {
      "text/markdown": [
       "<span style=\"color:#33cc33\">Correct</span>"
      ],
      "text/plain": [
       "Correct"
      ]
     },
     "metadata": {},
     "output_type": "display_data"
    }
   ],
   "source": [
    "# API request - fetch the table\n",
    "table = client.get_table(table_ref)\n",
    "\n",
    "# Print information on all the columns in the \"crime\" table in the \"chicago_crime\" dataset\n",
    "print(table.schema)\n",
    "\n",
    "num_timestamp_fields = 2\n",
    "\n",
    "# Check your answer\n",
    "q_2.check()"
   ]
  },
  {
   "cell_type": "markdown",
   "id": "261448f1",
   "metadata": {
    "papermill": {
     "duration": 0.005233,
     "end_time": "2022-11-20T18:00:34.486105",
     "exception": false,
     "start_time": "2022-11-20T18:00:34.480872",
     "status": "completed"
    },
    "tags": []
   },
   "source": [
    "For a hint or the solution, uncomment the appropriate line below."
   ]
  },
  {
   "cell_type": "markdown",
   "id": "2daf004c",
   "metadata": {
    "papermill": {
     "duration": 0.005105,
     "end_time": "2022-11-20T18:00:34.496589",
     "exception": false,
     "start_time": "2022-11-20T18:00:34.491484",
     "status": "completed"
    },
    "tags": []
   },
   "source": [
    "### 3) Create a crime map\n",
    "\n",
    "If you wanted to create a map with a dot at the location of each crime, what are the names of the two fields you likely need to pull out of the `crime` table to plot the crimes on a map?"
   ]
  },
  {
   "cell_type": "code",
   "execution_count": 7,
   "id": "bd17e92d",
   "metadata": {
    "execution": {
     "iopub.execute_input": "2022-11-20T18:00:34.511631Z",
     "iopub.status.busy": "2022-11-20T18:00:34.511092Z",
     "iopub.status.idle": "2022-11-20T18:00:34.519372Z",
     "shell.execute_reply": "2022-11-20T18:00:34.517768Z"
    },
    "papermill": {
     "duration": 0.019434,
     "end_time": "2022-11-20T18:00:34.522857",
     "exception": false,
     "start_time": "2022-11-20T18:00:34.503423",
     "status": "completed"
    },
    "tags": []
   },
   "outputs": [],
   "source": [
    "# Write the code here to explore the data so you can find the answer"
   ]
  },
  {
   "cell_type": "code",
   "execution_count": 8,
   "id": "9aebee28",
   "metadata": {
    "execution": {
     "iopub.execute_input": "2022-11-20T18:00:34.541638Z",
     "iopub.status.busy": "2022-11-20T18:00:34.541086Z",
     "iopub.status.idle": "2022-11-20T18:00:34.551498Z",
     "shell.execute_reply": "2022-11-20T18:00:34.550437Z"
    },
    "papermill": {
     "duration": 0.022903,
     "end_time": "2022-11-20T18:00:34.554923",
     "exception": false,
     "start_time": "2022-11-20T18:00:34.532020",
     "status": "completed"
    },
    "tags": []
   },
   "outputs": [
    {
     "data": {
      "application/javascript": [
       "parent.postMessage({\"jupyterEvent\": \"custom.exercise_interaction\", \"data\": {\"outcomeType\": 1, \"valueTowardsCompletion\": 0.3333333333333333, \"interactionType\": 1, \"questionType\": 2, \"questionId\": \"3_IdentifyFieldsForPlotting\", \"learnToolsVersion\": \"0.3.4\", \"failureMessage\": \"\", \"exceptionClass\": \"\", \"trace\": \"\"}}, \"*\")"
      ],
      "text/plain": [
       "<IPython.core.display.Javascript object>"
      ]
     },
     "metadata": {},
     "output_type": "display_data"
    },
    {
     "data": {
      "text/markdown": [
       "<span style=\"color:#33cc33\">Correct</span>"
      ],
      "text/plain": [
       "Correct"
      ]
     },
     "metadata": {},
     "output_type": "display_data"
    }
   ],
   "source": [
    "fields_for_plotting = ['latitude', 'longitude']# Put your answers here\n",
    "\n",
    "# Check your answer\n",
    "q_3.check()"
   ]
  },
  {
   "cell_type": "markdown",
   "id": "343ba500",
   "metadata": {
    "papermill": {
     "duration": 0.006829,
     "end_time": "2022-11-20T18:00:34.571262",
     "exception": false,
     "start_time": "2022-11-20T18:00:34.564433",
     "status": "completed"
    },
    "tags": []
   },
   "source": [
    "For a hint or the solution, uncomment the appropriate line below."
   ]
  },
  {
   "cell_type": "markdown",
   "id": "b814520a",
   "metadata": {
    "papermill": {
     "duration": 0.005651,
     "end_time": "2022-11-20T18:00:34.584247",
     "exception": false,
     "start_time": "2022-11-20T18:00:34.578596",
     "status": "completed"
    },
    "tags": []
   },
   "source": [
    "Thinking about the question above, there are a few columns that appear to have geographic data. Look at a few values (with the `list_rows()` command) to see if you can determine their relationship.  Two columns will still be hard to interpret. But it should be obvious how the `location` column relates to `latitude` and `longitude`."
   ]
  },
  {
   "cell_type": "code",
   "execution_count": 9,
   "id": "5ef8188c",
   "metadata": {
    "execution": {
     "iopub.execute_input": "2022-11-20T18:00:34.600524Z",
     "iopub.status.busy": "2022-11-20T18:00:34.600101Z",
     "iopub.status.idle": "2022-11-20T18:00:34.606026Z",
     "shell.execute_reply": "2022-11-20T18:00:34.604511Z"
    },
    "papermill": {
     "duration": 0.017083,
     "end_time": "2022-11-20T18:00:34.608325",
     "exception": false,
     "start_time": "2022-11-20T18:00:34.591242",
     "status": "completed"
    },
    "tags": []
   },
   "outputs": [],
   "source": [
    "# Scratch space for your code"
   ]
  },
  {
   "cell_type": "markdown",
   "id": "68a7643c",
   "metadata": {
    "papermill": {
     "duration": 0.005474,
     "end_time": "2022-11-20T18:00:34.619601",
     "exception": false,
     "start_time": "2022-11-20T18:00:34.614127",
     "status": "completed"
    },
    "tags": []
   },
   "source": [
    "# Keep going\n",
    "\n",
    "You've looked at the schema, but you haven't yet done anything exciting with the data itself. Things get more interesting when you get to the data, so keep going to **[write your first SQL query](https://www.kaggle.com/dansbecker/select-from-where).**"
   ]
  },
  {
   "cell_type": "markdown",
   "id": "76b4a1ff",
   "metadata": {
    "papermill": {
     "duration": 0.005739,
     "end_time": "2022-11-20T18:00:34.631033",
     "exception": false,
     "start_time": "2022-11-20T18:00:34.625294",
     "status": "completed"
    },
    "tags": []
   },
   "source": [
    "---\n",
    "\n",
    "\n",
    "\n",
    "\n",
    "*Have questions or comments? Visit the [course discussion forum](https://www.kaggle.com/learn/intro-to-sql/discussion) to chat with other learners.*"
   ]
  }
 ],
 "metadata": {
  "kernelspec": {
   "display_name": "Python 3",
   "language": "python",
   "name": "python3"
  },
  "language_info": {
   "codemirror_mode": {
    "name": "ipython",
    "version": 3
   },
   "file_extension": ".py",
   "mimetype": "text/x-python",
   "name": "python",
   "nbconvert_exporter": "python",
   "pygments_lexer": "ipython3",
   "version": "3.7.12"
  },
  "papermill": {
   "default_parameters": {},
   "duration": 11.787558,
   "end_time": "2022-11-20T18:00:35.358973",
   "environment_variables": {},
   "exception": null,
   "input_path": "__notebook__.ipynb",
   "output_path": "__notebook__.ipynb",
   "parameters": {},
   "start_time": "2022-11-20T18:00:23.571415",
   "version": "2.3.4"
  }
 },
 "nbformat": 4,
 "nbformat_minor": 5
}
