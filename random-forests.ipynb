{
 "cells": [
  {
   "cell_type": "markdown",
   "id": "108f3776",
   "metadata": {
    "execution": {
     "iopub.execute_input": "2022-09-10T17:56:31.435184Z",
     "iopub.status.busy": "2022-09-10T17:56:31.434777Z",
     "iopub.status.idle": "2022-09-10T17:56:31.444095Z",
     "shell.execute_reply": "2022-09-10T17:56:31.442181Z",
     "shell.execute_reply.started": "2022-09-10T17:56:31.435153Z"
    },
    "papermill": {
     "duration": 0.003036,
     "end_time": "2022-09-10T17:57:34.050995",
     "exception": false,
     "start_time": "2022-09-10T17:57:34.047959",
     "status": "completed"
    },
    "tags": []
   },
   "source": [
    "**This notebook is an exercise in the [Introduction to Machine Learning](https://www.kaggle.com/learn/intro-to-machine-learning) course.  You can reference the tutorial at [this link](https://www.kaggle.com/dansbecker/random-forests).**\n",
    "\n",
    "---\n"
   ]
  },
  {
   "cell_type": "markdown",
   "id": "4a3fb6a7",
   "metadata": {
    "papermill": {
     "duration": 0.00198,
     "end_time": "2022-09-10T17:57:34.055326",
     "exception": false,
     "start_time": "2022-09-10T17:57:34.053346",
     "status": "completed"
    },
    "tags": []
   },
   "source": [
    "## Recap\n",
    "Here's the code you've written so far."
   ]
  },
  {
   "cell_type": "code",
   "execution_count": 1,
   "id": "038f7e09",
   "metadata": {
    "execution": {
     "iopub.execute_input": "2022-09-10T17:57:34.061915Z",
     "iopub.status.busy": "2022-09-10T17:57:34.061384Z",
     "iopub.status.idle": "2022-09-10T17:57:35.764822Z",
     "shell.execute_reply": "2022-09-10T17:57:35.763507Z"
    },
    "papermill": {
     "duration": 1.709582,
     "end_time": "2022-09-10T17:57:35.767075",
     "exception": false,
     "start_time": "2022-09-10T17:57:34.057493",
     "status": "completed"
    },
    "tags": []
   },
   "outputs": [
    {
     "name": "stdout",
     "output_type": "stream",
     "text": [
      "Validation MAE when not specifying max_leaf_nodes: 29,653\n",
      "Validation MAE for best value of max_leaf_nodes: 27,283\n",
      "\n",
      "Setup complete\n"
     ]
    }
   ],
   "source": [
    "# Code you have previously used to load data\n",
    "import pandas as pd\n",
    "from sklearn.metrics import mean_absolute_error\n",
    "from sklearn.model_selection import train_test_split\n",
    "from sklearn.tree import DecisionTreeRegressor\n",
    "\n",
    "\n",
    "# Path of the file to read\n",
    "iowa_file_path = '../input/home-data-for-ml-course/train.csv'\n",
    "\n",
    "home_data = pd.read_csv(iowa_file_path)\n",
    "# Create target object and call it y\n",
    "y = home_data.SalePrice\n",
    "# Create X\n",
    "features = ['LotArea', 'YearBuilt', '1stFlrSF', '2ndFlrSF', 'FullBath', 'BedroomAbvGr', 'TotRmsAbvGrd']\n",
    "X = home_data[features]\n",
    "\n",
    "# Split into validation and training data\n",
    "train_X, val_X, train_y, val_y = train_test_split(X, y, random_state=1)\n",
    "\n",
    "# Specify Model\n",
    "iowa_model = DecisionTreeRegressor(random_state=1)\n",
    "# Fit Model\n",
    "iowa_model.fit(train_X, train_y)\n",
    "\n",
    "# Make validation predictions and calculate mean absolute error\n",
    "val_predictions = iowa_model.predict(val_X)\n",
    "val_mae = mean_absolute_error(val_predictions, val_y)\n",
    "print(\"Validation MAE when not specifying max_leaf_nodes: {:,.0f}\".format(val_mae))\n",
    "\n",
    "# Using best value for max_leaf_nodes\n",
    "iowa_model = DecisionTreeRegressor(max_leaf_nodes=100, random_state=1)\n",
    "iowa_model.fit(train_X, train_y)\n",
    "val_predictions = iowa_model.predict(val_X)\n",
    "val_mae = mean_absolute_error(val_predictions, val_y)\n",
    "print(\"Validation MAE for best value of max_leaf_nodes: {:,.0f}\".format(val_mae))\n",
    "\n",
    "\n",
    "# Set up code checking\n",
    "from learntools.core import binder\n",
    "binder.bind(globals())\n",
    "from learntools.machine_learning.ex6 import *\n",
    "print(\"\\nSetup complete\")"
   ]
  },
  {
   "cell_type": "markdown",
   "id": "6336987e",
   "metadata": {
    "papermill": {
     "duration": 0.002258,
     "end_time": "2022-09-10T17:57:35.772613",
     "exception": false,
     "start_time": "2022-09-10T17:57:35.770355",
     "status": "completed"
    },
    "tags": []
   },
   "source": [
    "# Exercises\n",
    "Data science isn't always this easy. But replacing the decision tree with a Random Forest is going to be an easy win."
   ]
  },
  {
   "cell_type": "markdown",
   "id": "9b8ee02c",
   "metadata": {
    "papermill": {
     "duration": 0.002292,
     "end_time": "2022-09-10T17:57:35.777341",
     "exception": false,
     "start_time": "2022-09-10T17:57:35.775049",
     "status": "completed"
    },
    "tags": []
   },
   "source": [
    "## Step 1: Use a Random Forest"
   ]
  },
  {
   "cell_type": "code",
   "execution_count": 2,
   "id": "2be25165",
   "metadata": {
    "execution": {
     "iopub.execute_input": "2022-09-10T17:57:35.783895Z",
     "iopub.status.busy": "2022-09-10T17:57:35.783419Z",
     "iopub.status.idle": "2022-09-10T17:57:36.263770Z",
     "shell.execute_reply": "2022-09-10T17:57:36.262154Z"
    },
    "papermill": {
     "duration": 0.487104,
     "end_time": "2022-09-10T17:57:36.266788",
     "exception": false,
     "start_time": "2022-09-10T17:57:35.779684",
     "status": "completed"
    },
    "tags": []
   },
   "outputs": [
    {
     "name": "stdout",
     "output_type": "stream",
     "text": [
      "Validation MAE for Random Forest Model: 21857.15912981083\n"
     ]
    },
    {
     "data": {
      "application/javascript": [
       "parent.postMessage({\"jupyterEvent\": \"custom.exercise_interaction\", \"data\": {\"outcomeType\": 1, \"valueTowardsCompletion\": 1.0, \"interactionType\": 1, \"questionType\": 2, \"questionId\": \"1_CheckRfScore\", \"learnToolsVersion\": \"0.3.4\", \"failureMessage\": \"\", \"exceptionClass\": \"\", \"trace\": \"\"}}, \"*\")"
      ],
      "text/plain": [
       "<IPython.core.display.Javascript object>"
      ]
     },
     "metadata": {},
     "output_type": "display_data"
    },
    {
     "data": {
      "text/markdown": [
       "<span style=\"color:#33cc33\">Correct</span>"
      ],
      "text/plain": [
       "Correct"
      ]
     },
     "metadata": {},
     "output_type": "display_data"
    }
   ],
   "source": [
    "from sklearn.ensemble import RandomForestRegressor\n",
    "\n",
    "# Define the model. Set random_state to 1\n",
    "rf_model = RandomForestRegressor(random_state=1)\n",
    "\n",
    "# fit your model\n",
    "rf_model.fit(train_X,train_y)\n",
    "\n",
    "# Calculate the mean absolute error of your Random Forest model on the validation data\n",
    "rf_preds = rf_model.predict(val_X)\n",
    "rf_val_mae = mean_absolute_error(val_y, rf_preds)\n",
    "\n",
    "print(\"Validation MAE for Random Forest Model: {}\".format(rf_val_mae))\n",
    "\n",
    "# Check your answer\n",
    "step_1.check()"
   ]
  },
  {
   "cell_type": "code",
   "execution_count": 3,
   "id": "76035041",
   "metadata": {
    "execution": {
     "iopub.execute_input": "2022-09-10T17:57:36.274291Z",
     "iopub.status.busy": "2022-09-10T17:57:36.273872Z",
     "iopub.status.idle": "2022-09-10T17:57:36.278829Z",
     "shell.execute_reply": "2022-09-10T17:57:36.277660Z"
    },
    "papermill": {
     "duration": 0.011439,
     "end_time": "2022-09-10T17:57:36.281132",
     "exception": false,
     "start_time": "2022-09-10T17:57:36.269693",
     "status": "completed"
    },
    "tags": []
   },
   "outputs": [],
   "source": [
    "# The lines below will show you a hint or the solution.\n",
    "# step_1.hint() \n"
   ]
  },
  {
   "cell_type": "markdown",
   "id": "5fb7bc62",
   "metadata": {
    "papermill": {
     "duration": 0.002383,
     "end_time": "2022-09-10T17:57:36.286680",
     "exception": false,
     "start_time": "2022-09-10T17:57:36.284297",
     "status": "completed"
    },
    "tags": []
   },
   "source": [
    "So far, you have followed specific instructions at each step of your project. This helped learn key ideas and build your first model, but now you know enough to try things on your own. \n",
    "\n",
    "Machine Learning competitions are a great way to try your own ideas and learn more as you independently navigate a machine learning project. \n",
    "\n",
    "# Keep Going\n",
    "\n",
    "You are ready for **[Machine Learning Competitions](https://www.kaggle.com/alexisbcook/machine-learning-competitions).**\n"
   ]
  },
  {
   "cell_type": "markdown",
   "id": "f6254d4a",
   "metadata": {
    "papermill": {
     "duration": 0.002312,
     "end_time": "2022-09-10T17:57:36.291767",
     "exception": false,
     "start_time": "2022-09-10T17:57:36.289455",
     "status": "completed"
    },
    "tags": []
   },
   "source": [
    "---\n",
    "\n",
    "\n",
    "\n",
    "\n",
    "*Have questions or comments? Visit the [course discussion forum](https://www.kaggle.com/learn/intro-to-machine-learning/discussion) to chat with other learners.*"
   ]
  }
 ],
 "metadata": {
  "kernelspec": {
   "display_name": "Python 3",
   "language": "python",
   "name": "python3"
  },
  "language_info": {
   "codemirror_mode": {
    "name": "ipython",
    "version": 3
   },
   "file_extension": ".py",
   "mimetype": "text/x-python",
   "name": "python",
   "nbconvert_exporter": "python",
   "pygments_lexer": "ipython3",
   "version": "3.7.12"
  },
  "papermill": {
   "default_parameters": {},
   "duration": 11.96267,
   "end_time": "2022-09-10T17:57:37.016802",
   "environment_variables": {},
   "exception": null,
   "input_path": "__notebook__.ipynb",
   "output_path": "__notebook__.ipynb",
   "parameters": {},
   "start_time": "2022-09-10T17:57:25.054132",
   "version": "2.3.4"
  }
 },
 "nbformat": 4,
 "nbformat_minor": 5
}
