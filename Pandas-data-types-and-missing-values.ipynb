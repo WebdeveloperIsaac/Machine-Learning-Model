{
 "cells": [
  {
   "cell_type": "markdown",
   "id": "b286c370",
   "metadata": {
    "papermill": {
     "duration": 0.005186,
     "end_time": "2022-09-13T15:01:43.134476",
     "exception": false,
     "start_time": "2022-09-13T15:01:43.129290",
     "status": "completed"
    },
    "tags": []
   },
   "source": [
    "**This notebook is an exercise in the [Pandas](https://www.kaggle.com/learn/pandas) course.  You can reference the tutorial at [this link](https://www.kaggle.com/residentmario/data-types-and-missing-values).**\n",
    "\n",
    "---\n"
   ]
  },
  {
   "cell_type": "markdown",
   "id": "db01a0c2",
   "metadata": {
    "papermill": {
     "duration": 0.003262,
     "end_time": "2022-09-13T15:01:43.141717",
     "exception": false,
     "start_time": "2022-09-13T15:01:43.138455",
     "status": "completed"
    },
    "tags": []
   },
   "source": [
    "# Introduction\n",
    "\n",
    "Run the following cell to load your data and some utility functions."
   ]
  },
  {
   "cell_type": "code",
   "execution_count": 1,
   "id": "cab1d7a0",
   "metadata": {
    "execution": {
     "iopub.execute_input": "2022-09-13T15:01:43.152516Z",
     "iopub.status.busy": "2022-09-13T15:01:43.151184Z",
     "iopub.status.idle": "2022-09-13T15:01:46.647354Z",
     "shell.execute_reply": "2022-09-13T15:01:46.645924Z"
    },
    "papermill": {
     "duration": 3.50556,
     "end_time": "2022-09-13T15:01:46.650944",
     "exception": false,
     "start_time": "2022-09-13T15:01:43.145384",
     "status": "completed"
    },
    "tags": []
   },
   "outputs": [
    {
     "name": "stdout",
     "output_type": "stream",
     "text": [
      "Setup complete.\n"
     ]
    }
   ],
   "source": [
    "import pandas as pd\n",
    "\n",
    "reviews = pd.read_csv(\"../input/wine-reviews/winemag-data-130k-v2.csv\", index_col=0)\n",
    "\n",
    "from learntools.core import binder; binder.bind(globals())\n",
    "from learntools.pandas.data_types_and_missing_data import *\n",
    "print(\"Setup complete.\")"
   ]
  },
  {
   "cell_type": "markdown",
   "id": "461f5932",
   "metadata": {
    "papermill": {
     "duration": 0.003419,
     "end_time": "2022-09-13T15:01:46.658203",
     "exception": false,
     "start_time": "2022-09-13T15:01:46.654784",
     "status": "completed"
    },
    "tags": []
   },
   "source": [
    "# Exercises"
   ]
  },
  {
   "cell_type": "markdown",
   "id": "59103ee1",
   "metadata": {
    "papermill": {
     "duration": 0.003348,
     "end_time": "2022-09-13T15:01:46.665150",
     "exception": false,
     "start_time": "2022-09-13T15:01:46.661802",
     "status": "completed"
    },
    "tags": []
   },
   "source": [
    "## 1. \n",
    "What is the data type of the `points` column in the dataset?"
   ]
  },
  {
   "cell_type": "code",
   "execution_count": 2,
   "id": "1ae15022",
   "metadata": {
    "execution": {
     "iopub.execute_input": "2022-09-13T15:01:46.674177Z",
     "iopub.status.busy": "2022-09-13T15:01:46.673698Z",
     "iopub.status.idle": "2022-09-13T15:01:46.687841Z",
     "shell.execute_reply": "2022-09-13T15:01:46.686623Z"
    },
    "papermill": {
     "duration": 0.021706,
     "end_time": "2022-09-13T15:01:46.690284",
     "exception": false,
     "start_time": "2022-09-13T15:01:46.668578",
     "status": "completed"
    },
    "tags": []
   },
   "outputs": [
    {
     "data": {
      "application/javascript": [
       "parent.postMessage({\"jupyterEvent\": \"custom.exercise_interaction\", \"data\": {\"outcomeType\": 1, \"valueTowardsCompletion\": 0.25, \"interactionType\": 1, \"questionType\": 1, \"questionId\": \"1_PointsDtype\", \"learnToolsVersion\": \"0.3.4\", \"failureMessage\": \"\", \"exceptionClass\": \"\", \"trace\": \"\"}}, \"*\")"
      ],
      "text/plain": [
       "<IPython.core.display.Javascript object>"
      ]
     },
     "metadata": {},
     "output_type": "display_data"
    },
    {
     "data": {
      "text/markdown": [
       "<span style=\"color:#33cc33\">Correct</span>"
      ],
      "text/plain": [
       "Correct"
      ]
     },
     "metadata": {},
     "output_type": "display_data"
    }
   ],
   "source": [
    "# Your code here\n",
    "dtype = reviews.points.dtype\n",
    "\n",
    "# Check your answer\n",
    "q1.check()"
   ]
  },
  {
   "cell_type": "markdown",
   "id": "36300641",
   "metadata": {
    "papermill": {
     "duration": 0.00376,
     "end_time": "2022-09-13T15:01:46.698191",
     "exception": false,
     "start_time": "2022-09-13T15:01:46.694431",
     "status": "completed"
    },
    "tags": []
   },
   "source": [
    "## 2. \n",
    "Create a Series from entries in the `points` column, but convert the entries to strings. Hint: strings are `str` in native Python."
   ]
  },
  {
   "cell_type": "code",
   "execution_count": 3,
   "id": "fa70f4e7",
   "metadata": {
    "execution": {
     "iopub.execute_input": "2022-09-13T15:01:46.708501Z",
     "iopub.status.busy": "2022-09-13T15:01:46.707552Z",
     "iopub.status.idle": "2022-09-13T15:01:46.793472Z",
     "shell.execute_reply": "2022-09-13T15:01:46.792159Z"
    },
    "papermill": {
     "duration": 0.094045,
     "end_time": "2022-09-13T15:01:46.796168",
     "exception": false,
     "start_time": "2022-09-13T15:01:46.702123",
     "status": "completed"
    },
    "tags": []
   },
   "outputs": [
    {
     "data": {
      "application/javascript": [
       "parent.postMessage({\"jupyterEvent\": \"custom.exercise_interaction\", \"data\": {\"outcomeType\": 1, \"valueTowardsCompletion\": 0.25, \"interactionType\": 1, \"questionType\": 1, \"questionId\": \"2_StrPoints\", \"learnToolsVersion\": \"0.3.4\", \"failureMessage\": \"\", \"exceptionClass\": \"\", \"trace\": \"\"}}, \"*\")"
      ],
      "text/plain": [
       "<IPython.core.display.Javascript object>"
      ]
     },
     "metadata": {},
     "output_type": "display_data"
    },
    {
     "data": {
      "text/markdown": [
       "<span style=\"color:#33cc33\">Correct</span>"
      ],
      "text/plain": [
       "Correct"
      ]
     },
     "metadata": {},
     "output_type": "display_data"
    }
   ],
   "source": [
    "point_strings = reviews.points.astype(\"str\")\n",
    "\n",
    "# Check your answer\n",
    "q2.check()"
   ]
  },
  {
   "cell_type": "markdown",
   "id": "882662d5",
   "metadata": {
    "papermill": {
     "duration": 0.004032,
     "end_time": "2022-09-13T15:01:46.804630",
     "exception": false,
     "start_time": "2022-09-13T15:01:46.800598",
     "status": "completed"
    },
    "tags": []
   },
   "source": [
    "## 3.\n",
    "Sometimes the price column is null. How many reviews in the dataset are missing a price?"
   ]
  },
  {
   "cell_type": "code",
   "execution_count": 4,
   "id": "c335795e",
   "metadata": {
    "execution": {
     "iopub.execute_input": "2022-09-13T15:01:46.815274Z",
     "iopub.status.busy": "2022-09-13T15:01:46.814689Z",
     "iopub.status.idle": "2022-09-13T15:01:46.838475Z",
     "shell.execute_reply": "2022-09-13T15:01:46.836945Z"
    },
    "papermill": {
     "duration": 0.032428,
     "end_time": "2022-09-13T15:01:46.841347",
     "exception": false,
     "start_time": "2022-09-13T15:01:46.808919",
     "status": "completed"
    },
    "tags": []
   },
   "outputs": [
    {
     "data": {
      "application/javascript": [
       "parent.postMessage({\"jupyterEvent\": \"custom.exercise_interaction\", \"data\": {\"outcomeType\": 1, \"valueTowardsCompletion\": 0.25, \"interactionType\": 1, \"questionType\": 1, \"questionId\": \"3_CountMissingPrices\", \"learnToolsVersion\": \"0.3.4\", \"failureMessage\": \"\", \"exceptionClass\": \"\", \"trace\": \"\"}}, \"*\")"
      ],
      "text/plain": [
       "<IPython.core.display.Javascript object>"
      ]
     },
     "metadata": {},
     "output_type": "display_data"
    },
    {
     "data": {
      "text/markdown": [
       "<span style=\"color:#33cc33\">Correct</span>"
      ],
      "text/plain": [
       "Correct"
      ]
     },
     "metadata": {},
     "output_type": "display_data"
    }
   ],
   "source": [
    "n_missing_prices = len(reviews[reviews.price.isnull()])\n",
    "\n",
    "# Check your answer\n",
    "q3.check()"
   ]
  },
  {
   "cell_type": "markdown",
   "id": "05adc956",
   "metadata": {
    "papermill": {
     "duration": 0.003959,
     "end_time": "2022-09-13T15:01:46.849658",
     "exception": false,
     "start_time": "2022-09-13T15:01:46.845699",
     "status": "completed"
    },
    "tags": []
   },
   "source": [
    "## 4.\n",
    "What are the most common wine-producing regions? Create a Series counting the number of times each value occurs in the `region_1` field. This field is often missing data, so replace missing values with `Unknown`. Sort in descending order.  Your output should look something like this:\n",
    "\n",
    "```\n",
    "Unknown                    21247\n",
    "Napa Valley                 4480\n",
    "                           ...  \n",
    "Bardolino Superiore            1\n",
    "Primitivo del Tarantino        1\n",
    "Name: region_1, Length: 1230, dtype: int64\n",
    "```"
   ]
  },
  {
   "cell_type": "code",
   "execution_count": 5,
   "id": "48a0df55",
   "metadata": {
    "execution": {
     "iopub.execute_input": "2022-09-13T15:01:46.860405Z",
     "iopub.status.busy": "2022-09-13T15:01:46.859909Z",
     "iopub.status.idle": "2022-09-13T15:01:46.905986Z",
     "shell.execute_reply": "2022-09-13T15:01:46.904721Z"
    },
    "papermill": {
     "duration": 0.054741,
     "end_time": "2022-09-13T15:01:46.908589",
     "exception": false,
     "start_time": "2022-09-13T15:01:46.853848",
     "status": "completed"
    },
    "tags": []
   },
   "outputs": [
    {
     "data": {
      "application/javascript": [
       "parent.postMessage({\"jupyterEvent\": \"custom.exercise_interaction\", \"data\": {\"outcomeType\": 1, \"valueTowardsCompletion\": 0.25, \"interactionType\": 1, \"questionType\": 2, \"questionId\": \"4_ReviewsPerRegion\", \"learnToolsVersion\": \"0.3.4\", \"failureMessage\": \"\", \"exceptionClass\": \"\", \"trace\": \"\"}}, \"*\")"
      ],
      "text/plain": [
       "<IPython.core.display.Javascript object>"
      ]
     },
     "metadata": {},
     "output_type": "display_data"
    },
    {
     "data": {
      "text/markdown": [
       "<span style=\"color:#33cc33\">Correct</span>"
      ],
      "text/plain": [
       "Correct"
      ]
     },
     "metadata": {},
     "output_type": "display_data"
    }
   ],
   "source": [
    "reviews_per_region = reviews.region_1.fillna('Unknown').value_counts().sort_values(ascending=False)\n",
    "\n",
    "\n",
    "q4.check()"
   ]
  }
 ],
 "metadata": {
  "kernelspec": {
   "display_name": "Python 3",
   "language": "python",
   "name": "python3"
  },
  "language_info": {
   "codemirror_mode": {
    "name": "ipython",
    "version": 3
   },
   "file_extension": ".py",
   "mimetype": "text/x-python",
   "name": "python",
   "nbconvert_exporter": "python",
   "pygments_lexer": "ipython3",
   "version": "3.7.12"
  },
  "papermill": {
   "default_parameters": {},
   "duration": 18.332589,
   "end_time": "2022-09-13T15:01:50.331548",
   "environment_variables": {},
   "exception": null,
   "input_path": "__notebook__.ipynb",
   "output_path": "__notebook__.ipynb",
   "parameters": {},
   "start_time": "2022-09-13T15:01:31.998959",
   "version": "2.3.4"
  }
 },
 "nbformat": 4,
 "nbformat_minor": 5
}
