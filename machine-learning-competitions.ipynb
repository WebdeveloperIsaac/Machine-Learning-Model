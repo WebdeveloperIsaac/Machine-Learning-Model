{
 "cells": [
  {
   "cell_type": "markdown",
   "id": "629dd051",
   "metadata": {
    "papermill": {
     "duration": 0.003888,
     "end_time": "2022-09-10T17:36:37.394571",
     "exception": false,
     "start_time": "2022-09-10T17:36:37.390683",
     "status": "completed"
    },
    "tags": []
   },
   "source": []
  },
  {
   "cell_type": "markdown",
   "id": "276a08c7",
   "metadata": {
    "papermill": {
     "duration": 0.00282,
     "end_time": "2022-09-10T17:36:37.400784",
     "exception": false,
     "start_time": "2022-09-10T17:36:37.397964",
     "status": "completed"
    },
    "tags": []
   },
   "source": [
    "# Introduction\n",
    "\n",
    "In this exercise, you will create and submit predictions for a Kaggle competition. You can then improve your model (e.g. by adding features) to apply what you've learned and move up the leaderboard.\n",
    "\n",
    "Begin by running the code cell below to set up code checking and the filepaths for the dataset."
   ]
  },
  {
   "cell_type": "code",
   "execution_count": 1,
   "id": "2b49616b",
   "metadata": {
    "execution": {
     "iopub.execute_input": "2022-09-10T17:36:37.409731Z",
     "iopub.status.busy": "2022-09-10T17:36:37.409321Z",
     "iopub.status.idle": "2022-09-10T17:36:37.463870Z",
     "shell.execute_reply": "2022-09-10T17:36:37.463162Z"
    },
    "papermill": {
     "duration": 0.062141,
     "end_time": "2022-09-10T17:36:37.466115",
     "exception": false,
     "start_time": "2022-09-10T17:36:37.403974",
     "status": "completed"
    },
    "tags": []
   },
   "outputs": [],
   "source": [
    "# Set up code checking\n",
    "from learntools.core import binder\n",
    "binder.bind(globals())\n",
    "from learntools.machine_learning.ex7 import *\n",
    "\n",
    "# Set up filepaths\n",
    "import os\n",
    "if not os.path.exists(\"../input/train.csv\"):\n",
    "    os.symlink(\"../input/home-data-for-ml-course/train.csv\", \"../input/train.csv\")  \n",
    "    os.symlink(\"../input/home-data-for-ml-course/test.csv\", \"../input/test.csv\") "
   ]
  },
  {
   "cell_type": "markdown",
   "id": "5996da08",
   "metadata": {
    "papermill": {
     "duration": 0.002763,
     "end_time": "2022-09-10T17:36:37.471960",
     "exception": false,
     "start_time": "2022-09-10T17:36:37.469197",
     "status": "completed"
    },
    "tags": []
   },
   "source": [
    "Here's some of the code you've written so far. Start by running it again."
   ]
  },
  {
   "cell_type": "code",
   "execution_count": 2,
   "id": "95006e0f",
   "metadata": {
    "execution": {
     "iopub.execute_input": "2022-09-10T17:36:37.479527Z",
     "iopub.status.busy": "2022-09-10T17:36:37.478964Z",
     "iopub.status.idle": "2022-09-10T17:36:39.270276Z",
     "shell.execute_reply": "2022-09-10T17:36:39.268862Z"
    },
    "papermill": {
     "duration": 1.797739,
     "end_time": "2022-09-10T17:36:39.272623",
     "exception": false,
     "start_time": "2022-09-10T17:36:37.474884",
     "status": "completed"
    },
    "tags": []
   },
   "outputs": [
    {
     "name": "stdout",
     "output_type": "stream",
     "text": [
      "Validation MAE for Random Forest Model: 21,857\n"
     ]
    }
   ],
   "source": [
    "# Import helpful libraries\n",
    "import pandas as pd\n",
    "from sklearn.ensemble import RandomForestRegressor\n",
    "from sklearn.metrics import mean_absolute_error\n",
    "from sklearn.model_selection import train_test_split\n",
    "\n",
    "# Load the data, and separate the target\n",
    "iowa_file_path = '../input/train.csv'\n",
    "home_data = pd.read_csv(iowa_file_path)\n",
    "y = home_data.SalePrice\n",
    "\n",
    "# Create X (After completing the exercise, you can return to modify this line!)\n",
    "features = ['LotArea', 'YearBuilt', '1stFlrSF', '2ndFlrSF', 'FullBath', 'BedroomAbvGr', 'TotRmsAbvGrd']\n",
    "\n",
    "# Select columns corresponding to features, and preview the data\n",
    "X = home_data[features]\n",
    "X.head()\n",
    "\n",
    "# Split into validation and training data\n",
    "train_X, val_X, train_y, val_y = train_test_split(X, y, random_state=1)\n",
    "\n",
    "# Define a random forest model\n",
    "rf_model = RandomForestRegressor(random_state=1)\n",
    "rf_model.fit(train_X, train_y)\n",
    "rf_val_predictions = rf_model.predict(val_X)\n",
    "rf_val_mae = mean_absolute_error(rf_val_predictions, val_y)\n",
    "\n",
    "print(\"Validation MAE for Random Forest Model: {:,.0f}\".format(rf_val_mae))"
   ]
  },
  {
   "cell_type": "markdown",
   "id": "fb773671",
   "metadata": {
    "papermill": {
     "duration": 0.002655,
     "end_time": "2022-09-10T17:36:39.278506",
     "exception": false,
     "start_time": "2022-09-10T17:36:39.275851",
     "status": "completed"
    },
    "tags": []
   },
   "source": [
    "# Train a model for the competition\n",
    "\n",
    "The code cell above trains a Random Forest model on **`train_X`** and **`train_y`**.  \n",
    "\n",
    "Use the code cell below to build a Random Forest model and train it on all of **`X`** and **`y`**."
   ]
  },
  {
   "cell_type": "code",
   "execution_count": 3,
   "id": "08ac8a12",
   "metadata": {
    "execution": {
     "iopub.execute_input": "2022-09-10T17:36:39.285623Z",
     "iopub.status.busy": "2022-09-10T17:36:39.285317Z",
     "iopub.status.idle": "2022-09-10T17:36:39.719036Z",
     "shell.execute_reply": "2022-09-10T17:36:39.717270Z"
    },
    "papermill": {
     "duration": 0.439593,
     "end_time": "2022-09-10T17:36:39.720936",
     "exception": false,
     "start_time": "2022-09-10T17:36:39.281343",
     "status": "completed"
    },
    "tags": []
   },
   "outputs": [
    {
     "data": {
      "text/markdown": [],
      "text/plain": [
       "<learntools.core.constants.PlaceholderValue at 0x7f081a21e2d0>"
      ]
     },
     "execution_count": 3,
     "metadata": {},
     "output_type": "execute_result"
    }
   ],
   "source": [
    "# To improve accuracy, create a new Random Forest model which you will train on all training data\n",
    "rf_model_on_full_data = RandomForestRegressor()\n",
    "rf_model_on_full_data.fit(X, y)\n",
    "# fit rf_model_on_full_data on all data from the training data\n",
    "____"
   ]
  },
  {
   "cell_type": "markdown",
   "id": "9eae5002",
   "metadata": {
    "papermill": {
     "duration": 0.002512,
     "end_time": "2022-09-10T17:36:39.726357",
     "exception": false,
     "start_time": "2022-09-10T17:36:39.723845",
     "status": "completed"
    },
    "tags": []
   },
   "source": []
  },
  {
   "cell_type": "code",
   "execution_count": 4,
   "id": "930236d6",
   "metadata": {
    "execution": {
     "iopub.execute_input": "2022-09-10T17:36:39.733203Z",
     "iopub.status.busy": "2022-09-10T17:36:39.732916Z",
     "iopub.status.idle": "2022-09-10T17:36:39.795531Z",
     "shell.execute_reply": "2022-09-10T17:36:39.793627Z"
    },
    "papermill": {
     "duration": 0.068625,
     "end_time": "2022-09-10T17:36:39.797642",
     "exception": false,
     "start_time": "2022-09-10T17:36:39.729017",
     "status": "completed"
    },
    "tags": []
   },
   "outputs": [],
   "source": [
    "# path to file you will use for predictions\n",
    "test_data_path = '../input/test.csv'\n",
    "\n",
    "# read test data file using pandas\n",
    "test_data = pd.read_csv(test_data_path)\n",
    "\n",
    "# create test_X which comes from test_data but includes only the columns you used for prediction.\n",
    "# The list of columns is stored in a variable called features\n",
    "test_X = test_data[features]\n",
    "\n",
    "# make predictions which we will submit. \n",
    "test_preds = rf_model_on_full_data.predict(test_X)"
   ]
  },
  {
   "cell_type": "markdown",
   "id": "117b6d3e",
   "metadata": {
    "papermill": {
     "duration": 0.002534,
     "end_time": "2022-09-10T17:36:39.803224",
     "exception": false,
     "start_time": "2022-09-10T17:36:39.800690",
     "status": "completed"
    },
    "tags": []
   },
   "source": [
    "Before submitting, run a check to make sure your `test_preds` have the right format."
   ]
  },
  {
   "cell_type": "code",
   "execution_count": 5,
   "id": "03396ae8",
   "metadata": {
    "execution": {
     "iopub.execute_input": "2022-09-10T17:36:39.810396Z",
     "iopub.status.busy": "2022-09-10T17:36:39.810069Z",
     "iopub.status.idle": "2022-09-10T17:36:39.817510Z",
     "shell.execute_reply": "2022-09-10T17:36:39.816298Z"
    },
    "papermill": {
     "duration": 0.01375,
     "end_time": "2022-09-10T17:36:39.819726",
     "exception": false,
     "start_time": "2022-09-10T17:36:39.805976",
     "status": "completed"
    },
    "tags": []
   },
   "outputs": [
    {
     "data": {
      "application/javascript": [
       "parent.postMessage({\"jupyterEvent\": \"custom.exercise_interaction\", \"data\": {\"outcomeType\": 1, \"valueTowardsCompletion\": 1.0, \"interactionType\": 1, \"questionType\": 2, \"questionId\": \"1_CheckSubmittablePreds\", \"learnToolsVersion\": \"0.3.4\", \"failureMessage\": \"\", \"exceptionClass\": \"\", \"trace\": \"\"}}, \"*\")"
      ],
      "text/plain": [
       "<IPython.core.display.Javascript object>"
      ]
     },
     "metadata": {},
     "output_type": "display_data"
    },
    {
     "data": {
      "text/markdown": [
       "<span style=\"color:#33cc33\">Correct</span>"
      ],
      "text/plain": [
       "Correct"
      ]
     },
     "metadata": {},
     "output_type": "display_data"
    }
   ],
   "source": [
    "# Check your answer (To get credit for completing the exercise, you must get a \"Correct\" result!)\n",
    "step_1.check()"
   ]
  },
  {
   "cell_type": "markdown",
   "id": "b22ce36c",
   "metadata": {
    "papermill": {
     "duration": 0.002751,
     "end_time": "2022-09-10T17:36:39.825829",
     "exception": false,
     "start_time": "2022-09-10T17:36:39.823078",
     "status": "completed"
    },
    "tags": []
   },
   "source": [
    "# Generate a submission\n",
    "\n",
    "Run the code cell below to generate a CSV file with your predictions that you can use to submit to the competition."
   ]
  },
  {
   "cell_type": "code",
   "execution_count": 6,
   "id": "3d1a11a5",
   "metadata": {
    "execution": {
     "iopub.execute_input": "2022-09-10T17:36:39.833233Z",
     "iopub.status.busy": "2022-09-10T17:36:39.832885Z",
     "iopub.status.idle": "2022-09-10T17:36:39.845512Z",
     "shell.execute_reply": "2022-09-10T17:36:39.844165Z"
    },
    "papermill": {
     "duration": 0.019219,
     "end_time": "2022-09-10T17:36:39.847902",
     "exception": false,
     "start_time": "2022-09-10T17:36:39.828683",
     "status": "completed"
    },
    "tags": []
   },
   "outputs": [],
   "source": [
    "# Run the code to save predictions in the format used for competition scoring\n",
    "\n",
    "output = pd.DataFrame({'Id': test_data.Id,\n",
    "                       'SalePrice': test_preds})\n",
    "output.to_csv('submission.csv', index=False)"
   ]
  },
  {
   "cell_type": "code",
   "execution_count": null,
   "id": "65777d97",
   "metadata": {
    "papermill": {
     "duration": 0.00283,
     "end_time": "2022-09-10T17:36:39.854194",
     "exception": false,
     "start_time": "2022-09-10T17:36:39.851364",
     "status": "completed"
    },
    "tags": []
   },
   "outputs": [],
   "source": []
  }
 ],
 "metadata": {
  "kernelspec": {
   "display_name": "Python 3",
   "language": "python",
   "name": "python3"
  },
  "language_info": {
   "codemirror_mode": {
    "name": "ipython",
    "version": 3
   },
   "file_extension": ".py",
   "mimetype": "text/x-python",
   "name": "python",
   "nbconvert_exporter": "python",
   "pygments_lexer": "ipython3",
   "version": "3.7.12"
  },
  "papermill": {
   "default_parameters": {},
   "duration": 12.484566,
   "end_time": "2022-09-10T17:36:40.577574",
   "environment_variables": {},
   "exception": null,
   "input_path": "__notebook__.ipynb",
   "output_path": "__notebook__.ipynb",
   "parameters": {},
   "start_time": "2022-09-10T17:36:28.093008",
   "version": "2.3.4"
  }
 },
 "nbformat": 4,
 "nbformat_minor": 5
}
