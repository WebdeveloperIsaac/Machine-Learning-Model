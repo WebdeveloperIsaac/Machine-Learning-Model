{
 "cells": [
  {
   "cell_type": "markdown",
   "id": "7a15b55d",
   "metadata": {
    "papermill": {
     "duration": 0.004271,
     "end_time": "2023-02-09T07:03:34.979126",
     "exception": false,
     "start_time": "2023-02-09T07:03:34.974855",
     "status": "completed"
    },
    "tags": []
   },
   "source": [
    "**This notebook is an exercise in the [Data Visualization](https://www.kaggle.com/learn/data-visualization) course.  You can reference the tutorial at [this link](https://www.kaggle.com/alexisbcook/final-project).**\n",
    "\n",
    "---\n"
   ]
  },
  {
   "cell_type": "code",
   "execution_count": 1,
   "id": "c641387d",
   "metadata": {
    "execution": {
     "iopub.execute_input": "2023-02-09T07:03:34.989398Z",
     "iopub.status.busy": "2023-02-09T07:03:34.987796Z",
     "iopub.status.idle": "2023-02-09T07:03:36.486164Z",
     "shell.execute_reply": "2023-02-09T07:03:36.484788Z"
    },
    "papermill": {
     "duration": 1.507222,
     "end_time": "2023-02-09T07:03:36.489924",
     "exception": false,
     "start_time": "2023-02-09T07:03:34.982702",
     "status": "completed"
    },
    "tags": []
   },
   "outputs": [
    {
     "name": "stdout",
     "output_type": "stream",
     "text": [
      "Setup Complete\n"
     ]
    }
   ],
   "source": [
    "import pandas as pd\n",
    "pd.plotting.register_matplotlib_converters()\n",
    "import matplotlib.pyplot as plt\n",
    "%matplotlib inline\n",
    "import seaborn as sns\n",
    "print(\"Setup Complete\")"
   ]
  },
  {
   "cell_type": "code",
   "execution_count": 2,
   "id": "f3af4d4c",
   "metadata": {
    "execution": {
     "iopub.execute_input": "2023-02-09T07:03:36.499044Z",
     "iopub.status.busy": "2023-02-09T07:03:36.498624Z",
     "iopub.status.idle": "2023-02-09T07:03:36.554633Z",
     "shell.execute_reply": "2023-02-09T07:03:36.553196Z"
    },
    "papermill": {
     "duration": 0.063516,
     "end_time": "2023-02-09T07:03:36.557387",
     "exception": false,
     "start_time": "2023-02-09T07:03:36.493871",
     "status": "completed"
    },
    "tags": []
   },
   "outputs": [
    {
     "name": "stdout",
     "output_type": "stream",
     "text": [
      "Setup Complete\n"
     ]
    }
   ],
   "source": [
    "# Set up code checking\n",
    "from learntools.core import binder\n",
    "binder.bind(globals())\n",
    "from learntools.data_viz_to_coder.ex7 import *\n",
    "print(\"Setup Complete\")"
   ]
  },
  {
   "cell_type": "code",
   "execution_count": 3,
   "id": "4974c2f9",
   "metadata": {
    "execution": {
     "iopub.execute_input": "2023-02-09T07:03:36.566780Z",
     "iopub.status.busy": "2023-02-09T07:03:36.566038Z",
     "iopub.status.idle": "2023-02-09T07:03:36.582171Z",
     "shell.execute_reply": "2023-02-09T07:03:36.580720Z"
    },
    "papermill": {
     "duration": 0.024061,
     "end_time": "2023-02-09T07:03:36.584982",
     "exception": false,
     "start_time": "2023-02-09T07:03:36.560921",
     "status": "completed"
    },
    "tags": []
   },
   "outputs": [
    {
     "data": {
      "application/javascript": [
       "parent.postMessage({\"jupyterEvent\": \"custom.exercise_interaction\", \"data\": {\"outcomeType\": 1, \"valueTowardsCompletion\": 0.25, \"interactionType\": 1, \"questionType\": 2, \"questionId\": \"1_AttachData\", \"learnToolsVersion\": \"0.3.4\", \"failureMessage\": \"\", \"exceptionClass\": \"\", \"trace\": \"\"}}, \"*\")"
      ],
      "text/plain": [
       "<IPython.core.display.Javascript object>"
      ]
     },
     "metadata": {},
     "output_type": "display_data"
    },
    {
     "data": {
      "text/markdown": [
       "<span style=\"color:#33cc33\">Correct:</span> \n",
       "\n"
      ],
      "text/plain": [
       "Correct: \n"
      ]
     },
     "metadata": {},
     "output_type": "display_data"
    }
   ],
   "source": [
    "# Check for a dataset with a CSV file\n",
    "step_1.check()"
   ]
  },
  {
   "cell_type": "code",
   "execution_count": 4,
   "id": "460e0786",
   "metadata": {
    "execution": {
     "iopub.execute_input": "2023-02-09T07:03:36.594222Z",
     "iopub.status.busy": "2023-02-09T07:03:36.593815Z",
     "iopub.status.idle": "2023-02-09T07:03:36.604339Z",
     "shell.execute_reply": "2023-02-09T07:03:36.603121Z"
    },
    "papermill": {
     "duration": 0.018533,
     "end_time": "2023-02-09T07:03:36.607310",
     "exception": false,
     "start_time": "2023-02-09T07:03:36.588777",
     "status": "completed"
    },
    "tags": []
   },
   "outputs": [
    {
     "data": {
      "application/javascript": [
       "parent.postMessage({\"jupyterEvent\": \"custom.exercise_interaction\", \"data\": {\"outcomeType\": 1, \"valueTowardsCompletion\": 0.25, \"interactionType\": 1, \"questionType\": 2, \"questionId\": \"2_Filepath\", \"learnToolsVersion\": \"0.3.4\", \"failureMessage\": \"\", \"exceptionClass\": \"\", \"trace\": \"\"}}, \"*\")"
      ],
      "text/plain": [
       "<IPython.core.display.Javascript object>"
      ]
     },
     "metadata": {},
     "output_type": "display_data"
    },
    {
     "data": {
      "text/markdown": [
       "<span style=\"color:#33cc33\">Correct:</span> \n",
       "\n"
      ],
      "text/plain": [
       "Correct: \n"
      ]
     },
     "metadata": {},
     "output_type": "display_data"
    }
   ],
   "source": [
    "# Fill in the line below: Specify the path of the CSV file to read\n",
    "my_filepath = \"/kaggle/input/spotify-top-10000-streamed-songs/Spotify_final_dataset.csv\"\n",
    "\n",
    "# Check for a valid filepath to a CSV file in a dataset\n",
    "step_2.check()"
   ]
  },
  {
   "cell_type": "markdown",
   "id": "0f69f419",
   "metadata": {
    "papermill": {
     "duration": 0.003918,
     "end_time": "2023-02-09T07:03:36.615300",
     "exception": false,
     "start_time": "2023-02-09T07:03:36.611382",
     "status": "completed"
    },
    "tags": []
   },
   "source": [
    "## Step 3: Load the data\n",
    "\n",
    "Use the next code cell to load your data file into `my_data`.  Use the filepath that you specified in the previous step."
   ]
  },
  {
   "cell_type": "code",
   "execution_count": 5,
   "id": "38b56b4b",
   "metadata": {
    "execution": {
     "iopub.execute_input": "2023-02-09T07:03:36.625936Z",
     "iopub.status.busy": "2023-02-09T07:03:36.625155Z",
     "iopub.status.idle": "2023-02-09T07:03:36.685845Z",
     "shell.execute_reply": "2023-02-09T07:03:36.684493Z"
    },
    "papermill": {
     "duration": 0.069152,
     "end_time": "2023-02-09T07:03:36.688601",
     "exception": false,
     "start_time": "2023-02-09T07:03:36.619449",
     "status": "completed"
    },
    "tags": []
   },
   "outputs": [
    {
     "data": {
      "application/javascript": [
       "parent.postMessage({\"jupyterEvent\": \"custom.exercise_interaction\", \"data\": {\"outcomeType\": 1, \"valueTowardsCompletion\": 0.25, \"interactionType\": 1, \"questionType\": 2, \"questionId\": \"3_LoadData\", \"learnToolsVersion\": \"0.3.4\", \"failureMessage\": \"\", \"exceptionClass\": \"\", \"trace\": \"\"}}, \"*\")"
      ],
      "text/plain": [
       "<IPython.core.display.Javascript object>"
      ]
     },
     "metadata": {},
     "output_type": "display_data"
    },
    {
     "data": {
      "text/markdown": [
       "<span style=\"color:#33cc33\">Correct:</span> \n",
       "\n"
      ],
      "text/plain": [
       "Correct: \n"
      ]
     },
     "metadata": {},
     "output_type": "display_data"
    }
   ],
   "source": [
    "# Fill in the line below: Read the file into a variable my_data\n",
    "my_data = pd.read_csv(\"/kaggle/input/spotify-top-10000-streamed-songs/Spotify_final_dataset.csv\")\n",
    "\n",
    "# Check that a dataset has been uploaded into my_data\n",
    "step_3.check()"
   ]
  },
  {
   "cell_type": "code",
   "execution_count": 6,
   "id": "d2858295",
   "metadata": {
    "execution": {
     "iopub.execute_input": "2023-02-09T07:03:36.698879Z",
     "iopub.status.busy": "2023-02-09T07:03:36.698389Z",
     "iopub.status.idle": "2023-02-09T07:03:36.723561Z",
     "shell.execute_reply": "2023-02-09T07:03:36.722452Z"
    },
    "papermill": {
     "duration": 0.033392,
     "end_time": "2023-02-09T07:03:36.726204",
     "exception": false,
     "start_time": "2023-02-09T07:03:36.692812",
     "status": "completed"
    },
    "tags": []
   },
   "outputs": [
    {
     "data": {
      "text/html": [
       "<div>\n",
       "<style scoped>\n",
       "    .dataframe tbody tr th:only-of-type {\n",
       "        vertical-align: middle;\n",
       "    }\n",
       "\n",
       "    .dataframe tbody tr th {\n",
       "        vertical-align: top;\n",
       "    }\n",
       "\n",
       "    .dataframe thead th {\n",
       "        text-align: right;\n",
       "    }\n",
       "</style>\n",
       "<table border=\"1\" class=\"dataframe\">\n",
       "  <thead>\n",
       "    <tr style=\"text-align: right;\">\n",
       "      <th></th>\n",
       "      <th>Position</th>\n",
       "      <th>Artist Name</th>\n",
       "      <th>Song Name</th>\n",
       "      <th>Days</th>\n",
       "      <th>Top 10 (xTimes)</th>\n",
       "      <th>Peak Position</th>\n",
       "      <th>Peak Position (xTimes)</th>\n",
       "      <th>Peak Streams</th>\n",
       "      <th>Total Streams</th>\n",
       "    </tr>\n",
       "  </thead>\n",
       "  <tbody>\n",
       "    <tr>\n",
       "      <th>0</th>\n",
       "      <td>1</td>\n",
       "      <td>Post Malone</td>\n",
       "      <td>Sunflower  SpiderMan: Into the SpiderVerse</td>\n",
       "      <td>1506</td>\n",
       "      <td>302.0</td>\n",
       "      <td>1</td>\n",
       "      <td>(x29)</td>\n",
       "      <td>2118242</td>\n",
       "      <td>883369738</td>\n",
       "    </tr>\n",
       "    <tr>\n",
       "      <th>1</th>\n",
       "      <td>2</td>\n",
       "      <td>Juice WRLD</td>\n",
       "      <td>Lucid Dreams</td>\n",
       "      <td>1673</td>\n",
       "      <td>178.0</td>\n",
       "      <td>1</td>\n",
       "      <td>(x20)</td>\n",
       "      <td>2127668</td>\n",
       "      <td>864832399</td>\n",
       "    </tr>\n",
       "    <tr>\n",
       "      <th>2</th>\n",
       "      <td>3</td>\n",
       "      <td>Lil Uzi Vert</td>\n",
       "      <td>XO TOUR Llif3</td>\n",
       "      <td>1853</td>\n",
       "      <td>212.0</td>\n",
       "      <td>1</td>\n",
       "      <td>(x4)</td>\n",
       "      <td>1660502</td>\n",
       "      <td>781153024</td>\n",
       "    </tr>\n",
       "    <tr>\n",
       "      <th>3</th>\n",
       "      <td>4</td>\n",
       "      <td>J. Cole</td>\n",
       "      <td>No Role Modelz</td>\n",
       "      <td>2547</td>\n",
       "      <td>6.0</td>\n",
       "      <td>7</td>\n",
       "      <td>0</td>\n",
       "      <td>659366</td>\n",
       "      <td>734857487</td>\n",
       "    </tr>\n",
       "    <tr>\n",
       "      <th>4</th>\n",
       "      <td>5</td>\n",
       "      <td>Post Malone</td>\n",
       "      <td>rockstar</td>\n",
       "      <td>1223</td>\n",
       "      <td>186.0</td>\n",
       "      <td>1</td>\n",
       "      <td>(x124)</td>\n",
       "      <td>2905678</td>\n",
       "      <td>718865961</td>\n",
       "    </tr>\n",
       "  </tbody>\n",
       "</table>\n",
       "</div>"
      ],
      "text/plain": [
       "   Position    Artist Name                                   Song Name  Days  \\\n",
       "0         1   Post Malone   Sunflower  SpiderMan: Into the SpiderVerse  1506   \n",
       "1         2    Juice WRLD                                 Lucid Dreams  1673   \n",
       "2         3  Lil Uzi Vert                                XO TOUR Llif3  1853   \n",
       "3         4       J. Cole                               No Role Modelz  2547   \n",
       "4         5   Post Malone                                     rockstar  1223   \n",
       "\n",
       "   Top 10 (xTimes)  Peak Position Peak Position (xTimes)  Peak Streams  \\\n",
       "0            302.0              1                  (x29)       2118242   \n",
       "1            178.0              1                  (x20)       2127668   \n",
       "2            212.0              1                   (x4)       1660502   \n",
       "3              6.0              7                      0        659366   \n",
       "4            186.0              1                 (x124)       2905678   \n",
       "\n",
       "   Total Streams  \n",
       "0      883369738  \n",
       "1      864832399  \n",
       "2      781153024  \n",
       "3      734857487  \n",
       "4      718865961  "
      ]
     },
     "execution_count": 6,
     "metadata": {},
     "output_type": "execute_result"
    }
   ],
   "source": [
    "# Print the first five rows of the data\n",
    "my_data.head()"
   ]
  },
  {
   "cell_type": "markdown",
   "id": "6116bb83",
   "metadata": {
    "papermill": {
     "duration": 0.004197,
     "end_time": "2023-02-09T07:03:36.734966",
     "exception": false,
     "start_time": "2023-02-09T07:03:36.730769",
     "status": "completed"
    },
    "tags": []
   },
   "source": [
    "## Step 4: Visualize the data\n",
    "\n",
    "Use the next code cell to create a figure that tells a story behind your dataset.  You can use any chart type (_line chart, bar chart, heatmap, etc_) of your choosing!"
   ]
  },
  {
   "cell_type": "code",
   "execution_count": 7,
   "id": "6f96bebd",
   "metadata": {
    "execution": {
     "iopub.execute_input": "2023-02-09T07:03:36.746081Z",
     "iopub.status.busy": "2023-02-09T07:03:36.745051Z",
     "iopub.status.idle": "2023-02-09T07:03:37.304217Z",
     "shell.execute_reply": "2023-02-09T07:03:37.302864Z"
    },
    "papermill": {
     "duration": 0.567614,
     "end_time": "2023-02-09T07:03:37.306902",
     "exception": false,
     "start_time": "2023-02-09T07:03:36.739288",
     "status": "completed"
    },
    "tags": []
   },
   "outputs": [
    {
     "name": "stderr",
     "output_type": "stream",
     "text": [
      "/opt/conda/lib/python3.7/site-packages/seaborn/distributions.py:2619: FutureWarning: `distplot` is a deprecated function and will be removed in a future version. Please adapt your code to use either `displot` (a figure-level function with similar flexibility) or `histplot` (an axes-level function for histograms).\n",
      "  warnings.warn(msg, FutureWarning)\n"
     ]
    },
    {
     "data": {
      "application/javascript": [
       "parent.postMessage({\"jupyterEvent\": \"custom.exercise_interaction\", \"data\": {\"outcomeType\": 1, \"valueTowardsCompletion\": 0.25, \"interactionType\": 1, \"questionType\": 2, \"questionId\": \"4_CreatePlot\", \"learnToolsVersion\": \"0.3.4\", \"failureMessage\": \"\", \"exceptionClass\": \"\", \"trace\": \"\"}}, \"*\")"
      ],
      "text/plain": [
       "<IPython.core.display.Javascript object>"
      ]
     },
     "metadata": {},
     "output_type": "display_data"
    },
    {
     "data": {
      "text/markdown": [
       "<span style=\"color:#33cc33\">Correct:</span> \n",
       "\n"
      ],
      "text/plain": [
       "Correct: \n"
      ]
     },
     "metadata": {},
     "output_type": "display_data"
    },
    {
     "data": {
      "image/png": "[encoded data removed]",
      "text/plain": [
       "<Figure size 432x288 with 1 Axes>"
      ]
     },
     "metadata": {
      "needs_background": "light"
     },
     "output_type": "display_data"
    }
   ],
   "source": [
    "# Create a plot\n",
    "sns.distplot(my_data['Position'])\n",
    "sns.kdeplot(my_data['Days'])# Your code here\n",
    "\n",
    "# Check that a figure appears below\n",
    "step_4.check()"
   ]
  }
 ],
 "metadata": {
  "kernelspec": {
   "display_name": "Python 3",
   "language": "python",
   "name": "python3"
  },
  "language_info": {
   "codemirror_mode": {
    "name": "ipython",
    "version": 3
   },
   "file_extension": ".py",
   "mimetype": "text/x-python",
   "name": "python",
   "nbconvert_exporter": "python",
   "pygments_lexer": "ipython3",
   "version": "3.7.12"
  },
  "papermill": {
   "default_parameters": {},
   "duration": 13.715582,
   "end_time": "2023-02-09T07:03:38.137257",
   "environment_variables": {},
   "exception": null,
   "input_path": "__notebook__.ipynb",
   "output_path": "__notebook__.ipynb",
   "parameters": {},
   "start_time": "2023-02-09T07:03:24.421675",
   "version": "2.3.4"
  }
 },
 "nbformat": 4,
 "nbformat_minor": 5
}
