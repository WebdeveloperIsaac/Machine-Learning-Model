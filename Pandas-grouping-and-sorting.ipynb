{
 "cells": [
  {
   "cell_type": "markdown",
   "id": "bf2a7359",
   "metadata": {
    "papermill": {
     "duration": 0.005873,
     "end_time": "2022-09-13T14:32:43.496009",
     "exception": false,
     "start_time": "2022-09-13T14:32:43.490136",
     "status": "completed"
    },
    "tags": []
   },
   "source": [
    "# Introduction\n",
    "\n",
    "In these exercises we'll apply groupwise analysis to our dataset.\n",
    "\n",
    "Run the code cell below to load the data before running the exercises."
   ]
  },
  {
   "cell_type": "code",
   "execution_count": 1,
   "id": "439a7117",
   "metadata": {
    "execution": {
     "iopub.execute_input": "2022-09-13T14:32:43.506741Z",
     "iopub.status.busy": "2022-09-13T14:32:43.506225Z",
     "iopub.status.idle": "2022-09-13T14:32:46.637749Z",
     "shell.execute_reply": "2022-09-13T14:32:46.634303Z"
    },
    "papermill": {
     "duration": 3.14052,
     "end_time": "2022-09-13T14:32:46.640768",
     "exception": false,
     "start_time": "2022-09-13T14:32:43.500248",
     "status": "completed"
    },
    "tags": []
   },
   "outputs": [
    {
     "name": "stdout",
     "output_type": "stream",
     "text": [
      "Setup complete.\n"
     ]
    }
   ],
   "source": [
    "import pandas as pd\n",
    "\n",
    "reviews = pd.read_csv(\"../input/wine-reviews/winemag-data-130k-v2.csv\", index_col=0)\n",
    "#pd.set_option(\"display.max_rows\", 5)\n",
    "\n",
    "from learntools.core import binder; binder.bind(globals())\n",
    "from learntools.pandas.grouping_and_sorting import *\n",
    "print(\"Setup complete.\")"
   ]
  },
  {
   "cell_type": "markdown",
   "id": "702f4149",
   "metadata": {
    "papermill": {
     "duration": 0.003868,
     "end_time": "2022-09-13T14:32:46.648876",
     "exception": false,
     "start_time": "2022-09-13T14:32:46.645008",
     "status": "completed"
    },
    "tags": []
   },
   "source": [
    "## 1.\n",
    "Who are the most common wine reviewers in the dataset? Create a `Series` whose index is the `taster_twitter_handle` category from the dataset, and whose values count how many reviews each person wrote."
   ]
  },
  {
   "cell_type": "code",
   "execution_count": 2,
   "id": "2383e1e2",
   "metadata": {
    "execution": {
     "iopub.execute_input": "2022-09-13T14:32:46.658648Z",
     "iopub.status.busy": "2022-09-13T14:32:46.658237Z",
     "iopub.status.idle": "2022-09-13T14:32:46.690851Z",
     "shell.execute_reply": "2022-09-13T14:32:46.689480Z"
    },
    "papermill": {
     "duration": 0.041041,
     "end_time": "2022-09-13T14:32:46.693889",
     "exception": false,
     "start_time": "2022-09-13T14:32:46.652848",
     "status": "completed"
    },
    "tags": []
   },
   "outputs": [
    {
     "data": {
      "application/javascript": [
       "parent.postMessage({\"jupyterEvent\": \"custom.exercise_interaction\", \"data\": {\"outcomeType\": 1, \"valueTowardsCompletion\": 0.16666666666666666, \"interactionType\": 1, \"questionType\": 1, \"questionId\": \"1_ReviewsWritten\", \"learnToolsVersion\": \"0.3.4\", \"failureMessage\": \"\", \"exceptionClass\": \"\", \"trace\": \"\"}}, \"*\")"
      ],
      "text/plain": [
       "<IPython.core.display.Javascript object>"
      ]
     },
     "metadata": {},
     "output_type": "display_data"
    },
    {
     "data": {
      "text/markdown": [
       "<span style=\"color:#33cc33\">Correct:</span> \n",
       "\n",
       "\n",
       "```python\n",
       "reviews_written = reviews.groupby('taster_twitter_handle').size()\n",
       "```\n",
       "or\n",
       "```python\n",
       "reviews_written = reviews.groupby('taster_twitter_handle').taster_twitter_handle.count()\n",
       "```\n"
      ],
      "text/plain": [
       "Correct: \n",
       "\n",
       "\n",
       "```python\n",
       "reviews_written = reviews.groupby('taster_twitter_handle').size()\n",
       "```\n",
       "or\n",
       "```python\n",
       "reviews_written = reviews.groupby('taster_twitter_handle').taster_twitter_handle.count()\n",
       "```"
      ]
     },
     "metadata": {},
     "output_type": "display_data"
    }
   ],
   "source": [
    "# Your code here\n",
    "reviews_written = reviews.groupby('taster_twitter_handle').taster_twitter_handle.count()\n",
    "\n",
    "# Check your answer\n",
    "q1.check()"
   ]
  },
  {
   "cell_type": "markdown",
   "id": "f03b9d24",
   "metadata": {
    "papermill": {
     "duration": 0.004334,
     "end_time": "2022-09-13T14:32:46.703051",
     "exception": false,
     "start_time": "2022-09-13T14:32:46.698717",
     "status": "completed"
    },
    "tags": []
   },
   "source": [
    "## 2.\n",
    "What is the best wine I can buy for a given amount of money? Create a `Series` whose index is wine prices and whose values is the maximum number of points a wine costing that much was given in a review. Sort the values by price, ascending (so that `4.0` dollars is at the top and `3300.0` dollars is at the bottom)."
   ]
  },
  {
   "cell_type": "code",
   "execution_count": 3,
   "id": "ec6a80bf",
   "metadata": {
    "execution": {
     "iopub.execute_input": "2022-09-13T14:32:46.714240Z",
     "iopub.status.busy": "2022-09-13T14:32:46.713735Z",
     "iopub.status.idle": "2022-09-13T14:32:46.729127Z",
     "shell.execute_reply": "2022-09-13T14:32:46.727965Z"
    },
    "papermill": {
     "duration": 0.024301,
     "end_time": "2022-09-13T14:32:46.731774",
     "exception": false,
     "start_time": "2022-09-13T14:32:46.707473",
     "status": "completed"
    },
    "tags": []
   },
   "outputs": [
    {
     "data": {
      "application/javascript": [
       "parent.postMessage({\"jupyterEvent\": \"custom.exercise_interaction\", \"data\": {\"outcomeType\": 1, \"valueTowardsCompletion\": 0.16666666666666666, \"interactionType\": 1, \"questionType\": 1, \"questionId\": \"2_BestRatingPerPrice\", \"learnToolsVersion\": \"0.3.4\", \"failureMessage\": \"\", \"exceptionClass\": \"\", \"trace\": \"\"}}, \"*\")"
      ],
      "text/plain": [
       "<IPython.core.display.Javascript object>"
      ]
     },
     "metadata": {},
     "output_type": "display_data"
    },
    {
     "data": {
      "text/markdown": [
       "<span style=\"color:#33cc33\">Correct</span>"
      ],
      "text/plain": [
       "Correct"
      ]
     },
     "metadata": {},
     "output_type": "display_data"
    }
   ],
   "source": [
    "best_rating_per_price = reviews.groupby('price')['points'].max().sort_index()\n",
    "\n",
    "# Check your answer\n",
    "q2.check()"
   ]
  },
  {
   "cell_type": "markdown",
   "id": "352872a2",
   "metadata": {
    "papermill": {
     "duration": 0.004478,
     "end_time": "2022-09-13T14:32:46.740995",
     "exception": false,
     "start_time": "2022-09-13T14:32:46.736517",
     "status": "completed"
    },
    "tags": []
   },
   "source": [
    "## 3.\n",
    "What are the minimum and maximum prices for each `variety` of wine? Create a `DataFrame` whose index is the `variety` category from the dataset and whose values are the `min` and `max` values thereof."
   ]
  },
  {
   "cell_type": "code",
   "execution_count": 4,
   "id": "8bdc2474",
   "metadata": {
    "execution": {
     "iopub.execute_input": "2022-09-13T14:32:46.752338Z",
     "iopub.status.busy": "2022-09-13T14:32:46.751921Z",
     "iopub.status.idle": "2022-09-13T14:32:46.778472Z",
     "shell.execute_reply": "2022-09-13T14:32:46.777203Z"
    },
    "papermill": {
     "duration": 0.036206,
     "end_time": "2022-09-13T14:32:46.781763",
     "exception": false,
     "start_time": "2022-09-13T14:32:46.745557",
     "status": "completed"
    },
    "tags": []
   },
   "outputs": [
    {
     "data": {
      "application/javascript": [
       "parent.postMessage({\"jupyterEvent\": \"custom.exercise_interaction\", \"data\": {\"outcomeType\": 1, \"valueTowardsCompletion\": 0.16666666666666666, \"interactionType\": 1, \"questionType\": 1, \"questionId\": \"3_PriceExtremes\", \"learnToolsVersion\": \"0.3.4\", \"failureMessage\": \"\", \"exceptionClass\": \"\", \"trace\": \"\"}}, \"*\")"
      ],
      "text/plain": [
       "<IPython.core.display.Javascript object>"
      ]
     },
     "metadata": {},
     "output_type": "display_data"
    },
    {
     "data": {
      "text/markdown": [
       "<span style=\"color:#33cc33\">Correct</span>"
      ],
      "text/plain": [
       "Correct"
      ]
     },
     "metadata": {},
     "output_type": "display_data"
    }
   ],
   "source": [
    "price_extremes = reviews.groupby('variety').price.agg([min, max])\n",
    "\n",
    "# Check your answer\n",
    "q3.check()"
   ]
  },
  {
   "cell_type": "markdown",
   "id": "8d214617",
   "metadata": {
    "papermill": {
     "duration": 0.004878,
     "end_time": "2022-09-13T14:32:46.791999",
     "exception": false,
     "start_time": "2022-09-13T14:32:46.787121",
     "status": "completed"
    },
    "tags": []
   },
   "source": [
    "## 4.\n",
    "What are the most expensive wine varieties? Create a variable `sorted_varieties` containing a copy of the dataframe from the previous question where varieties are sorted in descending order based on minimum price, then on maximum price (to break ties)."
   ]
  },
  {
   "cell_type": "code",
   "execution_count": 5,
   "id": "df604ae3",
   "metadata": {
    "execution": {
     "iopub.execute_input": "2022-09-13T14:32:46.804747Z",
     "iopub.status.busy": "2022-09-13T14:32:46.803844Z",
     "iopub.status.idle": "2022-09-13T14:32:46.817122Z",
     "shell.execute_reply": "2022-09-13T14:32:46.815998Z"
    },
    "papermill": {
     "duration": 0.022502,
     "end_time": "2022-09-13T14:32:46.819504",
     "exception": false,
     "start_time": "2022-09-13T14:32:46.797002",
     "status": "completed"
    },
    "tags": []
   },
   "outputs": [
    {
     "data": {
      "application/javascript": [
       "parent.postMessage({\"jupyterEvent\": \"custom.exercise_interaction\", \"data\": {\"outcomeType\": 1, \"valueTowardsCompletion\": 0.16666666666666666, \"interactionType\": 1, \"questionType\": 1, \"questionId\": \"4_SortedVarieties\", \"learnToolsVersion\": \"0.3.4\", \"failureMessage\": \"\", \"exceptionClass\": \"\", \"trace\": \"\"}}, \"*\")"
      ],
      "text/plain": [
       "<IPython.core.display.Javascript object>"
      ]
     },
     "metadata": {},
     "output_type": "display_data"
    },
    {
     "data": {
      "text/markdown": [
       "<span style=\"color:#33cc33\">Correct</span>"
      ],
      "text/plain": [
       "Correct"
      ]
     },
     "metadata": {},
     "output_type": "display_data"
    }
   ],
   "source": [
    "sorted_varieties = price_extremes.sort_values(by=['min', 'max'], ascending=False)\n",
    "# Check your answer\n",
    "q4.check()"
   ]
  },
  {
   "cell_type": "markdown",
   "id": "29ab2c3e",
   "metadata": {
    "papermill": {
     "duration": 0.004994,
     "end_time": "2022-09-13T14:32:46.829688",
     "exception": false,
     "start_time": "2022-09-13T14:32:46.824694",
     "status": "completed"
    },
    "tags": []
   },
   "source": [
    "## 5.\n",
    "Create a `Series` whose index is reviewers and whose values is the average review score given out by that reviewer. Hint: you will need the `taster_name` and `points` columns."
   ]
  },
  {
   "cell_type": "code",
   "execution_count": 6,
   "id": "03aedfba",
   "metadata": {
    "execution": {
     "iopub.execute_input": "2022-09-13T14:32:46.842728Z",
     "iopub.status.busy": "2022-09-13T14:32:46.841858Z",
     "iopub.status.idle": "2022-09-13T14:32:46.864746Z",
     "shell.execute_reply": "2022-09-13T14:32:46.863951Z"
    },
    "papermill": {
     "duration": 0.032166,
     "end_time": "2022-09-13T14:32:46.867109",
     "exception": false,
     "start_time": "2022-09-13T14:32:46.834943",
     "status": "completed"
    },
    "tags": []
   },
   "outputs": [
    {
     "data": {
      "application/javascript": [
       "parent.postMessage({\"jupyterEvent\": \"custom.exercise_interaction\", \"data\": {\"outcomeType\": 1, \"valueTowardsCompletion\": 0.16666666666666666, \"interactionType\": 1, \"questionType\": 1, \"questionId\": \"5_ReviewerMeanRatings\", \"learnToolsVersion\": \"0.3.4\", \"failureMessage\": \"\", \"exceptionClass\": \"\", \"trace\": \"\"}}, \"*\")"
      ],
      "text/plain": [
       "<IPython.core.display.Javascript object>"
      ]
     },
     "metadata": {},
     "output_type": "display_data"
    },
    {
     "data": {
      "text/markdown": [
       "<span style=\"color:#33cc33\">Correct</span>"
      ],
      "text/plain": [
       "Correct"
      ]
     },
     "metadata": {},
     "output_type": "display_data"
    }
   ],
   "source": [
    "reviewer_mean_ratings = reviews.groupby('taster_name').points.mean()\n",
    "\n",
    "# Check your answer\n",
    "q5.check()"
   ]
  },
  {
   "cell_type": "markdown",
   "id": "5eeb0362",
   "metadata": {
    "papermill": {
     "duration": 0.005341,
     "end_time": "2022-09-13T14:32:46.878366",
     "exception": false,
     "start_time": "2022-09-13T14:32:46.873025",
     "status": "completed"
    },
    "tags": []
   },
   "source": [
    "Are there significant differences in the average scores assigned by the various reviewers? Run the cell below to use the `describe()` method to see a summary of the range of values."
   ]
  },
  {
   "cell_type": "code",
   "execution_count": 7,
   "id": "50228b8b",
   "metadata": {
    "execution": {
     "iopub.execute_input": "2022-09-13T14:32:46.891764Z",
     "iopub.status.busy": "2022-09-13T14:32:46.890763Z",
     "iopub.status.idle": "2022-09-13T14:32:46.904706Z",
     "shell.execute_reply": "2022-09-13T14:32:46.903845Z"
    },
    "papermill": {
     "duration": 0.022845,
     "end_time": "2022-09-13T14:32:46.906910",
     "exception": false,
     "start_time": "2022-09-13T14:32:46.884065",
     "status": "completed"
    },
    "tags": []
   },
   "outputs": [
    {
     "data": {
      "text/plain": [
       "count    19.000000\n",
       "mean     88.233026\n",
       "std       1.243610\n",
       "min      85.855422\n",
       "25%      87.323501\n",
       "50%      88.536235\n",
       "75%      88.975256\n",
       "max      90.562551\n",
       "Name: points, dtype: float64"
      ]
     },
     "execution_count": 7,
     "metadata": {},
     "output_type": "execute_result"
    }
   ],
   "source": [
    "reviewer_mean_ratings.describe()"
   ]
  },
  {
   "cell_type": "markdown",
   "id": "f3b87437",
   "metadata": {
    "papermill": {
     "duration": 0.005186,
     "end_time": "2022-09-13T14:32:46.917609",
     "exception": false,
     "start_time": "2022-09-13T14:32:46.912423",
     "status": "completed"
    },
    "tags": []
   },
   "source": [
    "## 6.\n",
    "What combination of countries and varieties are most common? Create a `Series` whose index is a `MultiIndex`of `{country, variety}` pairs. For example, a pinot noir produced in the US should map to `{\"US\", \"Pinot Noir\"}`. Sort the values in the `Series` in descending order based on wine count."
   ]
  },
  {
   "cell_type": "code",
   "execution_count": 8,
   "id": "20f5e985",
   "metadata": {
    "execution": {
     "iopub.execute_input": "2022-09-13T14:32:46.930725Z",
     "iopub.status.busy": "2022-09-13T14:32:46.930008Z",
     "iopub.status.idle": "2022-09-13T14:32:46.964162Z",
     "shell.execute_reply": "2022-09-13T14:32:46.963387Z"
    },
    "papermill": {
     "duration": 0.043481,
     "end_time": "2022-09-13T14:32:46.966525",
     "exception": false,
     "start_time": "2022-09-13T14:32:46.923044",
     "status": "completed"
    },
    "tags": []
   },
   "outputs": [
    {
     "data": {
      "application/javascript": [
       "parent.postMessage({\"jupyterEvent\": \"custom.exercise_interaction\", \"data\": {\"outcomeType\": 1, \"valueTowardsCompletion\": 0.16666666666666666, \"interactionType\": 1, \"questionType\": 1, \"questionId\": \"6_GroupbyCountryVariety\", \"learnToolsVersion\": \"0.3.4\", \"failureMessage\": \"\", \"exceptionClass\": \"\", \"trace\": \"\"}}, \"*\")"
      ],
      "text/plain": [
       "<IPython.core.display.Javascript object>"
      ]
     },
     "metadata": {},
     "output_type": "display_data"
    },
    {
     "data": {
      "text/markdown": [
       "<span style=\"color:#33cc33\">Correct</span>"
      ],
      "text/plain": [
       "Correct"
      ]
     },
     "metadata": {},
     "output_type": "display_data"
    }
   ],
   "source": [
    "country_variety_counts = reviews.groupby(['country','variety']).size().sort_values(ascending=False)\n",
    "\n",
    "# Check your answer\n",
    "q6.check()"
   ]
  }
 ],
 "metadata": {
  "kernelspec": {
   "display_name": "Python 3",
   "language": "python",
   "name": "python3"
  },
  "language_info": {
   "codemirror_mode": {
    "name": "ipython",
    "version": 3
   },
   "file_extension": ".py",
   "mimetype": "text/x-python",
   "name": "python",
   "nbconvert_exporter": "python",
   "pygments_lexer": "ipython3",
   "version": "3.7.12"
  },
  "papermill": {
   "default_parameters": {},
   "duration": 14.100434,
   "end_time": "2022-09-13T14:32:47.999287",
   "environment_variables": {},
   "exception": null,
   "input_path": "__notebook__.ipynb",
   "output_path": "__notebook__.ipynb",
   "parameters": {},
   "start_time": "2022-09-13T14:32:33.898853",
   "version": "2.3.4"
  }
 },
 "nbformat": 4,
 "nbformat_minor": 5
}
