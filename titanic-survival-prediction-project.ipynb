{
 "cells": [
  {
   "cell_type": "markdown",
   "id": "efficient-apparatus",
   "metadata": {
    "papermill": {
     "duration": 0.045936,
     "end_time": "2022-11-15T10:53:13.957752",
     "exception": false,
     "start_time": "2022-11-15T10:53:13.911816",
     "status": "completed"
    },
    "tags": []
   },
   "source": []
  },
  {
   "cell_type": "markdown",
   "id": "informational-zoning",
   "metadata": {
    "papermill": {
     "duration": 0.043744,
     "end_time": "2022-11-15T10:53:14.045186",
     "exception": false,
     "start_time": "2022-11-15T10:53:14.001442",
     "status": "completed"
    },
    "tags": []
   },
   "source": [
    "# **Titanic Mini Project?** 🚢"
   ]
  },
  {
   "cell_type": "code",
   "execution_count": 1,
   "id": "patent-bookmark",
   "metadata": {
    "_cell_guid": "b1076dfc-b9ad-4769-8c92-a6c4dae69d19",
    "_uuid": "8f2839f25d086af736a60e9eeb907d3b93b6e0e5",
    "execution": {
     "iopub.execute_input": "2022-11-15T10:53:14.141802Z",
     "iopub.status.busy": "2022-11-15T10:53:14.141114Z",
     "iopub.status.idle": "2022-11-15T10:53:14.148839Z",
     "shell.execute_reply": "2022-11-15T10:53:14.148130Z",
     "shell.execute_reply.started": "2021-06-21T07:44:23.159938Z"
    },
    "papermill": {
     "duration": 0.060247,
     "end_time": "2022-11-15T10:53:14.149028",
     "exception": false,
     "start_time": "2022-11-15T10:53:14.088781",
     "status": "completed"
    },
    "tags": []
   },
   "outputs": [
    {
     "name": "stdout",
     "output_type": "stream",
     "text": [
      "/kaggle/input/titanic/train.csv\n",
      "/kaggle/input/titanic/test.csv\n",
      "/kaggle/input/titanic/gender_submission.csv\n"
     ]
    }
   ],
   "source": [
    "import numpy as np # linear algebra\n",
    "import pandas as pd # data processing, CSV file I/O (e.g. pd.read_csv)\n",
    "\n",
    "import os\n",
    "for dirname, _, filenames in os.walk('/kaggle/input'):\n",
    "    for filename in filenames:\n",
    "        print(os.path.join(dirname, filename))"
   ]
  },
  {
   "cell_type": "markdown",
   "id": "stock-culture",
   "metadata": {
    "papermill": {
     "duration": 0.050601,
     "end_time": "2022-11-15T10:53:14.244059",
     "exception": false,
     "start_time": "2022-11-15T10:53:14.193458",
     "status": "completed"
    },
    "tags": []
   },
   "source": [
    "# **1. Importing Necessary Libraries 📚**"
   ]
  },
  {
   "cell_type": "code",
   "execution_count": 2,
   "id": "arctic-absorption",
   "metadata": {
    "execution": {
     "iopub.execute_input": "2022-11-15T10:53:14.347465Z",
     "iopub.status.busy": "2022-11-15T10:53:14.344857Z",
     "iopub.status.idle": "2022-11-15T10:53:15.636118Z",
     "shell.execute_reply": "2022-11-15T10:53:15.635393Z",
     "shell.execute_reply.started": "2021-06-21T07:44:23.174699Z"
    },
    "papermill": {
     "duration": 1.341757,
     "end_time": "2022-11-15T10:53:15.636280",
     "exception": false,
     "start_time": "2022-11-15T10:53:14.294523",
     "status": "completed"
    },
    "tags": []
   },
   "outputs": [],
   "source": [
    "import matplotlib.pyplot as plt\n",
    "import seaborn as sns\n",
    "\n",
    "from sklearn.model_selection import train_test_split\n",
    "from sklearn.ensemble import RandomForestClassifier\n",
    "from sklearn.linear_model import LogisticRegression\n",
    "from sklearn.neighbors import KNeighborsClassifier\n",
    "from sklearn import tree,svm\n",
    "from sklearn.metrics import accuracy_score"
   ]
  },
  {
   "cell_type": "markdown",
   "id": "ideal-integrity",
   "metadata": {
    "papermill": {
     "duration": 0.044063,
     "end_time": "2022-11-15T10:53:15.724457",
     "exception": false,
     "start_time": "2022-11-15T10:53:15.680394",
     "status": "completed"
    },
    "tags": []
   },
   "source": [
    "# **2. Loading Dataset 📊**"
   ]
  },
  {
   "cell_type": "code",
   "execution_count": 3,
   "id": "textile-webmaster",
   "metadata": {
    "execution": {
     "iopub.execute_input": "2022-11-15T10:53:15.817831Z",
     "iopub.status.busy": "2022-11-15T10:53:15.817084Z",
     "iopub.status.idle": "2022-11-15T10:53:15.873480Z",
     "shell.execute_reply": "2022-11-15T10:53:15.874448Z",
     "shell.execute_reply.started": "2021-06-21T07:44:23.187459Z"
    },
    "papermill": {
     "duration": 0.106297,
     "end_time": "2022-11-15T10:53:15.874740",
     "exception": false,
     "start_time": "2022-11-15T10:53:15.768443",
     "status": "completed"
    },
    "tags": []
   },
   "outputs": [
    {
     "data": {
      "text/html": [
       "<div>\n",
       "<style scoped>\n",
       "    .dataframe tbody tr th:only-of-type {\n",
       "        vertical-align: middle;\n",
       "    }\n",
       "\n",
       "    .dataframe tbody tr th {\n",
       "        vertical-align: top;\n",
       "    }\n",
       "\n",
       "    .dataframe thead th {\n",
       "        text-align: right;\n",
       "    }\n",
       "</style>\n",
       "<table border=\"1\" class=\"dataframe\">\n",
       "  <thead>\n",
       "    <tr style=\"text-align: right;\">\n",
       "      <th></th>\n",
       "      <th>PassengerId</th>\n",
       "      <th>Survived</th>\n",
       "      <th>Pclass</th>\n",
       "      <th>Name</th>\n",
       "      <th>Sex</th>\n",
       "      <th>Age</th>\n",
       "      <th>SibSp</th>\n",
       "      <th>Parch</th>\n",
       "      <th>Ticket</th>\n",
       "      <th>Fare</th>\n",
       "      <th>Cabin</th>\n",
       "      <th>Embarked</th>\n",
       "    </tr>\n",
       "  </thead>\n",
       "  <tbody>\n",
       "    <tr>\n",
       "      <th>0</th>\n",
       "      <td>1</td>\n",
       "      <td>0</td>\n",
       "      <td>3</td>\n",
       "      <td>Braund, Mr. Owen Harris</td>\n",
       "      <td>male</td>\n",
       "      <td>22.0</td>\n",
       "      <td>1</td>\n",
       "      <td>0</td>\n",
       "      <td>A/5 21171</td>\n",
       "      <td>7.2500</td>\n",
       "      <td>NaN</td>\n",
       "      <td>S</td>\n",
       "    </tr>\n",
       "    <tr>\n",
       "      <th>1</th>\n",
       "      <td>2</td>\n",
       "      <td>1</td>\n",
       "      <td>1</td>\n",
       "      <td>Cumings, Mrs. John Bradley (Florence Briggs Th...</td>\n",
       "      <td>female</td>\n",
       "      <td>38.0</td>\n",
       "      <td>1</td>\n",
       "      <td>0</td>\n",
       "      <td>PC 17599</td>\n",
       "      <td>71.2833</td>\n",
       "      <td>C85</td>\n",
       "      <td>C</td>\n",
       "    </tr>\n",
       "    <tr>\n",
       "      <th>2</th>\n",
       "      <td>3</td>\n",
       "      <td>1</td>\n",
       "      <td>3</td>\n",
       "      <td>Heikkinen, Miss. Laina</td>\n",
       "      <td>female</td>\n",
       "      <td>26.0</td>\n",
       "      <td>0</td>\n",
       "      <td>0</td>\n",
       "      <td>STON/O2. 3101282</td>\n",
       "      <td>7.9250</td>\n",
       "      <td>NaN</td>\n",
       "      <td>S</td>\n",
       "    </tr>\n",
       "    <tr>\n",
       "      <th>3</th>\n",
       "      <td>4</td>\n",
       "      <td>1</td>\n",
       "      <td>1</td>\n",
       "      <td>Futrelle, Mrs. Jacques Heath (Lily May Peel)</td>\n",
       "      <td>female</td>\n",
       "      <td>35.0</td>\n",
       "      <td>1</td>\n",
       "      <td>0</td>\n",
       "      <td>113803</td>\n",
       "      <td>53.1000</td>\n",
       "      <td>C123</td>\n",
       "      <td>S</td>\n",
       "    </tr>\n",
       "    <tr>\n",
       "      <th>4</th>\n",
       "      <td>5</td>\n",
       "      <td>0</td>\n",
       "      <td>3</td>\n",
       "      <td>Allen, Mr. William Henry</td>\n",
       "      <td>male</td>\n",
       "      <td>35.0</td>\n",
       "      <td>0</td>\n",
       "      <td>0</td>\n",
       "      <td>373450</td>\n",
       "      <td>8.0500</td>\n",
       "      <td>NaN</td>\n",
       "      <td>S</td>\n",
       "    </tr>\n",
       "    <tr>\n",
       "      <th>5</th>\n",
       "      <td>6</td>\n",
       "      <td>0</td>\n",
       "      <td>3</td>\n",
       "      <td>Moran, Mr. James</td>\n",
       "      <td>male</td>\n",
       "      <td>NaN</td>\n",
       "      <td>0</td>\n",
       "      <td>0</td>\n",
       "      <td>330877</td>\n",
       "      <td>8.4583</td>\n",
       "      <td>NaN</td>\n",
       "      <td>Q</td>\n",
       "    </tr>\n",
       "    <tr>\n",
       "      <th>6</th>\n",
       "      <td>7</td>\n",
       "      <td>0</td>\n",
       "      <td>1</td>\n",
       "      <td>McCarthy, Mr. Timothy J</td>\n",
       "      <td>male</td>\n",
       "      <td>54.0</td>\n",
       "      <td>0</td>\n",
       "      <td>0</td>\n",
       "      <td>17463</td>\n",
       "      <td>51.8625</td>\n",
       "      <td>E46</td>\n",
       "      <td>S</td>\n",
       "    </tr>\n",
       "    <tr>\n",
       "      <th>7</th>\n",
       "      <td>8</td>\n",
       "      <td>0</td>\n",
       "      <td>3</td>\n",
       "      <td>Palsson, Master. Gosta Leonard</td>\n",
       "      <td>male</td>\n",
       "      <td>2.0</td>\n",
       "      <td>3</td>\n",
       "      <td>1</td>\n",
       "      <td>349909</td>\n",
       "      <td>21.0750</td>\n",
       "      <td>NaN</td>\n",
       "      <td>S</td>\n",
       "    </tr>\n",
       "    <tr>\n",
       "      <th>8</th>\n",
       "      <td>9</td>\n",
       "      <td>1</td>\n",
       "      <td>3</td>\n",
       "      <td>Johnson, Mrs. Oscar W (Elisabeth Vilhelmina Berg)</td>\n",
       "      <td>female</td>\n",
       "      <td>27.0</td>\n",
       "      <td>0</td>\n",
       "      <td>2</td>\n",
       "      <td>347742</td>\n",
       "      <td>11.1333</td>\n",
       "      <td>NaN</td>\n",
       "      <td>S</td>\n",
       "    </tr>\n",
       "    <tr>\n",
       "      <th>9</th>\n",
       "      <td>10</td>\n",
       "      <td>1</td>\n",
       "      <td>2</td>\n",
       "      <td>Nasser, Mrs. Nicholas (Adele Achem)</td>\n",
       "      <td>female</td>\n",
       "      <td>14.0</td>\n",
       "      <td>1</td>\n",
       "      <td>0</td>\n",
       "      <td>237736</td>\n",
       "      <td>30.0708</td>\n",
       "      <td>NaN</td>\n",
       "      <td>C</td>\n",
       "    </tr>\n",
       "  </tbody>\n",
       "</table>\n",
       "</div>"
      ],
      "text/plain": [
       "   PassengerId  Survived  Pclass  \\\n",
       "0            1         0       3   \n",
       "1            2         1       1   \n",
       "2            3         1       3   \n",
       "3            4         1       1   \n",
       "4            5         0       3   \n",
       "5            6         0       3   \n",
       "6            7         0       1   \n",
       "7            8         0       3   \n",
       "8            9         1       3   \n",
       "9           10         1       2   \n",
       "\n",
       "                                                Name     Sex   Age  SibSp  \\\n",
       "0                            Braund, Mr. Owen Harris    male  22.0      1   \n",
       "1  Cumings, Mrs. John Bradley (Florence Briggs Th...  female  38.0      1   \n",
       "2                             Heikkinen, Miss. Laina  female  26.0      0   \n",
       "3       Futrelle, Mrs. Jacques Heath (Lily May Peel)  female  35.0      1   \n",
       "4                           Allen, Mr. William Henry    male  35.0      0   \n",
       "5                                   Moran, Mr. James    male   NaN      0   \n",
       "6                            McCarthy, Mr. Timothy J    male  54.0      0   \n",
       "7                     Palsson, Master. Gosta Leonard    male   2.0      3   \n",
       "8  Johnson, Mrs. Oscar W (Elisabeth Vilhelmina Berg)  female  27.0      0   \n",
       "9                Nasser, Mrs. Nicholas (Adele Achem)  female  14.0      1   \n",
       "\n",
       "   Parch            Ticket     Fare Cabin Embarked  \n",
       "0      0         A/5 21171   7.2500   NaN        S  \n",
       "1      0          PC 17599  71.2833   C85        C  \n",
       "2      0  STON/O2. 3101282   7.9250   NaN        S  \n",
       "3      0            113803  53.1000  C123        S  \n",
       "4      0            373450   8.0500   NaN        S  \n",
       "5      0            330877   8.4583   NaN        Q  \n",
       "6      0             17463  51.8625   E46        S  \n",
       "7      1            349909  21.0750   NaN        S  \n",
       "8      2            347742  11.1333   NaN        S  \n",
       "9      0            237736  30.0708   NaN        C  "
      ]
     },
     "execution_count": 3,
     "metadata": {},
     "output_type": "execute_result"
    }
   ],
   "source": [
    "train_data = pd.read_csv('/kaggle/input/titanic/train.csv')\n",
    "\n",
    "# Printing first 10 rows of the dataset\n",
    "train_data.head(10)"
   ]
  },
  {
   "cell_type": "markdown",
   "id": "dirty-rally",
   "metadata": {
    "papermill": {
     "duration": 0.044741,
     "end_time": "2022-11-15T10:53:15.980481",
     "exception": false,
     "start_time": "2022-11-15T10:53:15.935740",
     "status": "completed"
    },
    "tags": []
   },
   "source": [
    "**Types of Variables:**\n",
    "1. Continuous: Age & Fare\n",
    "2. Categorical: Sex & Embarked\n",
    "3. Discrete: SibSp & Parch\n",
    "4. Alphanumeric: Cabin"
   ]
  },
  {
   "cell_type": "code",
   "execution_count": 4,
   "id": "neither-flood",
   "metadata": {
    "execution": {
     "iopub.execute_input": "2022-11-15T10:53:16.074089Z",
     "iopub.status.busy": "2022-11-15T10:53:16.073408Z",
     "iopub.status.idle": "2022-11-15T10:53:16.080236Z",
     "shell.execute_reply": "2022-11-15T10:53:16.079324Z",
     "shell.execute_reply.started": "2021-06-21T07:44:23.224465Z"
    },
    "papermill": {
     "duration": 0.05543,
     "end_time": "2022-11-15T10:53:16.080389",
     "exception": false,
     "start_time": "2022-11-15T10:53:16.024959",
     "status": "completed"
    },
    "tags": []
   },
   "outputs": [
    {
     "name": "stdout",
     "output_type": "stream",
     "text": [
      "The shape of our training set: 891 passengers and 12 features\n"
     ]
    }
   ],
   "source": [
    "print('The shape of our training set: %s passengers and %s features'%(train_data.shape[0],train_data.shape[1]))"
   ]
  },
  {
   "cell_type": "code",
   "execution_count": 5,
   "id": "incomplete-eclipse",
   "metadata": {
    "execution": {
     "iopub.execute_input": "2022-11-15T10:53:16.181259Z",
     "iopub.status.busy": "2022-11-15T10:53:16.180512Z",
     "iopub.status.idle": "2022-11-15T10:53:16.193852Z",
     "shell.execute_reply": "2022-11-15T10:53:16.193260Z",
     "shell.execute_reply.started": "2021-06-21T07:44:23.230548Z"
    },
    "papermill": {
     "duration": 0.067776,
     "end_time": "2022-11-15T10:53:16.194006",
     "exception": false,
     "start_time": "2022-11-15T10:53:16.126230",
     "status": "completed"
    },
    "tags": []
   },
   "outputs": [
    {
     "name": "stdout",
     "output_type": "stream",
     "text": [
      "<class 'pandas.core.frame.DataFrame'>\n",
      "RangeIndex: 891 entries, 0 to 890\n",
      "Data columns (total 12 columns):\n",
      " #   Column       Non-Null Count  Dtype  \n",
      "---  ------       --------------  -----  \n",
      " 0   PassengerId  891 non-null    int64  \n",
      " 1   Survived     891 non-null    int64  \n",
      " 2   Pclass       891 non-null    int64  \n",
      " 3   Name         891 non-null    object \n",
      " 4   Sex          891 non-null    object \n",
      " 5   Age          714 non-null    float64\n",
      " 6   SibSp        891 non-null    int64  \n",
      " 7   Parch        891 non-null    int64  \n",
      " 8   Ticket       891 non-null    object \n",
      " 9   Fare         891 non-null    float64\n",
      " 10  Cabin        204 non-null    object \n",
      " 11  Embarked     889 non-null    object \n",
      "dtypes: float64(2), int64(5), object(5)\n",
      "memory usage: 83.7+ KB\n"
     ]
    }
   ],
   "source": [
    "train_data.info()"
   ]
  },
  {
   "cell_type": "markdown",
   "id": "sensitive-carnival",
   "metadata": {
    "papermill": {
     "duration": 0.04522,
     "end_time": "2022-11-15T10:53:16.285094",
     "exception": false,
     "start_time": "2022-11-15T10:53:16.239874",
     "status": "completed"
    },
    "tags": []
   },
   "source": [
    "As you can see we have 891 entries in total but some of the columns have less than 891 entries so that means we have missing values in these columns Age, Cabin & Embarked. so we have to preprocess our data first before training our ml model. "
   ]
  },
  {
   "cell_type": "markdown",
   "id": "applicable-leadership",
   "metadata": {
    "papermill": {
     "duration": 0.045933,
     "end_time": "2022-11-15T10:53:16.376269",
     "exception": false,
     "start_time": "2022-11-15T10:53:16.330336",
     "status": "completed"
    },
    "tags": []
   },
   "source": [
    "**Checking NULL Values**"
   ]
  },
  {
   "cell_type": "code",
   "execution_count": 6,
   "id": "bacterial-reservation",
   "metadata": {
    "execution": {
     "iopub.execute_input": "2022-11-15T10:53:16.475987Z",
     "iopub.status.busy": "2022-11-15T10:53:16.474990Z",
     "iopub.status.idle": "2022-11-15T10:53:16.479219Z",
     "shell.execute_reply": "2022-11-15T10:53:16.478723Z",
     "shell.execute_reply.started": "2021-06-21T07:44:23.258541Z"
    },
    "papermill": {
     "duration": 0.057436,
     "end_time": "2022-11-15T10:53:16.479368",
     "exception": false,
     "start_time": "2022-11-15T10:53:16.421932",
     "status": "completed"
    },
    "tags": []
   },
   "outputs": [
    {
     "data": {
      "text/plain": [
       "PassengerId      0\n",
       "Survived         0\n",
       "Pclass           0\n",
       "Name             0\n",
       "Sex              0\n",
       "Age            177\n",
       "SibSp            0\n",
       "Parch            0\n",
       "Ticket           0\n",
       "Fare             0\n",
       "Cabin          687\n",
       "Embarked         2\n",
       "dtype: int64"
      ]
     },
     "execution_count": 6,
     "metadata": {},
     "output_type": "execute_result"
    }
   ],
   "source": [
    "train_data.isnull().sum()"
   ]
  },
  {
   "cell_type": "markdown",
   "id": "bizarre-fireplace",
   "metadata": {
    "papermill": {
     "duration": 0.045286,
     "end_time": "2022-11-15T10:53:16.570984",
     "exception": false,
     "start_time": "2022-11-15T10:53:16.525698",
     "status": "completed"
    },
    "tags": []
   },
   "source": [
    "* Ok so we have 177 null values in Age column.\n",
    "* 687 missing values in Cabin column.\n",
    "* 2 missing values in Embarked column."
   ]
  },
  {
   "cell_type": "markdown",
   "id": "blessed-purchase",
   "metadata": {
    "papermill": {
     "duration": 0.044982,
     "end_time": "2022-11-15T10:53:16.661506",
     "exception": false,
     "start_time": "2022-11-15T10:53:16.616524",
     "status": "completed"
    },
    "tags": []
   },
   "source": [
    "## **Plotting Heat Map 🗺️** \n",
    "* To see the correlation between target variable and other parameters."
   ]
  },
  {
   "cell_type": "code",
   "execution_count": 7,
   "id": "gorgeous-defense",
   "metadata": {
    "execution": {
     "iopub.execute_input": "2022-11-15T10:53:16.761962Z",
     "iopub.status.busy": "2022-11-15T10:53:16.761079Z",
     "iopub.status.idle": "2022-11-15T10:53:17.062454Z",
     "shell.execute_reply": "2022-11-15T10:53:17.062975Z",
     "shell.execute_reply.started": "2021-06-21T07:44:23.278528Z"
    },
    "papermill": {
     "duration": 0.356234,
     "end_time": "2022-11-15T10:53:17.063179",
     "exception": false,
     "start_time": "2022-11-15T10:53:16.706945",
     "status": "completed"
    },
    "tags": []
   },
   "outputs": [
    {
     "data": {
      "image/png": "[encoded data removed]",
      "text/plain": [
       "<Figure size 432x288 with 2 Axes>"
      ]
     },
     "metadata": {
      "needs_background": "light"
     },
     "output_type": "display_data"
    }
   ],
   "source": [
    "heatmap = sns.heatmap(train_data[[\"Survived\", \"SibSp\", \"Parch\", \"Age\", \"Fare\"]].corr(), annot = True)\n",
    "sns.set(rc={'figure.figsize':(12,10)})"
   ]
  },
  {
   "cell_type": "markdown",
   "id": "improved-banks",
   "metadata": {
    "papermill": {
     "duration": 0.047742,
     "end_time": "2022-11-15T10:53:17.160522",
     "exception": false,
     "start_time": "2022-11-15T10:53:17.112780",
     "status": "completed"
    },
    "tags": []
   },
   "source": [
    "**Conclusion:** \n",
    "Only Fare feature seems to have a significant correlation with the survival probability."
   ]
  },
  {
   "cell_type": "markdown",
   "id": "backed-marriage",
   "metadata": {
    "papermill": {
     "duration": 0.048133,
     "end_time": "2022-11-15T10:53:17.257160",
     "exception": false,
     "start_time": "2022-11-15T10:53:17.209027",
     "status": "completed"
    },
    "tags": []
   },
   "source": [
    "# **3. Exploratory Data Analysis 📉**"
   ]
  },
  {
   "cell_type": "markdown",
   "id": "pretty-convertible",
   "metadata": {
    "papermill": {
     "duration": 0.0469,
     "end_time": "2022-11-15T10:53:17.351116",
     "exception": false,
     "start_time": "2022-11-15T10:53:17.304216",
     "status": "completed"
    },
    "tags": []
   },
   "source": [
    "Now we're going to visualise the correlation of each variable with the target variable i.e, Survived."
   ]
  },
  {
   "cell_type": "markdown",
   "id": "pointed-transfer",
   "metadata": {
    "papermill": {
     "duration": 0.046212,
     "end_time": "2022-11-15T10:53:17.444084",
     "exception": false,
     "start_time": "2022-11-15T10:53:17.397872",
     "status": "completed"
    },
    "tags": []
   },
   "source": [
    "## **(A) SibSp - Number of Siblings / Spouses aboard the Titanic**"
   ]
  },
  {
   "cell_type": "code",
   "execution_count": 8,
   "id": "initial-overview",
   "metadata": {
    "execution": {
     "iopub.execute_input": "2022-11-15T10:53:17.542642Z",
     "iopub.status.busy": "2022-11-15T10:53:17.541696Z",
     "iopub.status.idle": "2022-11-15T10:53:17.549074Z",
     "shell.execute_reply": "2022-11-15T10:53:17.549700Z",
     "shell.execute_reply.started": "2021-06-21T07:44:23.685531Z"
    },
    "papermill": {
     "duration": 0.058508,
     "end_time": "2022-11-15T10:53:17.549887",
     "exception": false,
     "start_time": "2022-11-15T10:53:17.491379",
     "status": "completed"
    },
    "tags": []
   },
   "outputs": [
    {
     "data": {
      "text/plain": [
       "array([1, 0, 3, 4, 2, 5, 8])"
      ]
     },
     "execution_count": 8,
     "metadata": {},
     "output_type": "execute_result"
    }
   ],
   "source": [
    "# Finding unique values\n",
    "train_data['SibSp'].unique()"
   ]
  },
  {
   "cell_type": "code",
   "execution_count": 9,
   "id": "oriented-convenience",
   "metadata": {
    "execution": {
     "iopub.execute_input": "2022-11-15T10:53:17.650358Z",
     "iopub.status.busy": "2022-11-15T10:53:17.649395Z",
     "iopub.status.idle": "2022-11-15T10:53:18.149566Z",
     "shell.execute_reply": "2022-11-15T10:53:18.148894Z",
     "shell.execute_reply.started": "2021-06-21T07:44:23.695036Z"
    },
    "papermill": {
     "duration": 0.551778,
     "end_time": "2022-11-15T10:53:18.149714",
     "exception": false,
     "start_time": "2022-11-15T10:53:17.597936",
     "status": "completed"
    },
    "tags": []
   },
   "outputs": [
    {
     "data": {
      "image/png": "[encoded data removed]",
      "text/plain": [
       "<Figure size 576x576 with 1 Axes>"
      ]
     },
     "metadata": {},
     "output_type": "display_data"
    }
   ],
   "source": [
    "bargraph_sibsp = sns.catplot(x = \"SibSp\", y = \"Survived\", data = train_data, kind=\"bar\", height = 8)"
   ]
  },
  {
   "cell_type": "markdown",
   "id": "illegal-hawaii",
   "metadata": {
    "papermill": {
     "duration": 0.048304,
     "end_time": "2022-11-15T10:53:18.246215",
     "exception": false,
     "start_time": "2022-11-15T10:53:18.197911",
     "status": "completed"
    },
    "tags": []
   },
   "source": [
    "**Conclusion:** \n",
    "* Passengers having 1 or 2 siblings have good chances of survival\n",
    "* More no. of siblings -> Less chances of survival"
   ]
  },
  {
   "cell_type": "markdown",
   "id": "magnetic-marine",
   "metadata": {
    "papermill": {
     "duration": 0.04926,
     "end_time": "2022-11-15T10:53:18.343971",
     "exception": false,
     "start_time": "2022-11-15T10:53:18.294711",
     "status": "completed"
    },
    "tags": []
   },
   "source": [
    "## **(B) AGE**"
   ]
  },
  {
   "cell_type": "code",
   "execution_count": 10,
   "id": "moderate-imagination",
   "metadata": {
    "execution": {
     "iopub.execute_input": "2022-11-15T10:53:18.446189Z",
     "iopub.status.busy": "2022-11-15T10:53:18.445160Z",
     "iopub.status.idle": "2022-11-15T10:53:19.272841Z",
     "shell.execute_reply": "2022-11-15T10:53:19.272077Z",
     "shell.execute_reply.started": "2021-06-21T07:44:24.332153Z"
    },
    "papermill": {
     "duration": 0.88141,
     "end_time": "2022-11-15T10:53:19.273018",
     "exception": false,
     "start_time": "2022-11-15T10:53:18.391608",
     "status": "completed"
    },
    "tags": []
   },
   "outputs": [
    {
     "name": "stderr",
     "output_type": "stream",
     "text": [
      "/opt/conda/lib/python3.7/site-packages/seaborn/distributions.py:2557: FutureWarning: `distplot` is a deprecated function and will be removed in a future version. Please adapt your code to use either `displot` (a figure-level function with similar flexibility) or `histplot` (an axes-level function for histograms).\n",
      "  warnings.warn(msg, FutureWarning)\n",
      "/opt/conda/lib/python3.7/site-packages/seaborn/distributions.py:2557: FutureWarning: `distplot` is a deprecated function and will be removed in a future version. Please adapt your code to use either `displot` (a figure-level function with similar flexibility) or `histplot` (an axes-level function for histograms).\n",
      "  warnings.warn(msg, FutureWarning)\n"
     ]
    },
    {
     "data": {
      "image/png": "[encoded data removed]",
      "text/plain": [
       "<Figure size 1008x504 with 2 Axes>"
      ]
     },
     "metadata": {},
     "output_type": "display_data"
    }
   ],
   "source": [
    "ageplot = sns.FacetGrid(train_data, col=\"Survived\", height = 7)\n",
    "ageplot = ageplot.map(sns.distplot, \"Age\")\n",
    "ageplot = ageplot.set_ylabels(\"Survival Probability\")"
   ]
  },
  {
   "cell_type": "markdown",
   "id": "valued-cambodia",
   "metadata": {
    "papermill": {
     "duration": 0.050398,
     "end_time": "2022-11-15T10:53:19.380764",
     "exception": false,
     "start_time": "2022-11-15T10:53:19.330366",
     "status": "completed"
    },
    "tags": []
   },
   "source": [
    "**Conclusion:** \n",
    "More age -> less chances of survival!"
   ]
  },
  {
   "cell_type": "markdown",
   "id": "valuable-brush",
   "metadata": {
    "papermill": {
     "duration": 0.049336,
     "end_time": "2022-11-15T10:53:19.480526",
     "exception": false,
     "start_time": "2022-11-15T10:53:19.431190",
     "status": "completed"
    },
    "tags": []
   },
   "source": [
    "## **(C) Sex**"
   ]
  },
  {
   "cell_type": "code",
   "execution_count": 11,
   "id": "alpine-explanation",
   "metadata": {
    "execution": {
     "iopub.execute_input": "2022-11-15T10:53:19.587138Z",
     "iopub.status.busy": "2022-11-15T10:53:19.586145Z",
     "iopub.status.idle": "2022-11-15T10:53:19.816680Z",
     "shell.execute_reply": "2022-11-15T10:53:19.815983Z",
     "shell.execute_reply.started": "2021-06-21T07:44:25.107641Z"
    },
    "papermill": {
     "duration": 0.285926,
     "end_time": "2022-11-15T10:53:19.816830",
     "exception": false,
     "start_time": "2022-11-15T10:53:19.530904",
     "status": "completed"
    },
    "tags": []
   },
   "outputs": [
    {
     "data": {
      "image/png": "[encoded data removed]",
      "text/plain": [
       "<Figure size 864x720 with 1 Axes>"
      ]
     },
     "metadata": {},
     "output_type": "display_data"
    }
   ],
   "source": [
    "sexplot = sns.barplot(x=\"Sex\", y=\"Survived\", data=train_data)"
   ]
  },
  {
   "cell_type": "markdown",
   "id": "aware-mobility",
   "metadata": {
    "papermill": {
     "duration": 0.050241,
     "end_time": "2022-11-15T10:53:19.918256",
     "exception": false,
     "start_time": "2022-11-15T10:53:19.868015",
     "status": "completed"
    },
    "tags": []
   },
   "source": [
    "**Conclusion:** From the above graph it's quite obvious that females have more chances of survival in comparison to males. "
   ]
  },
  {
   "cell_type": "markdown",
   "id": "secret-vanilla",
   "metadata": {
    "papermill": {
     "duration": 0.050521,
     "end_time": "2022-11-15T10:53:20.020205",
     "exception": false,
     "start_time": "2022-11-15T10:53:19.969684",
     "status": "completed"
    },
    "tags": []
   },
   "source": [
    "## **(D) Pclass**"
   ]
  },
  {
   "cell_type": "code",
   "execution_count": 12,
   "id": "false-entity",
   "metadata": {
    "execution": {
     "iopub.execute_input": "2022-11-15T10:53:20.130952Z",
     "iopub.status.busy": "2022-11-15T10:53:20.129928Z",
     "iopub.status.idle": "2022-11-15T10:53:20.453044Z",
     "shell.execute_reply": "2022-11-15T10:53:20.452419Z",
     "shell.execute_reply.started": "2021-06-21T07:44:25.370475Z"
    },
    "papermill": {
     "duration": 0.382421,
     "end_time": "2022-11-15T10:53:20.453198",
     "exception": false,
     "start_time": "2022-11-15T10:53:20.070777",
     "status": "completed"
    },
    "tags": []
   },
   "outputs": [
    {
     "data": {
      "image/png": "[encoded data removed]",
      "text/plain": [
       "<Figure size 432x432 with 1 Axes>"
      ]
     },
     "metadata": {},
     "output_type": "display_data"
    }
   ],
   "source": [
    "pclassplot = sns.catplot(x = \"Pclass\", y=\"Survived\", data = train_data, kind=\"bar\", height = 6)"
   ]
  },
  {
   "cell_type": "markdown",
   "id": "tough-cabinet",
   "metadata": {
    "papermill": {
     "duration": 0.052628,
     "end_time": "2022-11-15T10:53:20.559493",
     "exception": false,
     "start_time": "2022-11-15T10:53:20.506865",
     "status": "completed"
    },
    "tags": []
   },
   "source": [
    "**Higher class -> More chances of survival**"
   ]
  },
  {
   "cell_type": "markdown",
   "id": "cleared-tennessee",
   "metadata": {
    "papermill": {
     "duration": 0.05109,
     "end_time": "2022-11-15T10:53:20.663999",
     "exception": false,
     "start_time": "2022-11-15T10:53:20.612909",
     "status": "completed"
    },
    "tags": []
   },
   "source": [
    "## **(E) Pclass vs Survived By Sex**"
   ]
  },
  {
   "cell_type": "code",
   "execution_count": 13,
   "id": "recognized-drill",
   "metadata": {
    "execution": {
     "iopub.execute_input": "2022-11-15T10:53:20.775663Z",
     "iopub.status.busy": "2022-11-15T10:53:20.774976Z",
     "iopub.status.idle": "2022-11-15T10:53:21.255474Z",
     "shell.execute_reply": "2022-11-15T10:53:21.254863Z",
     "shell.execute_reply.started": "2021-06-21T07:44:25.783934Z"
    },
    "papermill": {
     "duration": 0.539824,
     "end_time": "2022-11-15T10:53:21.255705",
     "exception": false,
     "start_time": "2022-11-15T10:53:20.715881",
     "status": "completed"
    },
    "tags": []
   },
   "outputs": [
    {
     "data": {
      "image/png": "[encoded data removed]",
      "text/plain": [
       "<Figure size 581.975x504 with 1 Axes>"
      ]
     },
     "metadata": {},
     "output_type": "display_data"
    }
   ],
   "source": [
    "a = sns.catplot(x = \"Pclass\", y=\"Survived\", hue=\"Sex\", data=train_data, height = 7, kind=\"bar\")"
   ]
  },
  {
   "cell_type": "markdown",
   "id": "touched-conditioning",
   "metadata": {
    "papermill": {
     "duration": 0.054475,
     "end_time": "2022-11-15T10:53:21.364323",
     "exception": false,
     "start_time": "2022-11-15T10:53:21.309848",
     "status": "completed"
    },
    "tags": []
   },
   "source": [
    "**Conclusion:**\n",
    "* In each class females have much higher chances of survival in comparison to male passengers."
   ]
  },
  {
   "cell_type": "markdown",
   "id": "weird-bandwidth",
   "metadata": {
    "papermill": {
     "duration": 0.053509,
     "end_time": "2022-11-15T10:53:21.472083",
     "exception": false,
     "start_time": "2022-11-15T10:53:21.418574",
     "status": "completed"
    },
    "tags": []
   },
   "source": [
    "## **(F) Embarked**"
   ]
  },
  {
   "cell_type": "code",
   "execution_count": 14,
   "id": "cleared-rendering",
   "metadata": {
    "execution": {
     "iopub.execute_input": "2022-11-15T10:53:21.584127Z",
     "iopub.status.busy": "2022-11-15T10:53:21.583150Z",
     "iopub.status.idle": "2022-11-15T10:53:21.587447Z",
     "shell.execute_reply": "2022-11-15T10:53:21.587977Z",
     "shell.execute_reply.started": "2021-06-21T07:44:26.368028Z"
    },
    "papermill": {
     "duration": 0.063674,
     "end_time": "2022-11-15T10:53:21.588297",
     "exception": false,
     "start_time": "2022-11-15T10:53:21.524623",
     "status": "completed"
    },
    "tags": []
   },
   "outputs": [
    {
     "data": {
      "text/plain": [
       "2"
      ]
     },
     "execution_count": 14,
     "metadata": {},
     "output_type": "execute_result"
    }
   ],
   "source": [
    "train_data[\"Embarked\"].isnull().sum()"
   ]
  },
  {
   "cell_type": "code",
   "execution_count": 15,
   "id": "palestinian-clock",
   "metadata": {
    "execution": {
     "iopub.execute_input": "2022-11-15T10:53:21.704372Z",
     "iopub.status.busy": "2022-11-15T10:53:21.703360Z",
     "iopub.status.idle": "2022-11-15T10:53:21.707891Z",
     "shell.execute_reply": "2022-11-15T10:53:21.707248Z",
     "shell.execute_reply.started": "2021-06-21T07:44:26.379472Z"
    },
    "papermill": {
     "duration": 0.065055,
     "end_time": "2022-11-15T10:53:21.708045",
     "exception": false,
     "start_time": "2022-11-15T10:53:21.642990",
     "status": "completed"
    },
    "tags": []
   },
   "outputs": [
    {
     "data": {
      "text/plain": [
       "S    644\n",
       "C    168\n",
       "Q     77\n",
       "Name: Embarked, dtype: int64"
      ]
     },
     "execution_count": 15,
     "metadata": {},
     "output_type": "execute_result"
    }
   ],
   "source": [
    "train_data[\"Embarked\"].value_counts()"
   ]
  },
  {
   "cell_type": "code",
   "execution_count": 16,
   "id": "standard-parking",
   "metadata": {
    "execution": {
     "iopub.execute_input": "2022-11-15T10:53:21.821304Z",
     "iopub.status.busy": "2022-11-15T10:53:21.820619Z",
     "iopub.status.idle": "2022-11-15T10:53:21.823251Z",
     "shell.execute_reply": "2022-11-15T10:53:21.823791Z",
     "shell.execute_reply.started": "2021-06-21T07:44:26.397535Z"
    },
    "papermill": {
     "duration": 0.061124,
     "end_time": "2022-11-15T10:53:21.823986",
     "exception": false,
     "start_time": "2022-11-15T10:53:21.762862",
     "status": "completed"
    },
    "tags": []
   },
   "outputs": [],
   "source": [
    "# Filling 2 missing values with most frequent value\n",
    "train_data[\"Embarked\"] = train_data[\"Embarked\"].fillna('S')"
   ]
  },
  {
   "cell_type": "code",
   "execution_count": 17,
   "id": "silent-prisoner",
   "metadata": {
    "execution": {
     "iopub.execute_input": "2022-11-15T10:53:21.934932Z",
     "iopub.status.busy": "2022-11-15T10:53:21.934245Z",
     "iopub.status.idle": "2022-11-15T10:53:22.242806Z",
     "shell.execute_reply": "2022-11-15T10:53:22.243323Z",
     "shell.execute_reply.started": "2021-06-21T07:44:26.411546Z"
    },
    "papermill": {
     "duration": 0.364916,
     "end_time": "2022-11-15T10:53:22.243506",
     "exception": false,
     "start_time": "2022-11-15T10:53:21.878590",
     "status": "completed"
    },
    "tags": []
   },
   "outputs": [
    {
     "data": {
      "text/plain": [
       "<seaborn.axisgrid.FacetGrid at 0x7f3b88e86c10>"
      ]
     },
     "execution_count": 17,
     "metadata": {},
     "output_type": "execute_result"
    },
    {
     "data": {
      "image/png": "[encoded data removed]",
      "text/plain": [
       "<Figure size 360x360 with 1 Axes>"
      ]
     },
     "metadata": {},
     "output_type": "display_data"
    }
   ],
   "source": [
    "sns.catplot(x=\"Embarked\", y=\"Survived\", data=train_data, height = 5, kind=\"bar\")"
   ]
  },
  {
   "cell_type": "markdown",
   "id": "attempted-doctor",
   "metadata": {
    "papermill": {
     "duration": 0.054561,
     "end_time": "2022-11-15T10:53:22.354009",
     "exception": false,
     "start_time": "2022-11-15T10:53:22.299448",
     "status": "completed"
    },
    "tags": []
   },
   "source": [
    "## **(G) Pclass vs Survived by Embarked**"
   ]
  },
  {
   "cell_type": "code",
   "execution_count": 18,
   "id": "acting-stupid",
   "metadata": {
    "execution": {
     "iopub.execute_input": "2022-11-15T10:53:22.466595Z",
     "iopub.status.busy": "2022-11-15T10:53:22.465578Z",
     "iopub.status.idle": "2022-11-15T10:53:23.095453Z",
     "shell.execute_reply": "2022-11-15T10:53:23.096110Z",
     "shell.execute_reply.started": "2021-06-21T07:44:26.990299Z"
    },
    "papermill": {
     "duration": 0.687811,
     "end_time": "2022-11-15T10:53:23.096294",
     "exception": false,
     "start_time": "2022-11-15T10:53:22.408483",
     "status": "completed"
    },
    "tags": []
   },
   "outputs": [
    {
     "data": {
      "text/plain": [
       "<seaborn.axisgrid.FacetGrid at 0x7f3b88df1cd0>"
      ]
     },
     "execution_count": 18,
     "metadata": {},
     "output_type": "execute_result"
    },
    {
     "data": {
      "image/png": "[encoded data removed]",
      "text/plain": [
       "<Figure size 1512x504 with 3 Axes>"
      ]
     },
     "metadata": {},
     "output_type": "display_data"
    }
   ],
   "source": [
    "sns.catplot(x=\"Pclass\", col=\"Embarked\", data = train_data, kind=\"count\", height=7)"
   ]
  },
  {
   "cell_type": "markdown",
   "id": "distributed-nothing",
   "metadata": {
    "papermill": {
     "duration": 0.057727,
     "end_time": "2022-11-15T10:53:23.209957",
     "exception": false,
     "start_time": "2022-11-15T10:53:23.152230",
     "status": "completed"
    },
    "tags": []
   },
   "source": [
    "Passengers embarked from C station, majority of them was from 1st class. That's why we got survival probability of C embarked passengers higher."
   ]
  },
  {
   "cell_type": "markdown",
   "id": "successful-maker",
   "metadata": {
    "papermill": {
     "duration": 0.056095,
     "end_time": "2022-11-15T10:53:23.324139",
     "exception": false,
     "start_time": "2022-11-15T10:53:23.268044",
     "status": "completed"
    },
    "tags": []
   },
   "source": [
    "# **4. Data Preprocessing (Cleaning) 🧹**"
   ]
  },
  {
   "cell_type": "code",
   "execution_count": 19,
   "id": "stable-berlin",
   "metadata": {
    "execution": {
     "iopub.execute_input": "2022-11-15T10:53:23.441581Z",
     "iopub.status.busy": "2022-11-15T10:53:23.440603Z",
     "iopub.status.idle": "2022-11-15T10:53:23.449216Z",
     "shell.execute_reply": "2022-11-15T10:53:23.449826Z",
     "shell.execute_reply.started": "2021-06-21T07:44:27.789583Z"
    },
    "papermill": {
     "duration": 0.069596,
     "end_time": "2022-11-15T10:53:23.450017",
     "exception": false,
     "start_time": "2022-11-15T10:53:23.380421",
     "status": "completed"
    },
    "tags": []
   },
   "outputs": [
    {
     "data": {
      "text/plain": [
       "PassengerId      0\n",
       "Survived         0\n",
       "Pclass           0\n",
       "Name             0\n",
       "Sex              0\n",
       "Age            177\n",
       "SibSp            0\n",
       "Parch            0\n",
       "Ticket           0\n",
       "Fare             0\n",
       "Cabin          687\n",
       "Embarked         0\n",
       "dtype: int64"
      ]
     },
     "execution_count": 19,
     "metadata": {},
     "output_type": "execute_result"
    }
   ],
   "source": [
    "train_data.isnull().sum()"
   ]
  },
  {
   "cell_type": "markdown",
   "id": "polished-border",
   "metadata": {
    "papermill": {
     "duration": 0.054809,
     "end_time": "2022-11-15T10:53:23.560410",
     "exception": false,
     "start_time": "2022-11-15T10:53:23.505601",
     "status": "completed"
    },
    "tags": []
   },
   "source": [
    "177 Missing values in Age column\n",
    "687 missing values in Cabin column. \n",
    "We have to deal with these missing values in order to build a good ml model. "
   ]
  },
  {
   "cell_type": "markdown",
   "id": "necessary-webster",
   "metadata": {
    "papermill": {
     "duration": 0.058473,
     "end_time": "2022-11-15T10:53:23.676552",
     "exception": false,
     "start_time": "2022-11-15T10:53:23.618079",
     "status": "completed"
    },
    "tags": []
   },
   "source": [
    "## **(A) Handling Missing Values of Age Column**"
   ]
  },
  {
   "cell_type": "code",
   "execution_count": 20,
   "id": "voluntary-edinburgh",
   "metadata": {
    "execution": {
     "iopub.execute_input": "2022-11-15T10:53:23.796333Z",
     "iopub.status.busy": "2022-11-15T10:53:23.795442Z",
     "iopub.status.idle": "2022-11-15T10:53:23.799057Z",
     "shell.execute_reply": "2022-11-15T10:53:23.799796Z",
     "shell.execute_reply.started": "2021-06-21T07:44:27.805485Z"
    },
    "papermill": {
     "duration": 0.067728,
     "end_time": "2022-11-15T10:53:23.800050",
     "exception": false,
     "start_time": "2022-11-15T10:53:23.732322",
     "status": "completed"
    },
    "tags": []
   },
   "outputs": [
    {
     "name": "stdout",
     "output_type": "stream",
     "text": [
      "29.69911764705882\n",
      "14.526497332334042\n"
     ]
    }
   ],
   "source": [
    "mean = train_data[\"Age\"].mean()\n",
    "std = train_data[\"Age\"].std()\n",
    "print(mean)\n",
    "print(std)"
   ]
  },
  {
   "cell_type": "code",
   "execution_count": 21,
   "id": "coordinated-insider",
   "metadata": {
    "execution": {
     "iopub.execute_input": "2022-11-15T10:53:23.926978Z",
     "iopub.status.busy": "2022-11-15T10:53:23.926018Z",
     "iopub.status.idle": "2022-11-15T10:53:23.940289Z",
     "shell.execute_reply": "2022-11-15T10:53:23.939512Z",
     "shell.execute_reply.started": "2021-06-21T07:44:27.82086Z"
    },
    "papermill": {
     "duration": 0.073643,
     "end_time": "2022-11-15T10:53:23.940448",
     "exception": false,
     "start_time": "2022-11-15T10:53:23.866805",
     "status": "completed"
    },
    "tags": []
   },
   "outputs": [
    {
     "data": {
      "text/plain": [
       "PassengerId      0\n",
       "Survived         0\n",
       "Pclass           0\n",
       "Name             0\n",
       "Sex              0\n",
       "Age              0\n",
       "SibSp            0\n",
       "Parch            0\n",
       "Ticket           0\n",
       "Fare             0\n",
       "Cabin          687\n",
       "Embarked         0\n",
       "dtype: int64"
      ]
     },
     "execution_count": 21,
     "metadata": {},
     "output_type": "execute_result"
    }
   ],
   "source": [
    "rand_age = np.random.randint(mean-std, mean+std, size = 177)\n",
    "age_slice = train_data[\"Age\"].copy()\n",
    "\n",
    "age_slice[np.isnan(age_slice)] = rand_age\n",
    "train_data[\"Age\"] = age_slice\n",
    "train_data.isnull().sum()"
   ]
  },
  {
   "cell_type": "markdown",
   "id": "innocent-worthy",
   "metadata": {
    "papermill": {
     "duration": 0.056713,
     "end_time": "2022-11-15T10:53:24.053778",
     "exception": false,
     "start_time": "2022-11-15T10:53:23.997065",
     "status": "completed"
    },
    "tags": []
   },
   "source": [
    "## **(B) Dropping 🗑️ Columns**"
   ]
  },
  {
   "cell_type": "code",
   "execution_count": 22,
   "id": "apart-marks",
   "metadata": {
    "execution": {
     "iopub.execute_input": "2022-11-15T10:53:24.184191Z",
     "iopub.status.busy": "2022-11-15T10:53:24.183386Z",
     "iopub.status.idle": "2022-11-15T10:53:24.186746Z",
     "shell.execute_reply": "2022-11-15T10:53:24.187319Z",
     "shell.execute_reply.started": "2021-06-21T07:44:27.84475Z"
    },
    "papermill": {
     "duration": 0.077496,
     "end_time": "2022-11-15T10:53:24.187517",
     "exception": false,
     "start_time": "2022-11-15T10:53:24.110021",
     "status": "completed"
    },
    "tags": []
   },
   "outputs": [
    {
     "data": {
      "text/html": [
       "<div>\n",
       "<style scoped>\n",
       "    .dataframe tbody tr th:only-of-type {\n",
       "        vertical-align: middle;\n",
       "    }\n",
       "\n",
       "    .dataframe tbody tr th {\n",
       "        vertical-align: top;\n",
       "    }\n",
       "\n",
       "    .dataframe thead th {\n",
       "        text-align: right;\n",
       "    }\n",
       "</style>\n",
       "<table border=\"1\" class=\"dataframe\">\n",
       "  <thead>\n",
       "    <tr style=\"text-align: right;\">\n",
       "      <th></th>\n",
       "      <th>Survived</th>\n",
       "      <th>Pclass</th>\n",
       "      <th>Sex</th>\n",
       "      <th>Age</th>\n",
       "      <th>SibSp</th>\n",
       "      <th>Parch</th>\n",
       "      <th>Fare</th>\n",
       "      <th>Embarked</th>\n",
       "    </tr>\n",
       "  </thead>\n",
       "  <tbody>\n",
       "    <tr>\n",
       "      <th>0</th>\n",
       "      <td>0</td>\n",
       "      <td>3</td>\n",
       "      <td>male</td>\n",
       "      <td>22.0</td>\n",
       "      <td>1</td>\n",
       "      <td>0</td>\n",
       "      <td>7.2500</td>\n",
       "      <td>S</td>\n",
       "    </tr>\n",
       "    <tr>\n",
       "      <th>1</th>\n",
       "      <td>1</td>\n",
       "      <td>1</td>\n",
       "      <td>female</td>\n",
       "      <td>38.0</td>\n",
       "      <td>1</td>\n",
       "      <td>0</td>\n",
       "      <td>71.2833</td>\n",
       "      <td>C</td>\n",
       "    </tr>\n",
       "    <tr>\n",
       "      <th>2</th>\n",
       "      <td>1</td>\n",
       "      <td>3</td>\n",
       "      <td>female</td>\n",
       "      <td>26.0</td>\n",
       "      <td>0</td>\n",
       "      <td>0</td>\n",
       "      <td>7.9250</td>\n",
       "      <td>S</td>\n",
       "    </tr>\n",
       "    <tr>\n",
       "      <th>3</th>\n",
       "      <td>1</td>\n",
       "      <td>1</td>\n",
       "      <td>female</td>\n",
       "      <td>35.0</td>\n",
       "      <td>1</td>\n",
       "      <td>0</td>\n",
       "      <td>53.1000</td>\n",
       "      <td>S</td>\n",
       "    </tr>\n",
       "    <tr>\n",
       "      <th>4</th>\n",
       "      <td>0</td>\n",
       "      <td>3</td>\n",
       "      <td>male</td>\n",
       "      <td>35.0</td>\n",
       "      <td>0</td>\n",
       "      <td>0</td>\n",
       "      <td>8.0500</td>\n",
       "      <td>S</td>\n",
       "    </tr>\n",
       "    <tr>\n",
       "      <th>5</th>\n",
       "      <td>0</td>\n",
       "      <td>3</td>\n",
       "      <td>male</td>\n",
       "      <td>18.0</td>\n",
       "      <td>0</td>\n",
       "      <td>0</td>\n",
       "      <td>8.4583</td>\n",
       "      <td>Q</td>\n",
       "    </tr>\n",
       "    <tr>\n",
       "      <th>6</th>\n",
       "      <td>0</td>\n",
       "      <td>1</td>\n",
       "      <td>male</td>\n",
       "      <td>54.0</td>\n",
       "      <td>0</td>\n",
       "      <td>0</td>\n",
       "      <td>51.8625</td>\n",
       "      <td>S</td>\n",
       "    </tr>\n",
       "    <tr>\n",
       "      <th>7</th>\n",
       "      <td>0</td>\n",
       "      <td>3</td>\n",
       "      <td>male</td>\n",
       "      <td>2.0</td>\n",
       "      <td>3</td>\n",
       "      <td>1</td>\n",
       "      <td>21.0750</td>\n",
       "      <td>S</td>\n",
       "    </tr>\n",
       "    <tr>\n",
       "      <th>8</th>\n",
       "      <td>1</td>\n",
       "      <td>3</td>\n",
       "      <td>female</td>\n",
       "      <td>27.0</td>\n",
       "      <td>0</td>\n",
       "      <td>2</td>\n",
       "      <td>11.1333</td>\n",
       "      <td>S</td>\n",
       "    </tr>\n",
       "    <tr>\n",
       "      <th>9</th>\n",
       "      <td>1</td>\n",
       "      <td>2</td>\n",
       "      <td>female</td>\n",
       "      <td>14.0</td>\n",
       "      <td>1</td>\n",
       "      <td>0</td>\n",
       "      <td>30.0708</td>\n",
       "      <td>C</td>\n",
       "    </tr>\n",
       "  </tbody>\n",
       "</table>\n",
       "</div>"
      ],
      "text/plain": [
       "   Survived  Pclass     Sex   Age  SibSp  Parch     Fare Embarked\n",
       "0         0       3    male  22.0      1      0   7.2500        S\n",
       "1         1       1  female  38.0      1      0  71.2833        C\n",
       "2         1       3  female  26.0      0      0   7.9250        S\n",
       "3         1       1  female  35.0      1      0  53.1000        S\n",
       "4         0       3    male  35.0      0      0   8.0500        S\n",
       "5         0       3    male  18.0      0      0   8.4583        Q\n",
       "6         0       1    male  54.0      0      0  51.8625        S\n",
       "7         0       3    male   2.0      3      1  21.0750        S\n",
       "8         1       3  female  27.0      0      2  11.1333        S\n",
       "9         1       2  female  14.0      1      0  30.0708        C"
      ]
     },
     "execution_count": 22,
     "metadata": {},
     "output_type": "execute_result"
    }
   ],
   "source": [
    "col_to_drop = [\"PassengerId\", \"Ticket\", \"Cabin\", \"Name\"]\n",
    "train_data.drop(col_to_drop, axis=1, inplace=True)\n",
    "train_data.head(10)"
   ]
  },
  {
   "cell_type": "markdown",
   "id": "common-tournament",
   "metadata": {
    "papermill": {
     "duration": 0.056257,
     "end_time": "2022-11-15T10:53:24.300949",
     "exception": false,
     "start_time": "2022-11-15T10:53:24.244692",
     "status": "completed"
    },
    "tags": []
   },
   "source": [
    "## **(D) Converting Categorical Variables to Numeric**"
   ]
  },
  {
   "cell_type": "code",
   "execution_count": 23,
   "id": "organic-raleigh",
   "metadata": {
    "execution": {
     "iopub.execute_input": "2022-11-15T10:53:24.420044Z",
     "iopub.status.busy": "2022-11-15T10:53:24.419329Z",
     "iopub.status.idle": "2022-11-15T10:53:24.436380Z",
     "shell.execute_reply": "2022-11-15T10:53:24.436922Z",
     "shell.execute_reply.started": "2021-06-21T07:44:27.870584Z"
    },
    "papermill": {
     "duration": 0.077851,
     "end_time": "2022-11-15T10:53:24.437111",
     "exception": false,
     "start_time": "2022-11-15T10:53:24.359260",
     "status": "completed"
    },
    "tags": []
   },
   "outputs": [
    {
     "data": {
      "text/html": [
       "<div>\n",
       "<style scoped>\n",
       "    .dataframe tbody tr th:only-of-type {\n",
       "        vertical-align: middle;\n",
       "    }\n",
       "\n",
       "    .dataframe tbody tr th {\n",
       "        vertical-align: top;\n",
       "    }\n",
       "\n",
       "    .dataframe thead th {\n",
       "        text-align: right;\n",
       "    }\n",
       "</style>\n",
       "<table border=\"1\" class=\"dataframe\">\n",
       "  <thead>\n",
       "    <tr style=\"text-align: right;\">\n",
       "      <th></th>\n",
       "      <th>Survived</th>\n",
       "      <th>Pclass</th>\n",
       "      <th>Sex</th>\n",
       "      <th>Age</th>\n",
       "      <th>SibSp</th>\n",
       "      <th>Parch</th>\n",
       "      <th>Fare</th>\n",
       "      <th>Embarked</th>\n",
       "    </tr>\n",
       "  </thead>\n",
       "  <tbody>\n",
       "    <tr>\n",
       "      <th>0</th>\n",
       "      <td>0</td>\n",
       "      <td>3</td>\n",
       "      <td>0</td>\n",
       "      <td>22.0</td>\n",
       "      <td>1</td>\n",
       "      <td>0</td>\n",
       "      <td>7.2500</td>\n",
       "      <td>0</td>\n",
       "    </tr>\n",
       "    <tr>\n",
       "      <th>1</th>\n",
       "      <td>1</td>\n",
       "      <td>1</td>\n",
       "      <td>1</td>\n",
       "      <td>38.0</td>\n",
       "      <td>1</td>\n",
       "      <td>0</td>\n",
       "      <td>71.2833</td>\n",
       "      <td>1</td>\n",
       "    </tr>\n",
       "    <tr>\n",
       "      <th>2</th>\n",
       "      <td>1</td>\n",
       "      <td>3</td>\n",
       "      <td>1</td>\n",
       "      <td>26.0</td>\n",
       "      <td>0</td>\n",
       "      <td>0</td>\n",
       "      <td>7.9250</td>\n",
       "      <td>0</td>\n",
       "    </tr>\n",
       "    <tr>\n",
       "      <th>3</th>\n",
       "      <td>1</td>\n",
       "      <td>1</td>\n",
       "      <td>1</td>\n",
       "      <td>35.0</td>\n",
       "      <td>1</td>\n",
       "      <td>0</td>\n",
       "      <td>53.1000</td>\n",
       "      <td>0</td>\n",
       "    </tr>\n",
       "    <tr>\n",
       "      <th>4</th>\n",
       "      <td>0</td>\n",
       "      <td>3</td>\n",
       "      <td>0</td>\n",
       "      <td>35.0</td>\n",
       "      <td>0</td>\n",
       "      <td>0</td>\n",
       "      <td>8.0500</td>\n",
       "      <td>0</td>\n",
       "    </tr>\n",
       "  </tbody>\n",
       "</table>\n",
       "</div>"
      ],
      "text/plain": [
       "   Survived  Pclass  Sex   Age  SibSp  Parch     Fare  Embarked\n",
       "0         0       3    0  22.0      1      0   7.2500         0\n",
       "1         1       1    1  38.0      1      0  71.2833         1\n",
       "2         1       3    1  26.0      0      0   7.9250         0\n",
       "3         1       1    1  35.0      1      0  53.1000         0\n",
       "4         0       3    0  35.0      0      0   8.0500         0"
      ]
     },
     "execution_count": 23,
     "metadata": {},
     "output_type": "execute_result"
    }
   ],
   "source": [
    "genders = {\"male\":0, \"female\":1}\n",
    "train_data[\"Sex\"] = train_data[\"Sex\"].map(genders)\n",
    "\n",
    "ports = {\"S\":0, \"C\":1, \"Q\":2}\n",
    "train_data[\"Embarked\"] = train_data[\"Embarked\"].map(ports)\n",
    "\n",
    "train_data.head()"
   ]
  },
  {
   "cell_type": "markdown",
   "id": "nasty-ranking",
   "metadata": {
    "papermill": {
     "duration": 0.056292,
     "end_time": "2022-11-15T10:53:24.550322",
     "exception": false,
     "start_time": "2022-11-15T10:53:24.494030",
     "status": "completed"
    },
    "tags": []
   },
   "source": [
    "# **5. Building Machine Learning Model 🤖**"
   ]
  },
  {
   "cell_type": "code",
   "execution_count": 24,
   "id": "imported-eating",
   "metadata": {
    "execution": {
     "iopub.execute_input": "2022-11-15T10:53:24.668915Z",
     "iopub.status.busy": "2022-11-15T10:53:24.667907Z",
     "iopub.status.idle": "2022-11-15T10:53:24.676603Z",
     "shell.execute_reply": "2022-11-15T10:53:24.677103Z",
     "shell.execute_reply.started": "2021-06-21T07:44:27.897463Z"
    },
    "papermill": {
     "duration": 0.070079,
     "end_time": "2022-11-15T10:53:24.677294",
     "exception": false,
     "start_time": "2022-11-15T10:53:24.607215",
     "status": "completed"
    },
    "tags": []
   },
   "outputs": [],
   "source": [
    "df_train_x = train_data[['Pclass', 'Sex', 'Age', 'SibSp', 'Parch', 'Fare', 'Embarked']]\n",
    "\n",
    "# Target variable column\n",
    "df_train_y = train_data[['Survived']]\n",
    "\n",
    "x_train, x_test, y_train, y_test = train_test_split(df_train_x, df_train_y, test_size=0.20, random_state=42)"
   ]
  },
  {
   "cell_type": "markdown",
   "id": "precious-electron",
   "metadata": {
    "papermill": {
     "duration": 0.057406,
     "end_time": "2022-11-15T10:53:24.792074",
     "exception": false,
     "start_time": "2022-11-15T10:53:24.734668",
     "status": "completed"
    },
    "tags": []
   },
   "source": [
    "## **(A) Random Forest Classifier 🌳🌳🌳🌳**"
   ]
  },
  {
   "cell_type": "code",
   "execution_count": 25,
   "id": "fuzzy-mortgage",
   "metadata": {
    "execution": {
     "iopub.execute_input": "2022-11-15T10:53:24.910008Z",
     "iopub.status.busy": "2022-11-15T10:53:24.909073Z",
     "iopub.status.idle": "2022-11-15T10:53:25.127683Z",
     "shell.execute_reply": "2022-11-15T10:53:25.128190Z",
     "shell.execute_reply.started": "2021-06-21T07:44:27.912949Z"
    },
    "papermill": {
     "duration": 0.279072,
     "end_time": "2022-11-15T10:53:25.128370",
     "exception": false,
     "start_time": "2022-11-15T10:53:24.849298",
     "status": "completed"
    },
    "tags": []
   },
   "outputs": [
    {
     "name": "stderr",
     "output_type": "stream",
     "text": [
      "/opt/conda/lib/python3.7/site-packages/ipykernel_launcher.py:2: DataConversionWarning: A column-vector y was passed when a 1d array was expected. Please change the shape of y to (n_samples,), for example using ravel().\n",
      "  \n"
     ]
    },
    {
     "name": "stdout",
     "output_type": "stream",
     "text": [
      "accuracy= 82.12290502793296\n"
     ]
    }
   ],
   "source": [
    "clf1 = RandomForestClassifier()\n",
    "clf1.fit(x_train, y_train)\n",
    "rfc_y_pred = clf1.predict(x_test)\n",
    "rfc_accuracy = accuracy_score(y_test,rfc_y_pred) * 100\n",
    "print(\"accuracy=\",rfc_accuracy)"
   ]
  },
  {
   "cell_type": "markdown",
   "id": "therapeutic-socket",
   "metadata": {
    "papermill": {
     "duration": 0.059316,
     "end_time": "2022-11-15T10:53:25.245046",
     "exception": false,
     "start_time": "2022-11-15T10:53:25.185730",
     "status": "completed"
    },
    "tags": []
   },
   "source": [
    "## **(B) Logistic Regression**"
   ]
  },
  {
   "cell_type": "code",
   "execution_count": 26,
   "id": "eligible-acceptance",
   "metadata": {
    "execution": {
     "iopub.execute_input": "2022-11-15T10:53:25.365023Z",
     "iopub.status.busy": "2022-11-15T10:53:25.364343Z",
     "iopub.status.idle": "2022-11-15T10:53:25.418785Z",
     "shell.execute_reply": "2022-11-15T10:53:25.418132Z",
     "shell.execute_reply.started": "2021-06-21T07:44:28.165441Z"
    },
    "papermill": {
     "duration": 0.115489,
     "end_time": "2022-11-15T10:53:25.418937",
     "exception": false,
     "start_time": "2022-11-15T10:53:25.303448",
     "status": "completed"
    },
    "tags": []
   },
   "outputs": [
    {
     "name": "stdout",
     "output_type": "stream",
     "text": [
      "accuracy= 80.44692737430168\n"
     ]
    },
    {
     "name": "stderr",
     "output_type": "stream",
     "text": [
      "/opt/conda/lib/python3.7/site-packages/sklearn/utils/validation.py:63: DataConversionWarning: A column-vector y was passed when a 1d array was expected. Please change the shape of y to (n_samples, ), for example using ravel().\n",
      "  return f(*args, **kwargs)\n",
      "/opt/conda/lib/python3.7/site-packages/sklearn/linear_model/_logistic.py:765: ConvergenceWarning: lbfgs failed to converge (status=1):\n",
      "STOP: TOTAL NO. of ITERATIONS REACHED LIMIT.\n",
      "\n",
      "Increase the number of iterations (max_iter) or scale the data as shown in:\n",
      "    https://scikit-learn.org/stable/modules/preprocessing.html\n",
      "Please also refer to the documentation for alternative solver options:\n",
      "    https://scikit-learn.org/stable/modules/linear_model.html#logistic-regression\n",
      "  extra_warning_msg=_LOGISTIC_SOLVER_CONVERGENCE_MSG)\n"
     ]
    }
   ],
   "source": [
    "clf2 = LogisticRegression()\n",
    "clf2.fit(x_train, y_train)\n",
    "lr_y_pred = clf2.predict(x_test)\n",
    "lr_accuracy = accuracy_score(y_test,lr_y_pred)*100\n",
    "\n",
    "print(\"accuracy=\",lr_accuracy)"
   ]
  },
  {
   "cell_type": "markdown",
   "id": "vocational-sailing",
   "metadata": {
    "papermill": {
     "duration": 0.057892,
     "end_time": "2022-11-15T10:53:25.535782",
     "exception": false,
     "start_time": "2022-11-15T10:53:25.477890",
     "status": "completed"
    },
    "tags": []
   },
   "source": [
    "## **(C) K-Neighbor Classifier**"
   ]
  },
  {
   "cell_type": "code",
   "execution_count": 27,
   "id": "artistic-latex",
   "metadata": {
    "execution": {
     "iopub.execute_input": "2022-11-15T10:53:25.657259Z",
     "iopub.status.busy": "2022-11-15T10:53:25.656508Z",
     "iopub.status.idle": "2022-11-15T10:53:25.680062Z",
     "shell.execute_reply": "2022-11-15T10:53:25.680587Z",
     "shell.execute_reply.started": "2021-06-21T07:44:28.220186Z"
    },
    "papermill": {
     "duration": 0.086563,
     "end_time": "2022-11-15T10:53:25.680782",
     "exception": false,
     "start_time": "2022-11-15T10:53:25.594219",
     "status": "completed"
    },
    "tags": []
   },
   "outputs": [
    {
     "name": "stdout",
     "output_type": "stream",
     "text": [
      "accuracy= 65.92178770949721\n"
     ]
    },
    {
     "name": "stderr",
     "output_type": "stream",
     "text": [
      "/opt/conda/lib/python3.7/site-packages/sklearn/neighbors/_classification.py:179: DataConversionWarning: A column-vector y was passed when a 1d array was expected. Please change the shape of y to (n_samples,), for example using ravel().\n",
      "  return self._fit(X, y)\n"
     ]
    }
   ],
   "source": [
    "clf3 = KNeighborsClassifier(5)\n",
    "clf3.fit(x_train, y_train)\n",
    "knc_y_pred = clf3.predict(x_test)\n",
    "knc_accuracy = accuracy_score(y_test,knc_y_pred)*100\n",
    "\n",
    "print(\"accuracy=\",knc_accuracy)"
   ]
  },
  {
   "cell_type": "markdown",
   "id": "vocal-cinema",
   "metadata": {
    "papermill": {
     "duration": 0.060328,
     "end_time": "2022-11-15T10:53:25.800754",
     "exception": false,
     "start_time": "2022-11-15T10:53:25.740426",
     "status": "completed"
    },
    "tags": []
   },
   "source": [
    "## **(D) Decision Tree Classifier**"
   ]
  },
  {
   "cell_type": "code",
   "execution_count": 28,
   "id": "resident-lottery",
   "metadata": {
    "execution": {
     "iopub.execute_input": "2022-11-15T10:53:25.930666Z",
     "iopub.status.busy": "2022-11-15T10:53:25.928723Z",
     "iopub.status.idle": "2022-11-15T10:53:25.940787Z",
     "shell.execute_reply": "2022-11-15T10:53:25.940097Z",
     "shell.execute_reply.started": "2021-06-21T07:44:28.2509Z"
    },
    "papermill": {
     "duration": 0.078941,
     "end_time": "2022-11-15T10:53:25.940941",
     "exception": false,
     "start_time": "2022-11-15T10:53:25.862000",
     "status": "completed"
    },
    "tags": []
   },
   "outputs": [
    {
     "name": "stdout",
     "output_type": "stream",
     "text": [
      "accuracy= 78.77094972067039\n"
     ]
    }
   ],
   "source": [
    "clf4 = tree.DecisionTreeClassifier()\n",
    "clf4 = clf4.fit(x_train, y_train)\n",
    "dtc_y_pred = clf4.predict(x_test)\n",
    "dtc_accuracy = accuracy_score(y_test,dtc_y_pred)*100\n",
    "\n",
    "print(\"accuracy=\",dtc_accuracy)"
   ]
  },
  {
   "cell_type": "markdown",
   "id": "intellectual-australia",
   "metadata": {
    "papermill": {
     "duration": 0.061541,
     "end_time": "2022-11-15T10:53:26.061978",
     "exception": false,
     "start_time": "2022-11-15T10:53:26.000437",
     "status": "completed"
    },
    "tags": []
   },
   "source": [
    "## **(E) Support Vector Machine**"
   ]
  },
  {
   "cell_type": "code",
   "execution_count": 29,
   "id": "alert-discrimination",
   "metadata": {
    "execution": {
     "iopub.execute_input": "2022-11-15T10:53:26.193606Z",
     "iopub.status.busy": "2022-11-15T10:53:26.192487Z",
     "iopub.status.idle": "2022-11-15T10:53:26.230065Z",
     "shell.execute_reply": "2022-11-15T10:53:26.230635Z",
     "shell.execute_reply.started": "2021-06-21T07:44:28.27127Z"
    },
    "papermill": {
     "duration": 0.107384,
     "end_time": "2022-11-15T10:53:26.230833",
     "exception": false,
     "start_time": "2022-11-15T10:53:26.123449",
     "status": "completed"
    },
    "tags": []
   },
   "outputs": [
    {
     "name": "stdout",
     "output_type": "stream",
     "text": [
      "accuracy= 65.36312849162012\n"
     ]
    },
    {
     "name": "stderr",
     "output_type": "stream",
     "text": [
      "/opt/conda/lib/python3.7/site-packages/sklearn/utils/validation.py:63: DataConversionWarning: A column-vector y was passed when a 1d array was expected. Please change the shape of y to (n_samples, ), for example using ravel().\n",
      "  return f(*args, **kwargs)\n"
     ]
    }
   ],
   "source": [
    "clf5 = svm.SVC()\n",
    "clf5.fit(x_train, y_train)\n",
    "svm_y_pred = clf5.predict(x_test)\n",
    "svm_accuracy = accuracy_score(y_test,svm_y_pred)*100\n",
    "print(\"accuracy=\",svm_accuracy)"
   ]
  },
  {
   "cell_type": "markdown",
   "id": "satisfactory-ranking",
   "metadata": {
    "papermill": {
     "duration": 0.06052,
     "end_time": "2022-11-15T10:53:26.354227",
     "exception": false,
     "start_time": "2022-11-15T10:53:26.293707",
     "status": "completed"
    },
    "tags": []
   },
   "source": [
    "# **Accuracy of all 5 Classifiers**"
   ]
  },
  {
   "cell_type": "code",
   "execution_count": 30,
   "id": "capable-black",
   "metadata": {
    "execution": {
     "iopub.execute_input": "2022-11-15T10:53:26.480748Z",
     "iopub.status.busy": "2022-11-15T10:53:26.480027Z",
     "iopub.status.idle": "2022-11-15T10:53:26.485106Z",
     "shell.execute_reply": "2022-11-15T10:53:26.484419Z",
     "shell.execute_reply.started": "2021-06-21T07:44:28.31997Z"
    },
    "papermill": {
     "duration": 0.070932,
     "end_time": "2022-11-15T10:53:26.485260",
     "exception": false,
     "start_time": "2022-11-15T10:53:26.414328",
     "status": "completed"
    },
    "tags": []
   },
   "outputs": [
    {
     "name": "stdout",
     "output_type": "stream",
     "text": [
      "Accuracy of Random Forest Classifier = 82.12290502793296\n",
      "Accuracy of Logistic Regressor = 80.44692737430168\n",
      "Accuracy of K-Neighbor Classifier = 65.92178770949721\n",
      "Accuracy of Decision Tree Classifier =  78.77094972067039\n",
      "Accuracy of Support Vector Machine Classifier =  65.36312849162012\n"
     ]
    }
   ],
   "source": [
    "print(\"Accuracy of Random Forest Classifier =\",rfc_accuracy)\n",
    "print(\"Accuracy of Logistic Regressor =\",lr_accuracy)\n",
    "print(\"Accuracy of K-Neighbor Classifier =\",knc_accuracy)\n",
    "print(\"Accuracy of Decision Tree Classifier = \",dtc_accuracy)\n",
    "print(\"Accuracy of Support Vector Machine Classifier = \",svm_accuracy)"
   ]
  },
  {
   "cell_type": "markdown",
   "id": "wanted-scratch",
   "metadata": {
    "papermill": {
     "duration": 0.061824,
     "end_time": "2022-11-15T10:53:26.609326",
     "exception": false,
     "start_time": "2022-11-15T10:53:26.547502",
     "status": "completed"
    },
    "tags": []
   },
   "source": [
    "Since we're getting maximum accuracy score with Random Forest Classifier so we choose it for making predictions on test.csv."
   ]
  },
  {
   "cell_type": "markdown",
   "id": "governmental-mambo",
   "metadata": {
    "papermill": {
     "duration": 0.062717,
     "end_time": "2022-11-15T10:53:26.734298",
     "exception": false,
     "start_time": "2022-11-15T10:53:26.671581",
     "status": "completed"
    },
    "tags": []
   },
   "source": [
    "# **Making Prediction for Test.csv 📝**"
   ]
  },
  {
   "cell_type": "code",
   "execution_count": 31,
   "id": "divided-exhibition",
   "metadata": {
    "execution": {
     "iopub.execute_input": "2022-11-15T10:53:26.874705Z",
     "iopub.status.busy": "2022-11-15T10:53:26.873453Z",
     "iopub.status.idle": "2022-11-15T10:53:26.908257Z",
     "shell.execute_reply": "2022-11-15T10:53:26.907611Z",
     "shell.execute_reply.started": "2021-06-21T07:44:28.331401Z"
    },
    "papermill": {
     "duration": 0.112053,
     "end_time": "2022-11-15T10:53:26.908418",
     "exception": false,
     "start_time": "2022-11-15T10:53:26.796365",
     "status": "completed"
    },
    "tags": []
   },
   "outputs": [
    {
     "data": {
      "text/html": [
       "<div>\n",
       "<style scoped>\n",
       "    .dataframe tbody tr th:only-of-type {\n",
       "        vertical-align: middle;\n",
       "    }\n",
       "\n",
       "    .dataframe tbody tr th {\n",
       "        vertical-align: top;\n",
       "    }\n",
       "\n",
       "    .dataframe thead th {\n",
       "        text-align: right;\n",
       "    }\n",
       "</style>\n",
       "<table border=\"1\" class=\"dataframe\">\n",
       "  <thead>\n",
       "    <tr style=\"text-align: right;\">\n",
       "      <th></th>\n",
       "      <th>PassengerId</th>\n",
       "      <th>Pclass</th>\n",
       "      <th>Name</th>\n",
       "      <th>Sex</th>\n",
       "      <th>Age</th>\n",
       "      <th>SibSp</th>\n",
       "      <th>Parch</th>\n",
       "      <th>Ticket</th>\n",
       "      <th>Fare</th>\n",
       "      <th>Cabin</th>\n",
       "      <th>Embarked</th>\n",
       "    </tr>\n",
       "  </thead>\n",
       "  <tbody>\n",
       "    <tr>\n",
       "      <th>0</th>\n",
       "      <td>892</td>\n",
       "      <td>3</td>\n",
       "      <td>Kelly, Mr. James</td>\n",
       "      <td>male</td>\n",
       "      <td>34.5</td>\n",
       "      <td>0</td>\n",
       "      <td>0</td>\n",
       "      <td>330911</td>\n",
       "      <td>7.8292</td>\n",
       "      <td>NaN</td>\n",
       "      <td>Q</td>\n",
       "    </tr>\n",
       "    <tr>\n",
       "      <th>1</th>\n",
       "      <td>893</td>\n",
       "      <td>3</td>\n",
       "      <td>Wilkes, Mrs. James (Ellen Needs)</td>\n",
       "      <td>female</td>\n",
       "      <td>47.0</td>\n",
       "      <td>1</td>\n",
       "      <td>0</td>\n",
       "      <td>363272</td>\n",
       "      <td>7.0000</td>\n",
       "      <td>NaN</td>\n",
       "      <td>S</td>\n",
       "    </tr>\n",
       "    <tr>\n",
       "      <th>2</th>\n",
       "      <td>894</td>\n",
       "      <td>2</td>\n",
       "      <td>Myles, Mr. Thomas Francis</td>\n",
       "      <td>male</td>\n",
       "      <td>62.0</td>\n",
       "      <td>0</td>\n",
       "      <td>0</td>\n",
       "      <td>240276</td>\n",
       "      <td>9.6875</td>\n",
       "      <td>NaN</td>\n",
       "      <td>Q</td>\n",
       "    </tr>\n",
       "    <tr>\n",
       "      <th>3</th>\n",
       "      <td>895</td>\n",
       "      <td>3</td>\n",
       "      <td>Wirz, Mr. Albert</td>\n",
       "      <td>male</td>\n",
       "      <td>27.0</td>\n",
       "      <td>0</td>\n",
       "      <td>0</td>\n",
       "      <td>315154</td>\n",
       "      <td>8.6625</td>\n",
       "      <td>NaN</td>\n",
       "      <td>S</td>\n",
       "    </tr>\n",
       "    <tr>\n",
       "      <th>4</th>\n",
       "      <td>896</td>\n",
       "      <td>3</td>\n",
       "      <td>Hirvonen, Mrs. Alexander (Helga E Lindqvist)</td>\n",
       "      <td>female</td>\n",
       "      <td>22.0</td>\n",
       "      <td>1</td>\n",
       "      <td>1</td>\n",
       "      <td>3101298</td>\n",
       "      <td>12.2875</td>\n",
       "      <td>NaN</td>\n",
       "      <td>S</td>\n",
       "    </tr>\n",
       "    <tr>\n",
       "      <th>5</th>\n",
       "      <td>897</td>\n",
       "      <td>3</td>\n",
       "      <td>Svensson, Mr. Johan Cervin</td>\n",
       "      <td>male</td>\n",
       "      <td>14.0</td>\n",
       "      <td>0</td>\n",
       "      <td>0</td>\n",
       "      <td>7538</td>\n",
       "      <td>9.2250</td>\n",
       "      <td>NaN</td>\n",
       "      <td>S</td>\n",
       "    </tr>\n",
       "    <tr>\n",
       "      <th>6</th>\n",
       "      <td>898</td>\n",
       "      <td>3</td>\n",
       "      <td>Connolly, Miss. Kate</td>\n",
       "      <td>female</td>\n",
       "      <td>30.0</td>\n",
       "      <td>0</td>\n",
       "      <td>0</td>\n",
       "      <td>330972</td>\n",
       "      <td>7.6292</td>\n",
       "      <td>NaN</td>\n",
       "      <td>Q</td>\n",
       "    </tr>\n",
       "    <tr>\n",
       "      <th>7</th>\n",
       "      <td>899</td>\n",
       "      <td>2</td>\n",
       "      <td>Caldwell, Mr. Albert Francis</td>\n",
       "      <td>male</td>\n",
       "      <td>26.0</td>\n",
       "      <td>1</td>\n",
       "      <td>1</td>\n",
       "      <td>248738</td>\n",
       "      <td>29.0000</td>\n",
       "      <td>NaN</td>\n",
       "      <td>S</td>\n",
       "    </tr>\n",
       "    <tr>\n",
       "      <th>8</th>\n",
       "      <td>900</td>\n",
       "      <td>3</td>\n",
       "      <td>Abrahim, Mrs. Joseph (Sophie Halaut Easu)</td>\n",
       "      <td>female</td>\n",
       "      <td>18.0</td>\n",
       "      <td>0</td>\n",
       "      <td>0</td>\n",
       "      <td>2657</td>\n",
       "      <td>7.2292</td>\n",
       "      <td>NaN</td>\n",
       "      <td>C</td>\n",
       "    </tr>\n",
       "    <tr>\n",
       "      <th>9</th>\n",
       "      <td>901</td>\n",
       "      <td>3</td>\n",
       "      <td>Davies, Mr. John Samuel</td>\n",
       "      <td>male</td>\n",
       "      <td>21.0</td>\n",
       "      <td>2</td>\n",
       "      <td>0</td>\n",
       "      <td>A/4 48871</td>\n",
       "      <td>24.1500</td>\n",
       "      <td>NaN</td>\n",
       "      <td>S</td>\n",
       "    </tr>\n",
       "  </tbody>\n",
       "</table>\n",
       "</div>"
      ],
      "text/plain": [
       "   PassengerId  Pclass                                          Name     Sex  \\\n",
       "0          892       3                              Kelly, Mr. James    male   \n",
       "1          893       3              Wilkes, Mrs. James (Ellen Needs)  female   \n",
       "2          894       2                     Myles, Mr. Thomas Francis    male   \n",
       "3          895       3                              Wirz, Mr. Albert    male   \n",
       "4          896       3  Hirvonen, Mrs. Alexander (Helga E Lindqvist)  female   \n",
       "5          897       3                    Svensson, Mr. Johan Cervin    male   \n",
       "6          898       3                          Connolly, Miss. Kate  female   \n",
       "7          899       2                  Caldwell, Mr. Albert Francis    male   \n",
       "8          900       3     Abrahim, Mrs. Joseph (Sophie Halaut Easu)  female   \n",
       "9          901       3                       Davies, Mr. John Samuel    male   \n",
       "\n",
       "    Age  SibSp  Parch     Ticket     Fare Cabin Embarked  \n",
       "0  34.5      0      0     330911   7.8292   NaN        Q  \n",
       "1  47.0      1      0     363272   7.0000   NaN        S  \n",
       "2  62.0      0      0     240276   9.6875   NaN        Q  \n",
       "3  27.0      0      0     315154   8.6625   NaN        S  \n",
       "4  22.0      1      1    3101298  12.2875   NaN        S  \n",
       "5  14.0      0      0       7538   9.2250   NaN        S  \n",
       "6  30.0      0      0     330972   7.6292   NaN        Q  \n",
       "7  26.0      1      1     248738  29.0000   NaN        S  \n",
       "8  18.0      0      0       2657   7.2292   NaN        C  \n",
       "9  21.0      2      0  A/4 48871  24.1500   NaN        S  "
      ]
     },
     "execution_count": 31,
     "metadata": {},
     "output_type": "execute_result"
    }
   ],
   "source": [
    "# Importing test.csv\n",
    "test_data = pd.read_csv('/kaggle/input/titanic/test.csv')\n",
    "test_data.head(10)"
   ]
  },
  {
   "cell_type": "code",
   "execution_count": 32,
   "id": "indonesian-smart",
   "metadata": {
    "execution": {
     "iopub.execute_input": "2022-11-15T10:53:27.051672Z",
     "iopub.status.busy": "2022-11-15T10:53:27.050726Z",
     "iopub.status.idle": "2022-11-15T10:53:27.055026Z",
     "shell.execute_reply": "2022-11-15T10:53:27.054468Z",
     "shell.execute_reply.started": "2021-06-21T07:44:28.375916Z"
    },
    "papermill": {
     "duration": 0.079806,
     "end_time": "2022-11-15T10:53:27.055182",
     "exception": false,
     "start_time": "2022-11-15T10:53:26.975376",
     "status": "completed"
    },
    "tags": []
   },
   "outputs": [
    {
     "name": "stdout",
     "output_type": "stream",
     "text": [
      "<class 'pandas.core.frame.DataFrame'>\n",
      "RangeIndex: 418 entries, 0 to 417\n",
      "Data columns (total 11 columns):\n",
      " #   Column       Non-Null Count  Dtype  \n",
      "---  ------       --------------  -----  \n",
      " 0   PassengerId  418 non-null    int64  \n",
      " 1   Pclass       418 non-null    int64  \n",
      " 2   Name         418 non-null    object \n",
      " 3   Sex          418 non-null    object \n",
      " 4   Age          332 non-null    float64\n",
      " 5   SibSp        418 non-null    int64  \n",
      " 6   Parch        418 non-null    int64  \n",
      " 7   Ticket       418 non-null    object \n",
      " 8   Fare         417 non-null    float64\n",
      " 9   Cabin        91 non-null     object \n",
      " 10  Embarked     418 non-null    object \n",
      "dtypes: float64(2), int64(4), object(5)\n",
      "memory usage: 36.0+ KB\n"
     ]
    }
   ],
   "source": [
    "test_data.info()"
   ]
  },
  {
   "cell_type": "code",
   "execution_count": 33,
   "id": "domestic-license",
   "metadata": {
    "execution": {
     "iopub.execute_input": "2022-11-15T10:53:27.190566Z",
     "iopub.status.busy": "2022-11-15T10:53:27.189844Z",
     "iopub.status.idle": "2022-11-15T10:53:27.194167Z",
     "shell.execute_reply": "2022-11-15T10:53:27.193492Z",
     "shell.execute_reply.started": "2021-06-21T07:44:28.400634Z"
    },
    "papermill": {
     "duration": 0.075816,
     "end_time": "2022-11-15T10:53:27.194336",
     "exception": false,
     "start_time": "2022-11-15T10:53:27.118520",
     "status": "completed"
    },
    "tags": []
   },
   "outputs": [
    {
     "data": {
      "text/plain": [
       "PassengerId      0\n",
       "Pclass           0\n",
       "Name             0\n",
       "Sex              0\n",
       "Age             86\n",
       "SibSp            0\n",
       "Parch            0\n",
       "Ticket           0\n",
       "Fare             1\n",
       "Cabin          327\n",
       "Embarked         0\n",
       "dtype: int64"
      ]
     },
     "execution_count": 33,
     "metadata": {},
     "output_type": "execute_result"
    }
   ],
   "source": [
    "test_data.isnull().sum()"
   ]
  },
  {
   "cell_type": "markdown",
   "id": "regular-navigator",
   "metadata": {
    "papermill": {
     "duration": 0.061212,
     "end_time": "2022-11-15T10:53:27.318028",
     "exception": false,
     "start_time": "2022-11-15T10:53:27.256816",
     "status": "completed"
    },
    "tags": []
   },
   "source": [
    "## **Data Preprocessing for testing data**"
   ]
  },
  {
   "cell_type": "code",
   "execution_count": 34,
   "id": "prostate-arrival",
   "metadata": {
    "execution": {
     "iopub.execute_input": "2022-11-15T10:53:27.447473Z",
     "iopub.status.busy": "2022-11-15T10:53:27.446759Z",
     "iopub.status.idle": "2022-11-15T10:53:27.458914Z",
     "shell.execute_reply": "2022-11-15T10:53:27.458369Z",
     "shell.execute_reply.started": "2021-06-21T07:44:28.422153Z"
    },
    "papermill": {
     "duration": 0.07947,
     "end_time": "2022-11-15T10:53:27.459125",
     "exception": false,
     "start_time": "2022-11-15T10:53:27.379655",
     "status": "completed"
    },
    "tags": []
   },
   "outputs": [
    {
     "data": {
      "text/plain": [
       "PassengerId      0\n",
       "Pclass           0\n",
       "Name             0\n",
       "Sex              0\n",
       "Age              0\n",
       "SibSp            0\n",
       "Parch            0\n",
       "Ticket           0\n",
       "Fare             0\n",
       "Cabin          327\n",
       "Embarked         0\n",
       "dtype: int64"
      ]
     },
     "execution_count": 34,
     "metadata": {},
     "output_type": "execute_result"
    }
   ],
   "source": [
    "# Replacing missing values of age column\n",
    "mean = test_data[\"Age\"].mean()\n",
    "std = test_data[\"Age\"].std()\n",
    "rand_age = np.random.randint(mean-std, mean+std, size = 86)\n",
    "age_slice = test_data[\"Age\"].copy()\n",
    "age_slice[np.isnan(age_slice)] = rand_age\n",
    "test_data[\"Age\"] = age_slice\n",
    "\n",
    "# Replacing missing value of Fare column\n",
    "test_data['Fare'].fillna(test_data['Fare'].mean(), inplace=True)\n",
    "\n",
    "test_data.isnull().sum()"
   ]
  },
  {
   "cell_type": "code",
   "execution_count": 35,
   "id": "difficult-nickname",
   "metadata": {
    "execution": {
     "iopub.execute_input": "2022-11-15T10:53:27.596776Z",
     "iopub.status.busy": "2022-11-15T10:53:27.596009Z",
     "iopub.status.idle": "2022-11-15T10:53:27.605617Z",
     "shell.execute_reply": "2022-11-15T10:53:27.605038Z",
     "shell.execute_reply.started": "2021-06-21T07:45:21.185631Z"
    },
    "papermill": {
     "duration": 0.084427,
     "end_time": "2022-11-15T10:53:27.605796",
     "exception": false,
     "start_time": "2022-11-15T10:53:27.521369",
     "status": "completed"
    },
    "tags": []
   },
   "outputs": [
    {
     "data": {
      "text/html": [
       "<div>\n",
       "<style scoped>\n",
       "    .dataframe tbody tr th:only-of-type {\n",
       "        vertical-align: middle;\n",
       "    }\n",
       "\n",
       "    .dataframe tbody tr th {\n",
       "        vertical-align: top;\n",
       "    }\n",
       "\n",
       "    .dataframe thead th {\n",
       "        text-align: right;\n",
       "    }\n",
       "</style>\n",
       "<table border=\"1\" class=\"dataframe\">\n",
       "  <thead>\n",
       "    <tr style=\"text-align: right;\">\n",
       "      <th></th>\n",
       "      <th>Pclass</th>\n",
       "      <th>Sex</th>\n",
       "      <th>Age</th>\n",
       "      <th>SibSp</th>\n",
       "      <th>Parch</th>\n",
       "      <th>Fare</th>\n",
       "      <th>Embarked</th>\n",
       "    </tr>\n",
       "  </thead>\n",
       "  <tbody>\n",
       "    <tr>\n",
       "      <th>0</th>\n",
       "      <td>3</td>\n",
       "      <td>male</td>\n",
       "      <td>34.5</td>\n",
       "      <td>0</td>\n",
       "      <td>0</td>\n",
       "      <td>7.8292</td>\n",
       "      <td>Q</td>\n",
       "    </tr>\n",
       "    <tr>\n",
       "      <th>1</th>\n",
       "      <td>3</td>\n",
       "      <td>female</td>\n",
       "      <td>47.0</td>\n",
       "      <td>1</td>\n",
       "      <td>0</td>\n",
       "      <td>7.0000</td>\n",
       "      <td>S</td>\n",
       "    </tr>\n",
       "    <tr>\n",
       "      <th>2</th>\n",
       "      <td>2</td>\n",
       "      <td>male</td>\n",
       "      <td>62.0</td>\n",
       "      <td>0</td>\n",
       "      <td>0</td>\n",
       "      <td>9.6875</td>\n",
       "      <td>Q</td>\n",
       "    </tr>\n",
       "    <tr>\n",
       "      <th>3</th>\n",
       "      <td>3</td>\n",
       "      <td>male</td>\n",
       "      <td>27.0</td>\n",
       "      <td>0</td>\n",
       "      <td>0</td>\n",
       "      <td>8.6625</td>\n",
       "      <td>S</td>\n",
       "    </tr>\n",
       "    <tr>\n",
       "      <th>4</th>\n",
       "      <td>3</td>\n",
       "      <td>female</td>\n",
       "      <td>22.0</td>\n",
       "      <td>1</td>\n",
       "      <td>1</td>\n",
       "      <td>12.2875</td>\n",
       "      <td>S</td>\n",
       "    </tr>\n",
       "    <tr>\n",
       "      <th>5</th>\n",
       "      <td>3</td>\n",
       "      <td>male</td>\n",
       "      <td>14.0</td>\n",
       "      <td>0</td>\n",
       "      <td>0</td>\n",
       "      <td>9.2250</td>\n",
       "      <td>S</td>\n",
       "    </tr>\n",
       "    <tr>\n",
       "      <th>6</th>\n",
       "      <td>3</td>\n",
       "      <td>female</td>\n",
       "      <td>30.0</td>\n",
       "      <td>0</td>\n",
       "      <td>0</td>\n",
       "      <td>7.6292</td>\n",
       "      <td>Q</td>\n",
       "    </tr>\n",
       "    <tr>\n",
       "      <th>7</th>\n",
       "      <td>2</td>\n",
       "      <td>male</td>\n",
       "      <td>26.0</td>\n",
       "      <td>1</td>\n",
       "      <td>1</td>\n",
       "      <td>29.0000</td>\n",
       "      <td>S</td>\n",
       "    </tr>\n",
       "    <tr>\n",
       "      <th>8</th>\n",
       "      <td>3</td>\n",
       "      <td>female</td>\n",
       "      <td>18.0</td>\n",
       "      <td>0</td>\n",
       "      <td>0</td>\n",
       "      <td>7.2292</td>\n",
       "      <td>C</td>\n",
       "    </tr>\n",
       "    <tr>\n",
       "      <th>9</th>\n",
       "      <td>3</td>\n",
       "      <td>male</td>\n",
       "      <td>21.0</td>\n",
       "      <td>2</td>\n",
       "      <td>0</td>\n",
       "      <td>24.1500</td>\n",
       "      <td>S</td>\n",
       "    </tr>\n",
       "  </tbody>\n",
       "</table>\n",
       "</div>"
      ],
      "text/plain": [
       "   Pclass     Sex   Age  SibSp  Parch     Fare Embarked\n",
       "0       3    male  34.5      0      0   7.8292        Q\n",
       "1       3  female  47.0      1      0   7.0000        S\n",
       "2       2    male  62.0      0      0   9.6875        Q\n",
       "3       3    male  27.0      0      0   8.6625        S\n",
       "4       3  female  22.0      1      1  12.2875        S\n",
       "5       3    male  14.0      0      0   9.2250        S\n",
       "6       3  female  30.0      0      0   7.6292        Q\n",
       "7       2    male  26.0      1      1  29.0000        S\n",
       "8       3  female  18.0      0      0   7.2292        C\n",
       "9       3    male  21.0      2      0  24.1500        S"
      ]
     },
     "execution_count": 35,
     "metadata": {},
     "output_type": "execute_result"
    }
   ],
   "source": [
    "col_to_drop = [\"PassengerId\", \"Ticket\", \"Cabin\", \"Name\"]\n",
    "test_data.drop(col_to_drop, axis=1, inplace=True)\n",
    "test_data.head(10)"
   ]
  },
  {
   "cell_type": "code",
   "execution_count": 36,
   "id": "suffering-scheduling",
   "metadata": {
    "execution": {
     "iopub.execute_input": "2022-11-15T10:53:27.752375Z",
     "iopub.status.busy": "2022-11-15T10:53:27.751656Z",
     "iopub.status.idle": "2022-11-15T10:53:27.756357Z",
     "shell.execute_reply": "2022-11-15T10:53:27.755681Z",
     "shell.execute_reply.started": "2021-06-21T07:45:47.938706Z"
    },
    "papermill": {
     "duration": 0.087872,
     "end_time": "2022-11-15T10:53:27.756663",
     "exception": false,
     "start_time": "2022-11-15T10:53:27.668791",
     "status": "completed"
    },
    "tags": []
   },
   "outputs": [
    {
     "data": {
      "text/html": [
       "<div>\n",
       "<style scoped>\n",
       "    .dataframe tbody tr th:only-of-type {\n",
       "        vertical-align: middle;\n",
       "    }\n",
       "\n",
       "    .dataframe tbody tr th {\n",
       "        vertical-align: top;\n",
       "    }\n",
       "\n",
       "    .dataframe thead th {\n",
       "        text-align: right;\n",
       "    }\n",
       "</style>\n",
       "<table border=\"1\" class=\"dataframe\">\n",
       "  <thead>\n",
       "    <tr style=\"text-align: right;\">\n",
       "      <th></th>\n",
       "      <th>Pclass</th>\n",
       "      <th>Sex</th>\n",
       "      <th>Age</th>\n",
       "      <th>SibSp</th>\n",
       "      <th>Parch</th>\n",
       "      <th>Fare</th>\n",
       "      <th>Embarked</th>\n",
       "    </tr>\n",
       "  </thead>\n",
       "  <tbody>\n",
       "    <tr>\n",
       "      <th>0</th>\n",
       "      <td>3</td>\n",
       "      <td>0</td>\n",
       "      <td>34.5</td>\n",
       "      <td>0</td>\n",
       "      <td>0</td>\n",
       "      <td>7.8292</td>\n",
       "      <td>2</td>\n",
       "    </tr>\n",
       "    <tr>\n",
       "      <th>1</th>\n",
       "      <td>3</td>\n",
       "      <td>1</td>\n",
       "      <td>47.0</td>\n",
       "      <td>1</td>\n",
       "      <td>0</td>\n",
       "      <td>7.0000</td>\n",
       "      <td>0</td>\n",
       "    </tr>\n",
       "    <tr>\n",
       "      <th>2</th>\n",
       "      <td>2</td>\n",
       "      <td>0</td>\n",
       "      <td>62.0</td>\n",
       "      <td>0</td>\n",
       "      <td>0</td>\n",
       "      <td>9.6875</td>\n",
       "      <td>2</td>\n",
       "    </tr>\n",
       "    <tr>\n",
       "      <th>3</th>\n",
       "      <td>3</td>\n",
       "      <td>0</td>\n",
       "      <td>27.0</td>\n",
       "      <td>0</td>\n",
       "      <td>0</td>\n",
       "      <td>8.6625</td>\n",
       "      <td>0</td>\n",
       "    </tr>\n",
       "    <tr>\n",
       "      <th>4</th>\n",
       "      <td>3</td>\n",
       "      <td>1</td>\n",
       "      <td>22.0</td>\n",
       "      <td>1</td>\n",
       "      <td>1</td>\n",
       "      <td>12.2875</td>\n",
       "      <td>0</td>\n",
       "    </tr>\n",
       "  </tbody>\n",
       "</table>\n",
       "</div>"
      ],
      "text/plain": [
       "   Pclass  Sex   Age  SibSp  Parch     Fare  Embarked\n",
       "0       3    0  34.5      0      0   7.8292         2\n",
       "1       3    1  47.0      1      0   7.0000         0\n",
       "2       2    0  62.0      0      0   9.6875         2\n",
       "3       3    0  27.0      0      0   8.6625         0\n",
       "4       3    1  22.0      1      1  12.2875         0"
      ]
     },
     "execution_count": 36,
     "metadata": {},
     "output_type": "execute_result"
    }
   ],
   "source": [
    "genders = {\"male\":0, \"female\":1}\n",
    "test_data[\"Sex\"] = test_data[\"Sex\"].map(genders)\n",
    "\n",
    "ports = {\"S\":0, \"C\":1, \"Q\":2}\n",
    "test_data[\"Embarked\"] = test_data[\"Embarked\"].map(ports)\n",
    "\n",
    "test_data.head()"
   ]
  },
  {
   "cell_type": "markdown",
   "id": "designed-rebel",
   "metadata": {
    "papermill": {
     "duration": 0.063586,
     "end_time": "2022-11-15T10:53:27.885428",
     "exception": false,
     "start_time": "2022-11-15T10:53:27.821842",
     "status": "completed"
    },
    "tags": []
   },
   "source": [
    "# **Final Submission ✔️**"
   ]
  },
  {
   "cell_type": "code",
   "execution_count": 37,
   "id": "complex-treaty",
   "metadata": {
    "execution": {
     "iopub.execute_input": "2022-11-15T10:53:28.021457Z",
     "iopub.status.busy": "2022-11-15T10:53:28.020744Z",
     "iopub.status.idle": "2022-11-15T10:53:28.053474Z",
     "shell.execute_reply": "2022-11-15T10:53:28.052787Z",
     "shell.execute_reply.started": "2021-06-21T07:56:58.58232Z"
    },
    "papermill": {
     "duration": 0.104403,
     "end_time": "2022-11-15T10:53:28.053644",
     "exception": false,
     "start_time": "2022-11-15T10:53:27.949241",
     "status": "completed"
    },
    "tags": []
   },
   "outputs": [
    {
     "data": {
      "text/html": [
       "<div>\n",
       "<style scoped>\n",
       "    .dataframe tbody tr th:only-of-type {\n",
       "        vertical-align: middle;\n",
       "    }\n",
       "\n",
       "    .dataframe tbody tr th {\n",
       "        vertical-align: top;\n",
       "    }\n",
       "\n",
       "    .dataframe thead th {\n",
       "        text-align: right;\n",
       "    }\n",
       "</style>\n",
       "<table border=\"1\" class=\"dataframe\">\n",
       "  <thead>\n",
       "    <tr style=\"text-align: right;\">\n",
       "      <th></th>\n",
       "      <th>PassengerId</th>\n",
       "      <th>Survived</th>\n",
       "    </tr>\n",
       "  </thead>\n",
       "  <tbody>\n",
       "    <tr>\n",
       "      <th>0</th>\n",
       "      <td>892</td>\n",
       "      <td>0</td>\n",
       "    </tr>\n",
       "    <tr>\n",
       "      <th>1</th>\n",
       "      <td>893</td>\n",
       "      <td>0</td>\n",
       "    </tr>\n",
       "    <tr>\n",
       "      <th>2</th>\n",
       "      <td>894</td>\n",
       "      <td>0</td>\n",
       "    </tr>\n",
       "    <tr>\n",
       "      <th>3</th>\n",
       "      <td>895</td>\n",
       "      <td>1</td>\n",
       "    </tr>\n",
       "    <tr>\n",
       "      <th>4</th>\n",
       "      <td>896</td>\n",
       "      <td>0</td>\n",
       "    </tr>\n",
       "    <tr>\n",
       "      <th>5</th>\n",
       "      <td>897</td>\n",
       "      <td>0</td>\n",
       "    </tr>\n",
       "    <tr>\n",
       "      <th>6</th>\n",
       "      <td>898</td>\n",
       "      <td>1</td>\n",
       "    </tr>\n",
       "    <tr>\n",
       "      <th>7</th>\n",
       "      <td>899</td>\n",
       "      <td>0</td>\n",
       "    </tr>\n",
       "    <tr>\n",
       "      <th>8</th>\n",
       "      <td>900</td>\n",
       "      <td>1</td>\n",
       "    </tr>\n",
       "    <tr>\n",
       "      <th>9</th>\n",
       "      <td>901</td>\n",
       "      <td>0</td>\n",
       "    </tr>\n",
       "    <tr>\n",
       "      <th>10</th>\n",
       "      <td>902</td>\n",
       "      <td>0</td>\n",
       "    </tr>\n",
       "    <tr>\n",
       "      <th>11</th>\n",
       "      <td>903</td>\n",
       "      <td>0</td>\n",
       "    </tr>\n",
       "    <tr>\n",
       "      <th>12</th>\n",
       "      <td>904</td>\n",
       "      <td>1</td>\n",
       "    </tr>\n",
       "    <tr>\n",
       "      <th>13</th>\n",
       "      <td>905</td>\n",
       "      <td>0</td>\n",
       "    </tr>\n",
       "    <tr>\n",
       "      <th>14</th>\n",
       "      <td>906</td>\n",
       "      <td>1</td>\n",
       "    </tr>\n",
       "    <tr>\n",
       "      <th>15</th>\n",
       "      <td>907</td>\n",
       "      <td>1</td>\n",
       "    </tr>\n",
       "    <tr>\n",
       "      <th>16</th>\n",
       "      <td>908</td>\n",
       "      <td>0</td>\n",
       "    </tr>\n",
       "    <tr>\n",
       "      <th>17</th>\n",
       "      <td>909</td>\n",
       "      <td>1</td>\n",
       "    </tr>\n",
       "    <tr>\n",
       "      <th>18</th>\n",
       "      <td>910</td>\n",
       "      <td>0</td>\n",
       "    </tr>\n",
       "    <tr>\n",
       "      <th>19</th>\n",
       "      <td>911</td>\n",
       "      <td>1</td>\n",
       "    </tr>\n",
       "  </tbody>\n",
       "</table>\n",
       "</div>"
      ],
      "text/plain": [
       "    PassengerId  Survived\n",
       "0           892         0\n",
       "1           893         0\n",
       "2           894         0\n",
       "3           895         1\n",
       "4           896         0\n",
       "5           897         0\n",
       "6           898         1\n",
       "7           899         0\n",
       "8           900         1\n",
       "9           901         0\n",
       "10          902         0\n",
       "11          903         0\n",
       "12          904         1\n",
       "13          905         0\n",
       "14          906         1\n",
       "15          907         1\n",
       "16          908         0\n",
       "17          909         1\n",
       "18          910         0\n",
       "19          911         1"
      ]
     },
     "execution_count": 37,
     "metadata": {},
     "output_type": "execute_result"
    }
   ],
   "source": [
    "x_test = test_data\n",
    "y_pred = clf1.predict(x_test)\n",
    "originaltest_data = pd.read_csv('/kaggle/input/titanic/test.csv')\n",
    "submission = pd.DataFrame({\n",
    "        \"PassengerId\": originaltest_data[\"PassengerId\"],\n",
    "        \"Survived\": y_pred\n",
    "    })\n",
    "submission.head(20)"
   ]
  }
 ],
 "metadata": {
  "kernelspec": {
   "display_name": "Python 3",
   "language": "python",
   "name": "python3"
  },
  "language_info": {
   "codemirror_mode": {
    "name": "ipython",
    "version": 3
   },
   "file_extension": ".py",
   "mimetype": "text/x-python",
   "name": "python",
   "nbconvert_exporter": "python",
   "pygments_lexer": "ipython3",
   "version": "3.7.10"
  },
  "papermill": {
   "default_parameters": {},
   "duration": 23.960169,
   "end_time": "2022-11-15T10:53:29.790608",
   "environment_variables": {},
   "exception": null,
   "input_path": "__notebook__.ipynb",
   "output_path": "__notebook__.ipynb",
   "parameters": {},
   "start_time": "2022-11-15T10:53:05.830439",
   "version": "2.3.3"
  }
 },
 "nbformat": 4,
 "nbformat_minor": 5
}
