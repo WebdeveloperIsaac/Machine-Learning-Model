{
 "cells": [
  {
   "cell_type": "markdown",
   "id": "c4d4bfe6",
   "metadata": {
    "papermill": {
     "duration": 0.005458,
     "end_time": "2022-09-11T16:06:09.386926",
     "exception": false,
     "start_time": "2022-09-11T16:06:09.381468",
     "status": "completed"
    },
    "tags": []
   },
   "source": [
    "# Introduction\n",
    "\n",
    "The first step in most data analytics projects is reading the data file. In this exercise, you'll create Series and DataFrame objects, both by hand and by reading data files.\n",
    "\n",
    "Run the code cell below to load libraries you will need (including code to check your answers)."
   ]
  },
  {
   "cell_type": "code",
   "execution_count": 1,
   "id": "5b2b89e8",
   "metadata": {
    "execution": {
     "iopub.execute_input": "2022-09-11T16:06:09.399091Z",
     "iopub.status.busy": "2022-09-11T16:06:09.398187Z",
     "iopub.status.idle": "2022-09-11T16:06:11.031001Z",
     "shell.execute_reply": "2022-09-11T16:06:11.029753Z"
    },
    "papermill": {
     "duration": 1.64202,
     "end_time": "2022-09-11T16:06:11.034479",
     "exception": false,
     "start_time": "2022-09-11T16:06:09.392459",
     "status": "completed"
    },
    "tags": []
   },
   "outputs": [
    {
     "name": "stdout",
     "output_type": "stream",
     "text": [
      "Setup complete.\n"
     ]
    }
   ],
   "source": [
    "import pandas as pd\n",
    "pd.set_option('max_rows', 5)\n",
    "from learntools.core import binder; binder.bind(globals())\n",
    "from learntools.pandas.creating_reading_and_writing import *\n",
    "print(\"Setup complete.\")"
   ]
  },
  {
   "cell_type": "markdown",
   "id": "568ffff0",
   "metadata": {
    "papermill": {
     "duration": 0.004085,
     "end_time": "2022-09-11T16:06:11.044081",
     "exception": false,
     "start_time": "2022-09-11T16:06:11.039996",
     "status": "completed"
    },
    "tags": []
   },
   "source": [
    "# Exercises"
   ]
  },
  {
   "cell_type": "markdown",
   "id": "3d7272e0",
   "metadata": {
    "papermill": {
     "duration": 0.003739,
     "end_time": "2022-09-11T16:06:11.052087",
     "exception": false,
     "start_time": "2022-09-11T16:06:11.048348",
     "status": "completed"
    },
    "tags": []
   },
   "source": [
    "## 1.\n",
    "\n",
    "In the cell below, create a DataFrame `fruits` that looks like this:\n",
    "\n",
    "![](https://i.imgur.com/Ax3pp2A.png)"
   ]
  },
  {
   "cell_type": "code",
   "execution_count": 2,
   "id": "c311008b",
   "metadata": {
    "execution": {
     "iopub.execute_input": "2022-09-11T16:06:11.063033Z",
     "iopub.status.busy": "2022-09-11T16:06:11.062076Z",
     "iopub.status.idle": "2022-09-11T16:06:11.073428Z",
     "shell.execute_reply": "2022-09-11T16:06:11.072594Z"
    },
    "papermill": {
     "duration": 0.019231,
     "end_time": "2022-09-11T16:06:11.075598",
     "exception": false,
     "start_time": "2022-09-11T16:06:11.056367",
     "status": "completed"
    },
    "tags": []
   },
   "outputs": [
    {
     "data": {
      "application/javascript": [
       "parent.postMessage({\"jupyterEvent\": \"custom.exercise_interaction\", \"data\": {\"outcomeType\": 1, \"valueTowardsCompletion\": 0.16666666666666666, \"interactionType\": 1, \"questionType\": 1, \"questionId\": \"1_FruitDfCreation\", \"learnToolsVersion\": \"0.3.4\", \"failureMessage\": \"\", \"exceptionClass\": \"\", \"trace\": \"\"}}, \"*\")"
      ],
      "text/plain": [
       "<IPython.core.display.Javascript object>"
      ]
     },
     "metadata": {},
     "output_type": "display_data"
    },
    {
     "data": {
      "text/markdown": [
       "<span style=\"color:#33cc33\">Correct</span>"
      ],
      "text/plain": [
       "Correct"
      ]
     },
     "metadata": {},
     "output_type": "display_data"
    }
   ],
   "source": [
    "# Your code goes here. Create a dataframe matching the above diagram and assign it to the variable fruits.\n",
    "fruits = pd.DataFrame({\"Apples\":[30],\"Bananas\":[21]})\n",
    "\n",
    "# Check your answer\n",
    "q1.check()"
   ]
  },
  {
   "cell_type": "markdown",
   "id": "c3a55b08",
   "metadata": {
    "papermill": {
     "duration": 0.004217,
     "end_time": "2022-09-11T16:06:11.084304",
     "exception": false,
     "start_time": "2022-09-11T16:06:11.080087",
     "status": "completed"
    },
    "tags": []
   },
   "source": [
    "## 2.\n",
    "\n",
    "Create a dataframe `fruit_sales` that matches the diagram below:\n",
    "\n",
    "![](https://i.imgur.com/CHPn7ZF.png)"
   ]
  },
  {
   "cell_type": "code",
   "execution_count": 3,
   "id": "ef0104eb",
   "metadata": {
    "execution": {
     "iopub.execute_input": "2022-09-11T16:06:11.095330Z",
     "iopub.status.busy": "2022-09-11T16:06:11.094607Z",
     "iopub.status.idle": "2022-09-11T16:06:11.110652Z",
     "shell.execute_reply": "2022-09-11T16:06:11.109660Z"
    },
    "papermill": {
     "duration": 0.02465,
     "end_time": "2022-09-11T16:06:11.113411",
     "exception": false,
     "start_time": "2022-09-11T16:06:11.088761",
     "status": "completed"
    },
    "tags": []
   },
   "outputs": [
    {
     "name": "stdout",
     "output_type": "stream",
     "text": [
      "            Apples  Bananas\n",
      "2017 Sales      35       21\n",
      "2018 Sales      41       34\n"
     ]
    },
    {
     "data": {
      "application/javascript": [
       "parent.postMessage({\"jupyterEvent\": \"custom.exercise_interaction\", \"data\": {\"outcomeType\": 1, \"valueTowardsCompletion\": 0.16666666666666666, \"interactionType\": 1, \"questionType\": 1, \"questionId\": \"2_FruitSalesDfCreation\", \"learnToolsVersion\": \"0.3.4\", \"failureMessage\": \"\", \"exceptionClass\": \"\", \"trace\": \"\"}}, \"*\")"
      ],
      "text/plain": [
       "<IPython.core.display.Javascript object>"
      ]
     },
     "metadata": {},
     "output_type": "display_data"
    },
    {
     "data": {
      "text/markdown": [
       "<span style=\"color:#33cc33\">Correct</span>"
      ],
      "text/plain": [
       "Correct"
      ]
     },
     "metadata": {},
     "output_type": "display_data"
    }
   ],
   "source": [
    "# Your code goes here. Create a dataframe matching the above diagram and assign it to the variable fruit_sales.\n",
    "fruit_sales = pd.DataFrame([[35, 21], [41, 34]], columns=['Apples', 'Bananas'],\n",
    "                index=['2017 Sales', '2018 Sales'])\n",
    "print(fruit_sales)\n",
    "# Check your answer\n",
    "q2.check()"
   ]
  },
  {
   "cell_type": "code",
   "execution_count": null,
   "id": "2400c601",
   "metadata": {
    "jupyter": {
     "source_hidden": true
    },
    "papermill": {
     "duration": 0.004607,
     "end_time": "2022-09-11T16:06:11.123031",
     "exception": false,
     "start_time": "2022-09-11T16:06:11.118424",
     "status": "completed"
    },
    "tags": []
   },
   "outputs": [],
   "source": []
  },
  {
   "cell_type": "markdown",
   "id": "a743e3e4",
   "metadata": {
    "papermill": {
     "duration": 0.004361,
     "end_time": "2022-09-11T16:06:11.132121",
     "exception": false,
     "start_time": "2022-09-11T16:06:11.127760",
     "status": "completed"
    },
    "tags": []
   },
   "source": [
    "## 3.\n",
    "\n",
    "Create a variable `ingredients` with a Series that looks like:\n",
    "\n",
    "```\n",
    "Flour     4 cups\n",
    "Milk       1 cup\n",
    "Eggs     2 large\n",
    "Spam       1 can\n",
    "Name: Dinner, dtype: object\n",
    "```"
   ]
  },
  {
   "cell_type": "code",
   "execution_count": 4,
   "id": "b5156fb5",
   "metadata": {
    "execution": {
     "iopub.execute_input": "2022-09-11T16:06:11.143712Z",
     "iopub.status.busy": "2022-09-11T16:06:11.142883Z",
     "iopub.status.idle": "2022-09-11T16:06:11.153813Z",
     "shell.execute_reply": "2022-09-11T16:06:11.152662Z"
    },
    "papermill": {
     "duration": 0.019444,
     "end_time": "2022-09-11T16:06:11.156271",
     "exception": false,
     "start_time": "2022-09-11T16:06:11.136827",
     "status": "completed"
    },
    "tags": []
   },
   "outputs": [
    {
     "data": {
      "application/javascript": [
       "parent.postMessage({\"jupyterEvent\": \"custom.exercise_interaction\", \"data\": {\"outcomeType\": 1, \"valueTowardsCompletion\": 0.16666666666666666, \"interactionType\": 1, \"questionType\": 2, \"questionId\": \"3_RecipeSeriesCreation\", \"learnToolsVersion\": \"0.3.4\", \"failureMessage\": \"\", \"exceptionClass\": \"\", \"trace\": \"\"}}, \"*\")"
      ],
      "text/plain": [
       "<IPython.core.display.Javascript object>"
      ]
     },
     "metadata": {},
     "output_type": "display_data"
    },
    {
     "data": {
      "text/markdown": [
       "<span style=\"color:#33cc33\">Correct</span>"
      ],
      "text/plain": [
       "Correct"
      ]
     },
     "metadata": {},
     "output_type": "display_data"
    }
   ],
   "source": [
    "ingredients = pd.Series([\"4 cups\",\"1 cup\",\"2 large\",\"1 can\"],index=[\"Flour\",\"Milk\",\"Eggs\",\"Spam\"])\n",
    "ingredients.name=\"Dinner\"\n",
    "# Check your answer\n",
    "q3.check()"
   ]
  },
  {
   "cell_type": "markdown",
   "id": "d0eabe3c",
   "metadata": {
    "papermill": {
     "duration": 0.004782,
     "end_time": "2022-09-11T16:06:11.166214",
     "exception": false,
     "start_time": "2022-09-11T16:06:11.161432",
     "status": "completed"
    },
    "tags": []
   },
   "source": [
    "## 4.\n",
    "\n",
    "Read the following csv dataset of wine reviews into a DataFrame called `reviews`:\n",
    "\n",
    "![](https://i.imgur.com/74RCZtU.png)\n",
    "\n",
    "The filepath to the csv file is `../input/wine-reviews/winemag-data_first150k.csv`. The first few lines look like:\n",
    "\n",
    "```\n",
    ",country,description,designation,points,price,province,region_1,region_2,variety,winery\n",
    "0,US,\"This tremendous 100% varietal wine[...]\",Martha's Vineyard,96,235.0,California,Napa Valley,Napa,Cabernet Sauvignon,Heitz\n",
    "1,Spain,\"Ripe aromas of fig, blackberry and[...]\",Carodorum Selección Especial Reserva,96,110.0,Northern Spain,Toro,,Tinta de Toro,Bodega Carmen Rodríguez\n",
    "```"
   ]
  },
  {
   "cell_type": "code",
   "execution_count": 5,
   "id": "681c776e",
   "metadata": {
    "execution": {
     "iopub.execute_input": "2022-09-11T16:06:11.179133Z",
     "iopub.status.busy": "2022-09-11T16:06:11.178279Z",
     "iopub.status.idle": "2022-09-11T16:06:12.079704Z",
     "shell.execute_reply": "2022-09-11T16:06:12.078556Z"
    },
    "papermill": {
     "duration": 0.910707,
     "end_time": "2022-09-11T16:06:12.082376",
     "exception": false,
     "start_time": "2022-09-11T16:06:11.171669",
     "status": "completed"
    },
    "tags": []
   },
   "outputs": [
    {
     "data": {
      "application/javascript": [
       "parent.postMessage({\"jupyterEvent\": \"custom.exercise_interaction\", \"data\": {\"outcomeType\": 1, \"valueTowardsCompletion\": 0.16666666666666666, \"interactionType\": 1, \"questionType\": 1, \"questionId\": \"4_ReadWineCsv\", \"learnToolsVersion\": \"0.3.4\", \"failureMessage\": \"\", \"exceptionClass\": \"\", \"trace\": \"\"}}, \"*\")"
      ],
      "text/plain": [
       "<IPython.core.display.Javascript object>"
      ]
     },
     "metadata": {},
     "output_type": "display_data"
    },
    {
     "data": {
      "text/markdown": [
       "<span style=\"color:#33cc33\">Correct</span>"
      ],
      "text/plain": [
       "Correct"
      ]
     },
     "metadata": {},
     "output_type": "display_data"
    }
   ],
   "source": [
    "reviews = pd.read_csv(\"../input/wine-reviews/winemag-data_first150k.csv\",index_col=0)\n",
    "\n",
    "# Check your answer\n",
    "q4.check()"
   ]
  },
  {
   "cell_type": "markdown",
   "id": "0ba0bb30",
   "metadata": {
    "papermill": {
     "duration": 0.004958,
     "end_time": "2022-09-11T16:06:12.092871",
     "exception": false,
     "start_time": "2022-09-11T16:06:12.087913",
     "status": "completed"
    },
    "tags": []
   },
   "source": [
    "## 5.\n",
    "\n",
    "Run the cell below to create and display a DataFrame called `animals`:"
   ]
  },
  {
   "cell_type": "code",
   "execution_count": 6,
   "id": "92a7cf6a",
   "metadata": {
    "execution": {
     "iopub.execute_input": "2022-09-11T16:06:12.105557Z",
     "iopub.status.busy": "2022-09-11T16:06:12.104903Z",
     "iopub.status.idle": "2022-09-11T16:06:12.110354Z",
     "shell.execute_reply": "2022-09-11T16:06:12.109413Z"
    },
    "papermill": {
     "duration": 0.014453,
     "end_time": "2022-09-11T16:06:12.112670",
     "exception": false,
     "start_time": "2022-09-11T16:06:12.098217",
     "status": "completed"
    },
    "tags": []
   },
   "outputs": [],
   "source": [
    "animals = pd.DataFrame({'Cows': [12, 20], 'Goats': [22, 19]}, index=['Year 1', 'Year 2'])\n"
   ]
  },
  {
   "cell_type": "markdown",
   "id": "41132ab0",
   "metadata": {
    "papermill": {
     "duration": 0.004824,
     "end_time": "2022-09-11T16:06:12.122721",
     "exception": false,
     "start_time": "2022-09-11T16:06:12.117897",
     "status": "completed"
    },
    "tags": []
   },
   "source": [
    "In the cell below, write code to save this DataFrame to disk as a csv file with the name `cows_and_goats.csv`."
   ]
  },
  {
   "cell_type": "code",
   "execution_count": 7,
   "id": "43741561",
   "metadata": {
    "execution": {
     "iopub.execute_input": "2022-09-11T16:06:12.135555Z",
     "iopub.status.busy": "2022-09-11T16:06:12.134429Z",
     "iopub.status.idle": "2022-09-11T16:06:12.149297Z",
     "shell.execute_reply": "2022-09-11T16:06:12.148392Z"
    },
    "papermill": {
     "duration": 0.023904,
     "end_time": "2022-09-11T16:06:12.151896",
     "exception": false,
     "start_time": "2022-09-11T16:06:12.127992",
     "status": "completed"
    },
    "tags": []
   },
   "outputs": [
    {
     "data": {
      "application/javascript": [
       "parent.postMessage({\"jupyterEvent\": \"custom.exercise_interaction\", \"data\": {\"outcomeType\": 1, \"valueTowardsCompletion\": 0.16666666666666666, \"interactionType\": 1, \"questionType\": 2, \"questionId\": \"5_SaveAnimalsCsv\", \"learnToolsVersion\": \"0.3.4\", \"failureMessage\": \"\", \"exceptionClass\": \"\", \"trace\": \"\"}}, \"*\")"
      ],
      "text/plain": [
       "<IPython.core.display.Javascript object>"
      ]
     },
     "metadata": {},
     "output_type": "display_data"
    },
    {
     "data": {
      "text/markdown": [
       "<span style=\"color:#33cc33\">Correct</span>"
      ],
      "text/plain": [
       "Correct"
      ]
     },
     "metadata": {},
     "output_type": "display_data"
    }
   ],
   "source": [
    "# Your code goes here\n",
    "animals.to_csv(\"cows_and_goats.csv\")\n",
    "# Check your answer\n",
    "q5.check()"
   ]
  }
 ],
 "metadata": {
  "kernelspec": {
   "display_name": "Python 3",
   "language": "python",
   "name": "python3"
  },
  "language_info": {
   "codemirror_mode": {
    "name": "ipython",
    "version": 3
   },
   "file_extension": ".py",
   "mimetype": "text/x-python",
   "name": "python",
   "nbconvert_exporter": "python",
   "pygments_lexer": "ipython3",
   "version": "3.7.12"
  },
  "papermill": {
   "default_parameters": {},
   "duration": 13.17339,
   "end_time": "2022-09-11T16:06:12.880478",
   "environment_variables": {},
   "exception": null,
   "input_path": "__notebook__.ipynb",
   "output_path": "__notebook__.ipynb",
   "parameters": {},
   "start_time": "2022-09-11T16:05:59.707088",
   "version": "2.3.4"
  }
 },
 "nbformat": 4,
 "nbformat_minor": 5
}
